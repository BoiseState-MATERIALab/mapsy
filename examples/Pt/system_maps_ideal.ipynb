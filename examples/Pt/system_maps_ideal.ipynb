{
 "cells": [
  {
   "cell_type": "markdown",
   "metadata": {},
   "source": [
    "# Benchmarks and Tests of Maps for Single-Element Substrates"
   ]
  },
  {
   "cell_type": "code",
   "execution_count": null,
   "metadata": {},
   "outputs": [],
   "source": [
    "import numpy as np\n",
    "import pandas as pd\n",
    "import matplotlib.pyplot as plt"
   ]
  },
  {
   "cell_type": "markdown",
   "metadata": {},
   "source": [
    "## Pt(111) Surface"
   ]
  },
  {
   "cell_type": "markdown",
   "metadata": {},
   "source": [
    "Generate the ASE.Atoms instance using the fcc111 build function. "
   ]
  },
  {
   "cell_type": "code",
   "execution_count": null,
   "metadata": {},
   "outputs": [],
   "source": [
    "from ase.build import fcc111\n",
    "Pt111 = fcc111(\"Pt\",size=(4,4,3),a=3.94,orthogonal=True,periodic=True,vacuum = 10)"
   ]
  },
  {
   "cell_type": "markdown",
   "metadata": {},
   "source": [
    "From the `ASE.Cell` and the generated `ASE.Atoms`, create a `MapSy.Grid` and a `MapSy.System`"
   ]
  },
  {
   "cell_type": "code",
   "execution_count": null,
   "metadata": {},
   "outputs": [],
   "source": [
    "from mapsy.data import Grid\n",
    "grid: Grid = Grid(cell=Pt111.cell)"
   ]
  },
  {
   "cell_type": "code",
   "execution_count": null,
   "metadata": {},
   "outputs": [],
   "source": [
    "from mapsy.data import System\n",
    "system: System = System(grid, Pt111, dimension=2, axis=2)"
   ]
  },
  {
   "cell_type": "code",
   "execution_count": null,
   "metadata": {},
   "outputs": [],
   "source": [
    "from mapsy.io.parser import ContactSpaceGenerator, ContactSpaceModel\n",
    "contactspacesettings = ContactSpaceModel.parse_obj({\"mode\": \"system\", \"distance\": 3.5, \"spread\": 1.0, \"cutoff\": 80, \"threshold\": 0.54})\n",
    "contactspacesettings = ContactSpaceModel.parse_obj({\"mode\": \"ionic\", \"cutoff\": 20, \"spread\" : 1.0, \"threshold\": 0.4})\n",
    "contactspace = ContactSpaceGenerator(contactspacesettings).generate(system)"
   ]
  },
  {
   "cell_type": "code",
   "execution_count": null,
   "metadata": {},
   "outputs": [],
   "source": [
    "contactspace.data"
   ]
  },
  {
   "cell_type": "code",
   "execution_count": null,
   "metadata": {},
   "outputs": [],
   "source": [
    "from mapsy.symfunc.input import SymmetryFunctionsModel, SymFuncModel\n",
    "from mapsy.symfunc.parser import SymmetryFunctionsParser\n",
    "symfuncsettings = SymmetryFunctionsModel.parse_obj({\"functions\": [SymFuncModel.parse_obj({\"type\":\"ac\",\"radius\":4.5,\"order\":10,\"compositional\":False,\"structural\":True}),SymFuncModel.parse_obj({\"type\":\"ac\",\"radius\":4.5,\"order\":10,\"compositional\":False,\"structural\":True,\"radial\":False})]})\n",
    "symmetryfunctions = SymmetryFunctionsParser(symfuncsettings).parse()"
   ]
  },
  {
   "cell_type": "code",
   "execution_count": null,
   "metadata": {},
   "outputs": [],
   "source": [
    "from mapsy.maps import Maps\n",
    "maps = Maps(system,symmetryfunctions,contactspace)"
   ]
  },
  {
   "cell_type": "code",
   "execution_count": null,
   "metadata": {},
   "outputs": [],
   "source": [
    "data = maps.atcontactspace()"
   ]
  },
  {
   "cell_type": "markdown",
   "metadata": {},
   "source": [
    "We can visualize features to check how they look using `Maps.plot(feature: str)` or `Maps.plot(index: int)`. NOTE: to get the top face of the slab, we need to select `region=1`. "
   ]
  },
  {
   "cell_type": "code",
   "execution_count": null,
   "metadata": {},
   "outputs": [],
   "source": [
    "fig, axes = maps.scatter(index=4, cmap='Spectral', region=0, splitby='z', set_aspect='scaled')\n",
    "plt.show()"
   ]
  },
  {
   "cell_type": "markdown",
   "metadata": {},
   "source": [
    "## Dimensionality Reduction (PCA)"
   ]
  },
  {
   "cell_type": "markdown",
   "metadata": {},
   "source": [
    "For visualization and post-processing purposes, perform dimensionality reduction on the generated features. Three components are useful for 2D and 3D plots."
   ]
  },
  {
   "cell_type": "code",
   "execution_count": null,
   "metadata": {},
   "outputs": [],
   "source": [
    "maps.reduce(4)"
   ]
  },
  {
   "cell_type": "markdown",
   "metadata": {},
   "source": [
    "We can visually inspect how the PCAs correlate with the Cartesian coordinates of the points (e.g., PCA3 distinguishes between HCP and FCC hollow sites)"
   ]
  },
  {
   "cell_type": "code",
   "execution_count": null,
   "metadata": {},
   "outputs": [],
   "source": [
    "maps.scatter(feature='pca1', axes=['x', 'y'],cmap='Spectral', splitby='z', region=1, set_aspect='scaled')\n",
    "plt.show()"
   ]
  },
  {
   "cell_type": "markdown",
   "metadata": {},
   "source": [
    "We can also verify how the contact space is transformed (folded) in the symmetry function space. "
   ]
  },
  {
   "cell_type": "code",
   "execution_count": null,
   "metadata": {},
   "outputs": [],
   "source": [
    "maps.scatter(feature='pca2', cmap='Spectral', axes=['pca0','pca1'], region=1,alpha=1., set_aspect='equal')\n",
    "plt.show()"
   ]
  },
  {
   "cell_type": "markdown",
   "metadata": {},
   "source": [
    "## Perform Clustering on Generated Features"
   ]
  },
  {
   "cell_type": "markdown",
   "metadata": {},
   "source": [
    "Use SpectralClustering to find N clusters in the featured data. "
   ]
  },
  {
   "cell_type": "code",
   "execution_count": null,
   "metadata": {},
   "outputs": [],
   "source": [
    "maps.reduce(6)"
   ]
  },
  {
   "cell_type": "code",
   "execution_count": null,
   "metadata": {},
   "outputs": [],
   "source": [
    "features = [f\"pca{i}\" for i in range(1,6)]\n",
    "print(features)"
   ]
  },
  {
   "cell_type": "code",
   "execution_count": null,
   "metadata": {},
   "outputs": [],
   "source": [
    "maps.cluster(nclusters=15, features=[f\"pca{i}\" for i in range(1,6)])"
   ]
  },
  {
   "cell_type": "markdown",
   "metadata": {},
   "source": [
    "Given the clusters, plot the connectivity matrix"
   ]
  },
  {
   "cell_type": "code",
   "execution_count": null,
   "metadata": {},
   "outputs": [],
   "source": [
    "plt.matshow(maps.cluster_edges)"
   ]
  },
  {
   "cell_type": "markdown",
   "metadata": {},
   "source": [
    "Given the clusters and the connectivity, find the high-symmetry sites"
   ]
  },
  {
   "cell_type": "code",
   "execution_count": null,
   "metadata": {},
   "outputs": [],
   "source": [
    "maps.sites(region=1)"
   ]
  },
  {
   "cell_type": "markdown",
   "metadata": {},
   "source": [
    "Visualize the results"
   ]
  },
  {
   "cell_type": "code",
   "execution_count": null,
   "metadata": {},
   "outputs": [],
   "source": [
    "fix, ax = maps.scatter(feature='Cluster', region=1, categorical=True, axes=['pca0','pca3'], alpha=0.1,  set_aspect='scaled')\n",
    "plt.show()"
   ]
  },
  {
   "cell_type": "code",
   "execution_count": null,
   "metadata": {},
   "outputs": [],
   "source": [
    "fig, ax = maps.scatter(feature='Cluster', region=1, categorical=True, alpha=0.5, s=20, splitby='z',set_aspect='scaled', centroids=True)\n",
    "plt.show()"
   ]
  },
  {
   "cell_type": "code",
   "execution_count": null,
   "metadata": {},
   "outputs": [],
   "source": [
    "axes = ['pca0','pca1']\n",
    "fig, axs = maps.scatter(feature='Cluster', categorical=True, axes=axes, alpha=0.05, s=20, set_aspect='scaled')\n",
    "\n",
    "import networkx as nx\n",
    "G = nx.from_numpy_array(maps.cluster_edges,create_using=nx.DiGraph,parallel_edges=False)\n",
    "pos = maps.data.loc[maps.centroids,axes].values\n",
    "weights = [ d['weight']/500 for (u, v, d) in G.edges(data=True)]\n",
    "axs = [axs]\n",
    "for ax in axs:\n",
    "    nx.draw(G, pos, width=weights, ax=ax, alpha=0.4)\n",
    "    limits=ax.axis('on') # turns on axis\n",
    "    ax.tick_params(left=True, bottom=True, labelleft=True, labelbottom=True)\n",
    "plt.show()"
   ]
  },
  {
   "cell_type": "markdown",
   "metadata": {},
   "source": [
    "## Pt(100) Surface"
   ]
  },
  {
   "cell_type": "code",
   "execution_count": null,
   "metadata": {},
   "outputs": [],
   "source": [
    "from ase.build import fcc100\n",
    "Pt100 = fcc100(\"Pt\",size=(4,4,3),a=3.94,orthogonal=True,periodic=True,vacuum = 10)"
   ]
  },
  {
   "cell_type": "code",
   "execution_count": null,
   "metadata": {},
   "outputs": [],
   "source": [
    "from mapsy.data import Grid\n",
    "grid100: Grid = Grid(cell=Pt100.cell)"
   ]
  },
  {
   "cell_type": "code",
   "execution_count": null,
   "metadata": {},
   "outputs": [],
   "source": [
    "from mapsy.data import System\n",
    "system100: System = System(grid100, Pt100, dimension=2, axis=2)"
   ]
  },
  {
   "cell_type": "code",
   "execution_count": null,
   "metadata": {},
   "outputs": [],
   "source": [
    "from mapsy.io.parser import ContactSpaceGenerator, ContactSpaceModel\n",
    "contactspacesettings = ContactSpaceModel.parse_obj({\"mode\": \"system\", \"distance\": 3.5, \"spread\": 1.0, \"cutoff\": 80, \"threshold\": -1})\n",
    "contactspace100 = ContactSpaceGenerator(contactspacesettings).generate(system100)"
   ]
  },
  {
   "cell_type": "code",
   "execution_count": null,
   "metadata": {},
   "outputs": [],
   "source": [
    "contactspace100.data"
   ]
  },
  {
   "cell_type": "code",
   "execution_count": null,
   "metadata": {},
   "outputs": [],
   "source": [
    "from mapsy.maps import Maps\n",
    "maps100 = Maps(system100,symmetryfunctions,contactspace100)"
   ]
  },
  {
   "cell_type": "code",
   "execution_count": null,
   "metadata": {},
   "outputs": [],
   "source": [
    "data100 = maps100.atcontactspace()"
   ]
  },
  {
   "cell_type": "code",
   "execution_count": null,
   "metadata": {},
   "outputs": [],
   "source": [
    "maps100.plot(feature='ACSF_RS_r4.5_003', cmap='Spectral', levels=24, region=1, set_aspect='scaled')\n",
    "plt.show()"
   ]
  },
  {
   "cell_type": "code",
   "execution_count": null,
   "metadata": {},
   "outputs": [],
   "source": [
    "maps100.reduce(4)"
   ]
  },
  {
   "cell_type": "code",
   "execution_count": null,
   "metadata": {},
   "outputs": [],
   "source": [
    "maps100.cluster(nclusters=6)"
   ]
  },
  {
   "cell_type": "code",
   "execution_count": null,
   "metadata": {},
   "outputs": [],
   "source": [
    "plt.matshow(maps100.cluster_graph)\n",
    "plt.colorbar()\n",
    "plt.matshow(maps100.cluster_edges)\n",
    "plt.colorbar()"
   ]
  },
  {
   "cell_type": "code",
   "execution_count": null,
   "metadata": {},
   "outputs": [],
   "source": [
    "maps100.sites(region=1)"
   ]
  },
  {
   "cell_type": "code",
   "execution_count": null,
   "metadata": {},
   "outputs": [],
   "source": [
    "axes = ['x','y']#['pca0','pca2']\n",
    "maps100.scatter(feature='Cluster', region=1, axes=axes, categorical=True, alpha=0.95, s=20, centroids=True, set_aspect='scaled')\n",
    "plt.show()"
   ]
  },
  {
   "cell_type": "code",
   "execution_count": null,
   "metadata": {},
   "outputs": [],
   "source": [
    "axes = ['pca0','pca1']\n",
    "fig, ax = maps100.scatter(feature='Cluster', region=1, categorical=True, axes=axes, alpha=1, s=10, set_aspect='scaled')\n",
    "\n",
    "import networkx as nx\n",
    "G = nx.from_numpy_array(maps100.cluster_edges,create_using=nx.DiGraph,parallel_edges=False)\n",
    "pos = maps100.data.loc[maps100.centroids,axes].values\n",
    "weights = [ d['weight']/500 for (u, v, d) in G.edges(data=True)]\n",
    "nx.draw(G, pos, width=weights, ax=ax, alpha=0.4)\n",
    "limits=ax.axis('on') # turns on axis\n",
    "ax.tick_params(left=True, bottom=True, labelleft=True, labelbottom=True)\n",
    "plt.show()"
   ]
  },
  {
   "cell_type": "markdown",
   "metadata": {},
   "source": [
    "## Pt(110) Surface"
   ]
  },
  {
   "cell_type": "code",
   "execution_count": null,
   "metadata": {},
   "outputs": [],
   "source": [
    "from ase.build import fcc110\n",
    "Pt110 = fcc110(\"Pt\",size=(4,4,3),a=3.94,orthogonal=True,periodic=True,vacuum = 10)"
   ]
  },
  {
   "cell_type": "code",
   "execution_count": null,
   "metadata": {},
   "outputs": [],
   "source": [
    "from mapsy.data import Grid\n",
    "grid110: Grid = Grid(cell=Pt110.cell)"
   ]
  },
  {
   "cell_type": "code",
   "execution_count": null,
   "metadata": {},
   "outputs": [],
   "source": [
    "from mapsy.data import System\n",
    "system110: System = System(grid110, Pt110, dimension=2, axis=2)"
   ]
  },
  {
   "cell_type": "code",
   "execution_count": null,
   "metadata": {},
   "outputs": [],
   "source": [
    "from mapsy.io.parser import ContactSpaceGenerator, ContactSpaceModel\n",
    "contactspacesettings = ContactSpaceModel.parse_obj({\"mode\": \"system\", \"distance\": 3.5, \"spread\": 1.0, \"cutoff\": 80, \"threshold\": -1})\n",
    "contactspace110 = ContactSpaceGenerator(contactspacesettings).generate(system110)"
   ]
  },
  {
   "cell_type": "code",
   "execution_count": null,
   "metadata": {},
   "outputs": [],
   "source": [
    "contactspace110.data"
   ]
  },
  {
   "cell_type": "code",
   "execution_count": null,
   "metadata": {},
   "outputs": [],
   "source": [
    "from mapsy.maps import Maps\n",
    "maps110 = Maps(system110,symmetryfunctions,contactspace110)"
   ]
  },
  {
   "cell_type": "code",
   "execution_count": null,
   "metadata": {},
   "outputs": [],
   "source": [
    "data110 = maps110.atcontactspace()"
   ]
  },
  {
   "cell_type": "code",
   "execution_count": null,
   "metadata": {},
   "outputs": [],
   "source": [
    "fig, ax = maps110.plot(index=7, cmap='Spectral', levels=24, region=1, set_aspect='scaled')\n",
    "plt.show()"
   ]
  },
  {
   "cell_type": "code",
   "execution_count": null,
   "metadata": {},
   "outputs": [],
   "source": [
    "maps110.reduce(4)"
   ]
  },
  {
   "cell_type": "code",
   "execution_count": null,
   "metadata": {},
   "outputs": [],
   "source": [
    "maps110.cluster(nclusters=6)"
   ]
  },
  {
   "cell_type": "code",
   "execution_count": null,
   "metadata": {},
   "outputs": [],
   "source": [
    "plt.matshow(maps110.cluster_edges)\n",
    "plt.colorbar()"
   ]
  },
  {
   "cell_type": "code",
   "execution_count": null,
   "metadata": {},
   "outputs": [],
   "source": [
    "maps110.sites(region=1)"
   ]
  },
  {
   "cell_type": "code",
   "execution_count": null,
   "metadata": {},
   "outputs": [],
   "source": [
    "axes = ['x','y']#['pca0','pca2']\n",
    "maps110.scatter(feature='Cluster', region=1, axes=axes, categorical=True, alpha=0.95, s=20, centroids=True, set_aspect='scaled')\n",
    "plt.show()"
   ]
  },
  {
   "cell_type": "code",
   "execution_count": null,
   "metadata": {},
   "outputs": [],
   "source": [
    "axes = ['pca0','pca2']\n",
    "fig, ax = maps110.scatter(feature='Cluster', region=1, categorical=True, axes=axes, alpha=0.4, s=20)\n",
    "\n",
    "ax.set_xlabel('Principal Component 0', fontsize=15)\n",
    "ax.set_ylabel('Principal Component 1', fontsize=15)\n",
    "import networkx as nx\n",
    "G = nx.from_numpy_array(maps110.cluster_edges,create_using=nx.DiGraph,parallel_edges=False)\n",
    "pos = maps110.data.loc[maps110.centroids,axes].values\n",
    "weights = [ d['weight']/500 for (u, v, d) in G.edges(data=True)]\n",
    "nx.draw(G, pos, width=weights, ax=ax, alpha=0.4)\n",
    "limits=ax.axis('on') # turns on axis\n",
    "ax.tick_params(left=True, bottom=True, labelleft=True, labelbottom=True)\n",
    "plt.show()"
   ]
  }
 ],
 "metadata": {
  "kernelspec": {
   "display_name": "Python 3",
   "language": "python",
   "name": "python3"
  },
  "language_info": {
   "codemirror_mode": {
    "name": "ipython",
    "version": 3
   },
   "file_extension": ".py",
   "mimetype": "text/x-python",
   "name": "python",
   "nbconvert_exporter": "python",
   "pygments_lexer": "ipython3"
  }
 },
 "nbformat": 4,
 "nbformat_minor": 2
}
