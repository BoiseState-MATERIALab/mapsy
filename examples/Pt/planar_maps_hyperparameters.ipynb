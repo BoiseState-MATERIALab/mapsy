{
 "cells": [
  {
   "cell_type": "markdown",
   "metadata": {},
   "source": [
    "# Testing the Effects of the Model's Hyperparameters"
   ]
  },
  {
   "cell_type": "code",
   "execution_count": null,
   "metadata": {},
   "outputs": [],
   "source": [
    "import numpy as np\n",
    "import pandas as pd\n",
    "import matplotlib.pyplot as plt\n",
    "import networkx as nx"
   ]
  },
  {
   "cell_type": "code",
   "execution_count": null,
   "metadata": {},
   "outputs": [],
   "source": [
    "default_fontsize = plt.rcParams['font.size']\n",
    "publication_fontsize_large = 20\n",
    "publication = True\n",
    "if publication: plt.rcParams.update({'font.size': publication_fontsize_large})"
   ]
  },
  {
   "cell_type": "markdown",
   "metadata": {},
   "source": [
    "## Benchmark Systems Setup"
   ]
  },
  {
   "cell_type": "code",
   "execution_count": null,
   "metadata": {},
   "outputs": [],
   "source": [
    "from mapsy.data import Grid\n",
    "from mapsy.data import System"
   ]
  },
  {
   "cell_type": "markdown",
   "metadata": {},
   "source": [
    "Pt (111) surface"
   ]
  },
  {
   "cell_type": "code",
   "execution_count": null,
   "metadata": {},
   "outputs": [],
   "source": [
    "from ase.build import fcc111\n",
    "Pt111 = fcc111(\"Pt\",size=(4,4,3),a=3.94,orthogonal=True,periodic=True,vacuum = 10)\n",
    "grid111: Grid = Grid(cell=Pt111.cell)\n",
    "system111: System = System(grid111, Pt111, dimension=2, axis=2)"
   ]
  },
  {
   "cell_type": "markdown",
   "metadata": {},
   "source": [
    "Pt (100) surface"
   ]
  },
  {
   "cell_type": "code",
   "execution_count": null,
   "metadata": {},
   "outputs": [],
   "source": [
    "from ase.build import fcc100\n",
    "Pt100 = fcc100(\"Pt\",size=(4,4,3),a=3.94,orthogonal=True,periodic=True,vacuum = 10)\n",
    "grid100: Grid = Grid(cell=Pt100.cell)\n",
    "system100: System = System(grid100, Pt100, dimension=2, axis=2)"
   ]
  },
  {
   "cell_type": "markdown",
   "metadata": {},
   "source": [
    "## Base Hyperparameters Settings"
   ]
  },
  {
   "cell_type": "code",
   "execution_count": null,
   "metadata": {},
   "outputs": [],
   "source": [
    "from mapsy.io.parser import ContactSpaceGenerator, ContactSpaceModel\n",
    "contactspacesettings = ContactSpaceModel.parse_obj({\"mode\": \"system\", \"distance\": 3.5, \"spread\": 1.0, \"cutoff\": 80, \"threshold\": -1, 'side':1})\n",
    "contactspace_111_base = ContactSpaceGenerator(contactspacesettings).generate(system111)\n",
    "contactspace_100_base = ContactSpaceGenerator(contactspacesettings).generate(system100)"
   ]
  },
  {
   "cell_type": "code",
   "execution_count": null,
   "metadata": {},
   "outputs": [],
   "source": [
    "from mapsy.symfunc.input import SymmetryFunctionsModel, SymFuncModel\n",
    "from mapsy.symfunc.parser import SymmetryFunctionsParser\n",
    "symfuncsettings = SymmetryFunctionsModel.parse_obj({\"functions\": [SymFuncModel.parse_obj({\"type\":\"ac\",\"radius\":4.5,\"order\":10,\"compositional\":False,\"structural\":True}),SymFuncModel.parse_obj({\"type\":\"ac\",\"radius\":4.5,\"order\":10,\"compositional\":False,\"structural\":True,\"radial\":False})]})\n",
    "symmetryfunctions_base = SymmetryFunctionsParser(symfuncsettings).parse()"
   ]
  },
  {
   "cell_type": "code",
   "execution_count": null,
   "metadata": {},
   "outputs": [],
   "source": [
    "from mapsy.maps import Maps\n",
    "maps_111_base = Maps(system111,symmetryfunctions_base,contactspace_111_base)\n",
    "maps_100_base = Maps(system100,symmetryfunctions_base,contactspace_100_base)"
   ]
  },
  {
   "cell_type": "code",
   "execution_count": null,
   "metadata": {},
   "outputs": [],
   "source": [
    "data = maps_111_base.atcontactspace()\n",
    "fig, axes = maps_111_base.plot(index=0, cmap='Spectral', set_aspect='scaled', levels=20)\n",
    "axes.set_title(f'{maps_111_base.features[0]}')\n",
    "axes.set_xlabel('x (Å)')\n",
    "axes.set_ylabel('y (Å)')\n",
    "plt.show()"
   ]
  },
  {
   "cell_type": "code",
   "execution_count": null,
   "metadata": {},
   "outputs": [],
   "source": [
    "npca_base = 2\n",
    "scale_base = True\n",
    "maps_111_base.reduce(npca_base, scale=scale_base)"
   ]
  },
  {
   "cell_type": "code",
   "execution_count": null,
   "metadata": {},
   "outputs": [],
   "source": [
    "for i in range(npca_base):\n",
    "    fig, axes = maps_111_base.plot(feature=f'pca{i}', axes=['x', 'y'],cmap='Spectral', set_aspect='scaled', levels=20)\n",
    "    axes.set_title(f'PCA {i+1}')\n",
    "    axes.set_xlabel('x (Å)')\n",
    "    axes.set_ylabel('y (Å)')\n",
    "    plt.show()"
   ]
  },
  {
   "cell_type": "markdown",
   "metadata": {},
   "source": [
    "Clustering"
   ]
  },
  {
   "cell_type": "code",
   "execution_count": null,
   "metadata": {},
   "outputs": [],
   "source": [
    "ntries_base = 50\n",
    "max_clusters_base = 10\n",
    "fig, ax1, ax2 = maps_111_base.cluster(maxclusters=max_clusters_base, ntries=ntries_base)\n",
    "ax1.set_title('')\n",
    "ax2.set_title('')\n",
    "plt.show()"
   ]
  },
  {
   "cell_type": "markdown",
   "metadata": {},
   "source": [
    "# Contact Space Hyperparameters"
   ]
  },
  {
   "cell_type": "markdown",
   "metadata": {},
   "source": [
    "## Effects of Cutoff"
   ]
  },
  {
   "cell_type": "code",
   "execution_count": null,
   "metadata": {},
   "outputs": [],
   "source": [
    "from mapsy.io.parser import ContactSpaceGenerator, ContactSpaceModel\n",
    "cssettings_veryfine = ContactSpaceModel.parse_obj({\"mode\": \"system\", \"distance\": 3.5, \"spread\": 1.0, \"cutoff\": 160, \"threshold\": -1, 'side':1})\n",
    "cssettings_fine = ContactSpaceModel.parse_obj({\"mode\": \"system\", \"distance\": 3.5, \"spread\": 1.0, \"cutoff\": 80, \"threshold\": -1, 'side':1})\n",
    "cssettings_medium = ContactSpaceModel.parse_obj({\"mode\": \"system\", \"distance\": 3.5, \"spread\": 1.0, \"cutoff\": 40, \"threshold\": -1, 'side':1})\n",
    "cssettings_coarse = ContactSpaceModel.parse_obj({\"mode\": \"system\", \"distance\": 3.5, \"spread\": 1.0, \"cutoff\": 20, \"threshold\": -1, 'side':1})\n",
    "cssettings_verycoarse = ContactSpaceModel.parse_obj({\"mode\": \"system\", \"distance\": 3.5, \"spread\": 1.0, \"cutoff\": 10, \"threshold\": -1, 'side':1})\n",
    "contacspacemodels = [cssettings_verycoarse, cssettings_coarse, cssettings_medium, cssettings_fine, cssettings_veryfine]\n",
    "cutoffs = [10, 20, 40, 80, 160]"
   ]
  },
  {
   "cell_type": "markdown",
   "metadata": {},
   "source": [
    "Generate maps for each contact space model"
   ]
  },
  {
   "cell_type": "code",
   "execution_count": null,
   "metadata": {},
   "outputs": [],
   "source": [
    "maps_testing = []\n",
    "for cssettings in contacspacemodels:\n",
    "    csg = ContactSpaceGenerator(cssettings).generate(system111)\n",
    "    maps_testing.append(Maps(system111,symmetryfunctions_base,csg))\n",
    "    data = maps_testing[-1].atcontactspace()"
   ]
  },
  {
   "cell_type": "code",
   "execution_count": null,
   "metadata": {},
   "outputs": [],
   "source": [
    "len(maps_testing[0].contactspace.data)"
   ]
  },
  {
   "cell_type": "code",
   "execution_count": null,
   "metadata": {},
   "outputs": [],
   "source": [
    "points = [ len(maps.contactspace.data) for maps in maps_testing ]\n",
    "plt.plot(cutoffs, points, 'o-')\n",
    "plt.xlabel('Cutoff (Ry)')\n",
    "plt.title('Number of Contact Space Points')"
   ]
  },
  {
   "cell_type": "code",
   "execution_count": null,
   "metadata": {},
   "outputs": [],
   "source": [
    "positions = [ maps.contactspace.data.loc[0,'z'] for maps in maps_testing ]\n",
    "plt.plot(cutoffs, positions, 'o-')\n",
    "plt.plot(cutoffs, [Pt111.get_center_of_mass()[2] + 3.5]*len(cutoffs), 'k--', label='Center of Mass + 3.5 Å')\n",
    "plt.xlabel('Cutoff (Ry)')\n",
    "plt.legend(fontsize=14,frameon=False)\n",
    "plt.title('Position Above the Slab (Å)')"
   ]
  },
  {
   "cell_type": "code",
   "execution_count": null,
   "metadata": {},
   "outputs": [],
   "source": [
    "for maps,cutoff in zip(maps_testing,cutoffs):\n",
    "    fig, axes = maps.scatter(index=0, cmap='Spectral', set_aspect='scaled')\n",
    "    axes.set_title(f'Cutoff = {cutoff} Ry')\n",
    "    axes.set_xlabel('x (Å)')\n",
    "    axes.set_ylabel('y (Å)')\n",
    "plt.show()"
   ]
  },
  {
   "cell_type": "code",
   "execution_count": null,
   "metadata": {},
   "outputs": [],
   "source": [
    "for maps,cutoff in zip(maps_testing,cutoffs):\n",
    "    maps.reduce(npca_base, scale=scale_base)\n",
    "    fig, axes = maps.plot(feature='pca1', axes=['x', 'y'],cmap='Spectral', set_aspect='scaled', levels=20)\n",
    "    axes.set_title(f'PCA 2, Cutoff = {cutoff} Ry')\n",
    "    axes.set_xlabel('x (Å)')\n",
    "    axes.set_ylabel('y (Å)')"
   ]
  },
  {
   "cell_type": "code",
   "execution_count": null,
   "metadata": {},
   "outputs": [],
   "source": [
    "for maps,cutoff in zip(maps_testing,cutoffs):\n",
    "    fig, axes = maps.scatter(index=0, axes=['pca0','pca1'], cmap='Spectral', set_aspect='scaled')\n",
    "    axes.set_title(f'Cutoff = {cutoff} Ry')\n",
    "    axes.set_xlabel('Principal Component 1')\n",
    "    axes.set_ylabel('Principal Component 2')"
   ]
  },
  {
   "cell_type": "markdown",
   "metadata": {},
   "source": [
    "Cutoffs effects on clustering"
   ]
  },
  {
   "cell_type": "code",
   "execution_count": null,
   "metadata": {},
   "outputs": [],
   "source": [
    "for maps,cutoff in zip(maps_testing,cutoffs):\n",
    "    fig, ax1, ax2 = maps.cluster(maxclusters=max_clusters_base, ntries=ntries_base)\n",
    "    ax1.set_title(f'Cutoff = {cutoff} Ry')\n",
    "    ax2.set_title('')\n",
    "plt.show()"
   ]
  },
  {
   "cell_type": "code",
   "execution_count": null,
   "metadata": {},
   "outputs": [],
   "source": [
    "for maps in maps_testing:\n",
    "    nclusters = 7\n",
    "    maps.cluster(nclusters)\n",
    "    maps.sites()"
   ]
  },
  {
   "cell_type": "code",
   "execution_count": null,
   "metadata": {},
   "outputs": [],
   "source": [
    "for maps,cutoff in zip(maps_testing,cutoffs):\n",
    "    fig, ax = maps.scatter(feature='Cluster', categorical=True, s=20, alpha=0.8, set_aspect='scaled', centroids=True)\n",
    "    ax.set_xlabel('x (Å)')\n",
    "    ax.set_ylabel('y (Å)')\n",
    "    ax.set_title(f'Cutoff = {cutoff} Ry')\n",
    "plt.show()"
   ]
  },
  {
   "cell_type": "code",
   "execution_count": null,
   "metadata": {},
   "outputs": [],
   "source": [
    "axes = ['pca0','pca1']\n",
    "for maps,cutoff in zip(maps_testing,cutoffs):\n",
    "    fig, ax = maps.scatter(feature='Cluster', categorical=True, axes=axes, alpha=0.05, s=70, edgecolors='black', set_aspect='on')\n",
    "    G = nx.from_numpy_array(maps.cluster_edges,create_using=nx.DiGraph,parallel_edges=False)\n",
    "    pos = maps.data.loc[maps.centroids,axes].values\n",
    "    weights = [ d['weight']/200 for (u, v, d) in G.edges(data=True)]\n",
    "    nx.draw(G, pos, node_size=maps.cluster_sizes, width=weights, ax=ax, alpha=0.5)\n",
    "    limits=ax.axis('on') # turns on axis\n",
    "    ax.tick_params(left=True, bottom=True, labelleft=True, labelbottom=True)\n",
    "    ax.set_xlabel('Principal Component 1')\n",
    "    ax.set_ylabel('Principal Component 2')\n",
    "    ax.set_title(f'Cutoff = {cutoff} Ry')\n",
    "plt.show()"
   ]
  },
  {
   "cell_type": "markdown",
   "metadata": {},
   "source": [
    "# Features Hyperparameters"
   ]
  },
  {
   "cell_type": "markdown",
   "metadata": {},
   "source": [
    "## Effects of RCut"
   ]
  },
  {
   "cell_type": "code",
   "execution_count": null,
   "metadata": {},
   "outputs": [],
   "source": [
    "rcut_step = 0.5\n",
    "rcut_min = Pt111.get_center_of_mass()[2] + 3.5 - np.max(Pt111.positions[:,2])\n",
    "rcut_min = np.round(rcut_min,0)+rcut_step\n",
    "rcut_max = np.min(np.array(Pt111.cell).diagonal())/2\n",
    "rcuts = np.arange(rcut_min,rcut_max,rcut_step)\n",
    "print(rcuts)"
   ]
  },
  {
   "cell_type": "code",
   "execution_count": null,
   "metadata": {},
   "outputs": [],
   "source": [
    "sfmodels = []\n",
    "for rcut in rcuts:\n",
    "    symfuncsettings = SymmetryFunctionsModel.parse_obj({\"functions\": [SymFuncModel.parse_obj({\"type\":\"ac\",\"radius\":rcut,\"order\":10,\"compositional\":False,\"structural\":True}),SymFuncModel.parse_obj({\"type\":\"ac\",\"radius\":rcut,\"order\":10,\"compositional\":False,\"structural\":True,\"radial\":False})]})\n",
    "    sfmodels.append(SymmetryFunctionsParser(symfuncsettings).parse())"
   ]
  },
  {
   "cell_type": "code",
   "execution_count": null,
   "metadata": {},
   "outputs": [],
   "source": [
    "maps_testrcut = []\n",
    "for symmetryfunctions in sfmodels:\n",
    "    maps_testrcut.append(Maps(system111,symmetryfunctions,contactspace_111_base))\n",
    "    data = maps_testrcut[-1].atcontactspace()"
   ]
  },
  {
   "cell_type": "code",
   "execution_count": null,
   "metadata": {},
   "outputs": [],
   "source": [
    "for maps,rcut in zip(maps_testrcut,rcuts):\n",
    "    fig, axes = maps.scatter(index=0, cmap='Spectral', set_aspect='scaled', s=10)\n",
    "    axes.set_title(f'RCut = {rcut} Å')\n",
    "    axes.set_xlabel('x (Å)')\n",
    "    axes.set_ylabel('y (Å)')\n",
    "plt.show()"
   ]
  },
  {
   "cell_type": "code",
   "execution_count": null,
   "metadata": {},
   "outputs": [],
   "source": [
    "for maps,rcut in zip(maps_testrcut,rcuts):\n",
    "    maps.reduce(4, scale=scale_base)\n",
    "    fig, axes = maps.plot(feature='pca1', axes=['x', 'y'],cmap='Spectral', set_aspect='scaled', levels=20)\n",
    "    axes.set_title(f'Princ. Comp. 2, RCut = {rcut} Å')\n",
    "    axes.set_xlabel('x (Å)')\n",
    "    axes.set_ylabel('y (Å)')"
   ]
  },
  {
   "cell_type": "code",
   "execution_count": null,
   "metadata": {},
   "outputs": [],
   "source": [
    "for maps,rcut in zip(maps_testrcut,rcuts):\n",
    "    fig, axes = maps.scatter(index=0, axes=['pca0','pca1'], cmap='Spectral', set_aspect='scaled')\n",
    "    axes.set_title(f'RCut = {rcut} Å')\n",
    "    axes.set_xlabel('Principal Component 1')\n",
    "    axes.set_ylabel('Principal Component 2')"
   ]
  },
  {
   "cell_type": "code",
   "execution_count": null,
   "metadata": {},
   "outputs": [],
   "source": [
    "ntries_base"
   ]
  },
  {
   "cell_type": "code",
   "execution_count": null,
   "metadata": {},
   "outputs": [],
   "source": [
    "rcuts[3:]"
   ]
  },
  {
   "cell_type": "code",
   "execution_count": null,
   "metadata": {},
   "outputs": [],
   "source": [
    "maps_testrcut[3:]"
   ]
  },
  {
   "cell_type": "code",
   "execution_count": null,
   "metadata": {},
   "outputs": [],
   "source": [
    "for maps,rcut in zip(maps_testrcut[3:],rcuts[3:]):\n",
    "    fig, ax1, ax2 = maps.cluster(maxclusters=max_clusters_base, ntries=ntries_base)\n",
    "#    fig, ax1, ax2 = maps.cluster(maxclusters=max_clusters_base, ntries=5)\n",
    "    ax1.set_title(f'RCut = {rcut} Å')\n",
    "    ax2.set_title('')\n",
    "plt.show()"
   ]
  },
  {
   "cell_type": "code",
   "execution_count": null,
   "metadata": {},
   "outputs": [],
   "source": [
    "import matplotlib.cm as cm\n",
    "# Number of lines\n",
    "n_lines = len(maps_testrcut)\n",
    "# Create a colormap\n",
    "cmap = cm.get_cmap('plasma', n_lines)\n",
    "for i,(maps,rcut) in enumerate(zip(maps_testrcut,rcuts)):\n",
    "    best_db = maps.cluster_screening.loc[maps.cluster_screening.groupby('nclusters')['db_index'].idxmin()]\n",
    "    plt.plot(best_db['nclusters'],best_db['db_index'],label=f'RCut = {rcut} Å',color=cmap(i/n_lines))\n",
    "plt.legend(frameon=False,fontsize=14,loc='upper left')\n",
    "plt.title('Davies-Bouldin Index')\n",
    "plt.show()"
   ]
  },
  {
   "cell_type": "code",
   "execution_count": null,
   "metadata": {},
   "outputs": [],
   "source": [
    "for maps in maps_testrcut:\n",
    "    nclusters = 7\n",
    "    maps.cluster(nclusters)\n",
    "    maps.sites()"
   ]
  },
  {
   "cell_type": "code",
   "execution_count": null,
   "metadata": {},
   "outputs": [],
   "source": [
    "for maps,rcut in zip(maps_testrcut,rcuts):\n",
    "    fig, ax = maps.scatter(feature='Cluster', categorical=True, s=20, alpha=0.8, set_aspect='scaled', centroids=True)\n",
    "    ax.set_xlabel('x (Å)')\n",
    "    ax.set_ylabel('y (Å)')\n",
    "    ax.set_title(f'RCut = {rcut} Å')\n",
    "plt.show()"
   ]
  },
  {
   "cell_type": "code",
   "execution_count": null,
   "metadata": {},
   "outputs": [],
   "source": [
    "axes = ['pca0','pca1']\n",
    "for maps,rcut in zip(maps_testrcut,rcuts):\n",
    "    fig, ax = maps.scatter(feature='Cluster', categorical=True, axes=axes, alpha=0.05, s=70, edgecolors='black', set_aspect='on')\n",
    "    G = nx.from_numpy_array(maps.cluster_edges,create_using=nx.DiGraph,parallel_edges=False)\n",
    "    pos = maps.data.loc[maps.centroids,axes].values\n",
    "    weights = [ d['weight']/200 for (u, v, d) in G.edges(data=True)]\n",
    "    nx.draw(G, pos, node_size=maps.cluster_sizes, width=weights, ax=ax, alpha=0.5)\n",
    "    limits=ax.axis('on') # turns on axis\n",
    "    ax.tick_params(left=True, bottom=True, labelleft=True, labelbottom=True)\n",
    "    ax.set_xlabel('Principal Component 1')\n",
    "    ax.set_ylabel('Principal Component 4')\n",
    "    ax.set_title(f'RCut = {rcut} Å')\n",
    "plt.show()"
   ]
  },
  {
   "cell_type": "markdown",
   "metadata": {},
   "source": [
    "## Effects of Chebychev Order"
   ]
  },
  {
   "cell_type": "code",
   "execution_count": null,
   "metadata": {},
   "outputs": [],
   "source": [
    "orders = range(5,26,5)\n",
    "list(orders)"
   ]
  },
  {
   "cell_type": "code",
   "execution_count": null,
   "metadata": {},
   "outputs": [],
   "source": [
    "sfmodels_order = []\n",
    "for order in orders:\n",
    "    symfuncsettings = SymmetryFunctionsModel.parse_obj({\"functions\": [SymFuncModel.parse_obj({\"type\":\"ac\",\"radius\":4.5,\"order\":order,\"compositional\":False,\"structural\":True,\"radial\":True})]})\n",
    "    sfmodels_order.append(SymmetryFunctionsParser(symfuncsettings).parse())"
   ]
  },
  {
   "cell_type": "code",
   "execution_count": null,
   "metadata": {},
   "outputs": [],
   "source": [
    "maps_testorder = []\n",
    "for symmetryfunctions in sfmodels_order:\n",
    "    maps_testorder.append(Maps(system111,symmetryfunctions,contactspace_111_base))\n",
    "    data = maps_testorder[-1].atcontactspace()"
   ]
  },
  {
   "cell_type": "code",
   "execution_count": null,
   "metadata": {},
   "outputs": [],
   "source": [
    "maps = maps_testorder[-1]\n",
    "for order in range(25):\n",
    "    fig, axes = maps.plot(index=order, axes=['x', 'y'],cmap='Spectral', set_aspect='scaled', levels=20)\n",
    "    axes.set_xlabel('x (Å)')\n",
    "    axes.set_ylabel('y (Å)')"
   ]
  },
  {
   "cell_type": "code",
   "execution_count": null,
   "metadata": {},
   "outputs": [],
   "source": [
    "for maps,order in zip(maps_testorder,orders):\n",
    "    maps.reduce(4, scale=scale_base)\n",
    "    fig, axes = maps.plot(feature='pca2', axes=['x', 'y'],cmap='Spectral', set_aspect='scaled', levels=20)\n",
    "    axes.set_title(f'Principal Component 3, Order = {order}')\n",
    "    axes.set_xlabel('x (Å)')\n",
    "    axes.set_ylabel('y (Å)')"
   ]
  },
  {
   "cell_type": "code",
   "execution_count": null,
   "metadata": {},
   "outputs": [],
   "source": [
    "for maps,order in zip(maps_testorder,orders):\n",
    "    fig, axes = maps.scatter(index=0, axes=['pca0','pca1'], cmap='Spectral', set_aspect='scaled')\n",
    "    axes.set_title(f'Order = {order}')\n",
    "    axes.set_xlabel('Principal Component 1')\n",
    "    axes.set_ylabel('Principal Component 2')"
   ]
  },
  {
   "cell_type": "code",
   "execution_count": null,
   "metadata": {},
   "outputs": [],
   "source": [
    "for maps,order in zip(maps_testorder,orders):\n",
    "#    fig, ax1, ax2 = maps.cluster(maxclusters=max_clusters_base, ntries=ntries_base)\n",
    "    fig, ax1, ax2 = maps.cluster(maxclusters=max_clusters_base, ntries=5)\n",
    "    ax1.set_title(f'Order = {order}')\n",
    "    ax2.set_title('')\n",
    "plt.show()"
   ]
  },
  {
   "cell_type": "code",
   "execution_count": null,
   "metadata": {},
   "outputs": [],
   "source": [
    "for maps in maps_testorder:\n",
    "    nclusters = 7\n",
    "    maps.cluster(nclusters)\n",
    "    maps.sites()"
   ]
  },
  {
   "cell_type": "code",
   "execution_count": null,
   "metadata": {},
   "outputs": [],
   "source": [
    "for maps,order in zip(maps_testorder,orders):\n",
    "    fig, ax = maps.scatter(feature='Cluster', categorical=True, s=20, alpha=0.8, set_aspect='scaled', centroids=True)\n",
    "    ax.set_xlabel('x (Å)')\n",
    "    ax.set_ylabel('y (Å)')\n",
    "    ax.set_title(f'Order = {order}')\n",
    "plt.show()"
   ]
  },
  {
   "cell_type": "code",
   "execution_count": null,
   "metadata": {},
   "outputs": [],
   "source": [
    "axes = ['pca0','pca1']\n",
    "for maps,order in zip(maps_testorder,orders):\n",
    "    fig, ax = maps.scatter(feature='Cluster', categorical=True, axes=axes, alpha=0.05, s=70, edgecolors='black', set_aspect='on')\n",
    "    G = nx.from_numpy_array(maps.cluster_edges,create_using=nx.DiGraph,parallel_edges=False)\n",
    "    pos = maps.data.loc[maps.centroids,axes].values\n",
    "    weights = [ d['weight']/200 for (u, v, d) in G.edges(data=True)]\n",
    "    nx.draw(G, pos, node_size=maps.cluster_sizes, width=weights, ax=ax, alpha=0.5)\n",
    "    limits=ax.axis('on') # turns on axis\n",
    "    ax.tick_params(left=True, bottom=True, labelleft=True, labelbottom=True)\n",
    "    ax.set_xlabel('Principal Component 1')\n",
    "    ax.set_ylabel('Principal Component 4')\n",
    "    ax.set_title(f'Order = {order}')\n",
    "plt.show()"
   ]
  },
  {
   "cell_type": "markdown",
   "metadata": {},
   "source": [
    "## Angular, Radial, or Both"
   ]
  },
  {
   "cell_type": "code",
   "execution_count": null,
   "metadata": {},
   "outputs": [],
   "source": [
    "symfuncsettings = SymmetryFunctionsModel.parse_obj({\"functions\": [SymFuncModel.parse_obj({\"type\":\"ac\",\"radius\":4.5,\"order\":25,\"compositional\":False,\"structural\":True,\"radial\":False})]})\n",
    "sf_angular = SymmetryFunctionsParser(symfuncsettings).parse()\n",
    "maps_angular = Maps(system111,sf_angular,contactspace_111_base)\n",
    "data = maps_angular.atcontactspace()"
   ]
  },
  {
   "cell_type": "code",
   "execution_count": null,
   "metadata": {},
   "outputs": [],
   "source": [
    "maps = maps_angular\n",
    "for order in range(25):\n",
    "    fig, axes = maps.plot(index=order, axes=['x', 'y'],cmap='Spectral', set_aspect='scaled', levels=20)\n",
    "    axes.set_xlabel('x (Å)')\n",
    "    axes.set_ylabel('y (Å)')"
   ]
  },
  {
   "cell_type": "code",
   "execution_count": null,
   "metadata": {},
   "outputs": [],
   "source": [
    "for order in orders:\n",
    "    features = [ f'ACSF_AS_r4.5_{i:03.0f}' for i in range(order) ]\n",
    "    maps_angular.features = features\n",
    "    maps_angular.reduce(4, scale=scale_base)\n",
    "    for i,pca in enumerate(['pca0','pca1','pca2']):\n",
    "        fig, axes = maps_angular.plot(feature=pca, axes=['x', 'y'],cmap='Spectral', set_aspect='scaled', levels=20)\n",
    "        axes.set_title(f'Principal Component {i+1}, Order = {order}')\n",
    "        axes.set_xlabel('x (Å)')\n",
    "        axes.set_ylabel('y (Å)')"
   ]
  },
  {
   "cell_type": "code",
   "execution_count": null,
   "metadata": {},
   "outputs": [],
   "source": [
    "import matplotlib.pyplot as plt\n",
    "from matplotlib.ticker import MultipleLocator\n",
    "from matplotlib.gridspec import GridSpec\n",
    "from itertools import combinations\n",
    "def local_scatter_pca_grid(self, feature = None, index = None, set_aspect='on', **kwargs) -> None:\n",
    "    # Check that contact space maps have been generated\n",
    "    if self.data is None:\n",
    "        raise RuntimeError(\"No contact space data available.\")\n",
    "    # Check if feature or index is provided and if it is valid\n",
    "    if feature is not None:\n",
    "        if feature not in self.data.columns:\n",
    "            raise ValueError(f\"Feature {feature} not found in maps data.\")\n",
    "    elif index is not None:\n",
    "        if index >= len(self.features) or index < 0:\n",
    "            raise ValueError(f\"Index {index} out of bounds.\")\n",
    "        feature = self.features[index]\n",
    "        print(f\"Plotting feature {self.features[index]}\")\n",
    "    else:\n",
    "        f = None # No feature provided\n",
    "    if self.npca is None :\n",
    "            raise ValueError(f\"Missing principal components\")\n",
    "    if set_aspect not in ['on','off','equal','scaled']:\n",
    "        raise ValueError(f\"set_aspect must be one of ['on','off','equal','scaled']\")\n",
    "    # Step 1: Generate all combinations of PCA components\n",
    "    component_pairs = list(combinations(range(self.npca), 2))\n",
    "    pcalabels=[f'pca{i}' for i in range(self.npca)]\n",
    "    pcamaxs = [self.data[pcalabels[i]].max() for i in range(self.npca)]\n",
    "    pcamins = [self.data[pcalabels[i]].min() for i in range(self.npca)]\n",
    "    pcaranges = [pcamaxs[i] - pcamins[i] for i in range(self.npca)]\n",
    "    maxrange = max(pcaranges)\n",
    "    pcaproportions = [pcaranges[i] / maxrange for i in range(self.npca)]\n",
    "    xratios = [pcaproportions[i+1] for i in range(self.npca-1)]\n",
    "    yratios = [pcaproportions[i] for i in range(self.npca-1)]\n",
    "    y=self.data[feature].values.astype(np.float64)\n",
    "    # Step 2: Create subplots\n",
    "    n_cols = len(xratios)  # Set the number of columns in the subplot grid\n",
    "    n_rows = len(yratios)\n",
    "    fig = plt.figure(figsize=(12, 12))\n",
    "    gs = GridSpec(n_cols, n_rows, figure=fig, height_ratios=yratios, width_ratios=xratios)\n",
    "    # Step 3: Plot each upper triangle component pair\n",
    "    for i in range(self.npca - 1):\n",
    "        for j in range(i + 1, self.npca):\n",
    "            ax = fig.add_subplot(gs[i, j-1])\n",
    "            X1 = self.data[pcalabels[i]].values.astype(np.float64)\n",
    "            X2 = self.data[pcalabels[j]].values.astype(np.float64)\n",
    "            scatter = ax.scatter(X2, X1, c=y, edgecolor='k', **kwargs)\n",
    "            ax.set_title(f'PC{j + 1} vs PC{i + 1}')\n",
    "            ax.set_xlim(np.min(X2)-0.5, np.max(X2)+0.5)\n",
    "            ax.set_ylim(np.min(X1)-0.5, np.max(X1)+0.5)\n",
    "            ax.axis(set_aspect)\n",
    "            ax.xaxis.set_major_locator(MultipleLocator(2.5))\n",
    "            ax.yaxis.set_major_locator(MultipleLocator(2.5))\n",
    "    # Step 4: Add color bar at the bottom left\n",
    "    cbar_ax = fig.add_subplot(gs[n_rows-1, 0:n_rows-1])\n",
    "    cbar_pos = cbar_ax.get_position().bounds\n",
    "    colorbar = fig.colorbar(scatter, cax=cbar_ax, orientation='horizontal')\n",
    "    colorbar.solids.set_alpha(1.0)\n",
    "    # Step 5: Add Title in the remaining space\n",
    "    if n_rows == 2:\n",
    "        fig.suptitle(f\"Maps of {self.features[index]} in PC Space\", fontsize=22)\n",
    "    else:\n",
    "        title_ax = fig.add_subplot(gs[n_rows-2, 0:n_rows-2])  \n",
    "        title_ax.text(0.5, 0.5, f\"Maps of {self.features[index]}\\n\\n in PC Space\", ha='center', va='center', fontsize=22)\n",
    "        title_ax.axis('off')\n",
    "    return fig, gs"
   ]
  },
  {
   "cell_type": "code",
   "execution_count": null,
   "metadata": {},
   "outputs": [],
   "source": [
    "for order in orders:\n",
    "    features = [ f'ACSF_AS_r4.5_{i:03.0f}' for i in range(order) ]\n",
    "    maps_angular.features = features\n",
    "    maps_angular.reduce(3, scale=scale_base)\n",
    "    fig, gs = local_scatter_pca_grid(maps_angular,index=0,cmap='Spectral', set_aspect='equal',s=70, alpha=0.05)\n",
    "    fig.suptitle(f\"Maps of ACSF_AS_r4.5_000 in PC Space for Oder = {order}\", fontsize=22)\n",
    "    fig.tight_layout()"
   ]
  },
  {
   "cell_type": "code",
   "execution_count": null,
   "metadata": {},
   "outputs": [],
   "source": [
    "sfmodels_type = []\n",
    "types = ['radial', 'angular', 'both']\n",
    "symfuncsettings = SymmetryFunctionsModel.parse_obj({\"functions\": [SymFuncModel.parse_obj({\"type\":\"ac\",\"radius\":4.5,\"order\":10,\"compositional\":False,\"structural\":True,\"radial\":True})]})\n",
    "sfmodels_type.append(SymmetryFunctionsParser(symfuncsettings).parse())\n",
    "symfuncsettings = SymmetryFunctionsModel.parse_obj({\"functions\": [SymFuncModel.parse_obj({\"type\":\"ac\",\"radius\":4.5,\"order\":10,\"compositional\":False,\"structural\":True,\"radial\":False})]})\n",
    "sfmodels_type.append(SymmetryFunctionsParser(symfuncsettings).parse())\n",
    "symfuncsettings = SymmetryFunctionsModel.parse_obj({\"functions\": [SymFuncModel.parse_obj({\"type\":\"ac\",\"radius\":4.5,\"order\":10,\"compositional\":False,\"structural\":True}),SymFuncModel.parse_obj({\"type\":\"ac\",\"radius\":4.5,\"order\":10,\"compositional\":False,\"structural\":True,\"radial\":False})]})\n",
    "sfmodels_type.append(SymmetryFunctionsParser(symfuncsettings).parse())"
   ]
  },
  {
   "cell_type": "code",
   "execution_count": null,
   "metadata": {},
   "outputs": [],
   "source": [
    "maps_testtype = []\n",
    "for symmetryfunctions in sfmodels_type:\n",
    "    maps_testtype.append(Maps(system111,symmetryfunctions,contactspace_111_base))\n",
    "    data = maps_testtype[-1].atcontactspace()"
   ]
  },
  {
   "cell_type": "code",
   "execution_count": null,
   "metadata": {},
   "outputs": [],
   "source": [
    "for maps,type_ in zip(maps_testtype,types):\n",
    "    maps.reduce(4, scale=scale_base)\n",
    "    fig, axes = maps.plot(feature='pca2', axes=['x', 'y'],cmap='Spectral', set_aspect='scaled', levels=20)\n",
    "    axes.set_title(f'Principal Component 3, Type = {type_}')\n",
    "    axes.set_xlabel('x (Å)')\n",
    "    axes.set_ylabel('y (Å)')"
   ]
  },
  {
   "cell_type": "code",
   "execution_count": null,
   "metadata": {},
   "outputs": [],
   "source": [
    "for maps,type_ in zip(maps_testtype,types):\n",
    "    fig, axes = maps.scatter(index=0, axes=['pca0','pca1'], cmap='Spectral', set_aspect='scaled')\n",
    "    axes.set_title(f'Type = {type_}')\n",
    "    axes.set_xlabel('Principal Component 1')\n",
    "    axes.set_ylabel('Principal Component 2')"
   ]
  },
  {
   "cell_type": "code",
   "execution_count": null,
   "metadata": {},
   "outputs": [],
   "source": [
    "for maps,type_ in zip(maps_testtype,types):\n",
    "    fig, ax1, ax2 = maps.cluster(maxclusters=max_clusters_base, ntries=ntries_base)\n",
    "    ax1.set_title(f'Type = {type_}')\n",
    "    ax2.set_title('')\n",
    "plt.show()"
   ]
  },
  {
   "cell_type": "code",
   "execution_count": null,
   "metadata": {},
   "outputs": [],
   "source": [
    "for maps in maps_testtype:\n",
    "    nclusters = 8\n",
    "    maps.cluster(nclusters)\n",
    "    maps.sites()"
   ]
  },
  {
   "cell_type": "code",
   "execution_count": null,
   "metadata": {},
   "outputs": [],
   "source": [
    "for maps,type_ in zip(maps_testtype,types):\n",
    "    fig, ax = maps.scatter(feature='Cluster', categorical=True, s=20, alpha=0.8, set_aspect='scaled', centroids=True)\n",
    "    ax.set_xlabel('x (Å)')\n",
    "    ax.set_ylabel('y (Å)')\n",
    "    ax.set_title(f'Type = {type_}')\n",
    "plt.show()"
   ]
  },
  {
   "cell_type": "code",
   "execution_count": null,
   "metadata": {},
   "outputs": [],
   "source": [
    "axes = ['pca0','pca1']\n",
    "for maps,type_ in zip(maps_testtype,types):\n",
    "    fig, ax = maps.scatter(feature='Cluster', categorical=True, axes=axes, alpha=0.05, s=70, edgecolors='black', set_aspect='on')\n",
    "    G = nx.from_numpy_array(maps.cluster_edges,create_using=nx.DiGraph,parallel_edges=False)\n",
    "    pos = maps.data.loc[maps.centroids,axes].values\n",
    "    weights = [ d['weight']/200 for (u, v, d) in G.edges(data=True)]\n",
    "    nx.draw(G, pos, node_size=maps.cluster_sizes, width=weights, ax=ax, alpha=0.5)\n",
    "    limits=ax.axis('on') # turns on axis\n",
    "    ax.tick_params(left=True, bottom=True, labelleft=True, labelbottom=True)\n",
    "    ax.set_xlabel('Principal Component 1')\n",
    "    ax.set_ylabel('Principal Component 4')\n",
    "    ax.set_title(f'Type = {type_}')\n",
    "plt.show()"
   ]
  },
  {
   "cell_type": "markdown",
   "metadata": {},
   "source": [
    "# PCA Hyperparameters"
   ]
  },
  {
   "cell_type": "code",
   "execution_count": null,
   "metadata": {},
   "outputs": [],
   "source": [
    "fig, ax1, ax2 = maps_111_base.reduce(scale=scale_base)\n",
    "if (publication) : \n",
    "    ax1.set_title('PCA')\n",
    "    fig.tight_layout()"
   ]
  },
  {
   "cell_type": "code",
   "execution_count": null,
   "metadata": {},
   "outputs": [],
   "source": [
    "fig, ax1, ax2 = maps_111_base.reduce(scale=False)\n",
    "if (publication) : \n",
    "    ax1.set_title('PCA')\n",
    "    fig.tight_layout()"
   ]
  },
  {
   "cell_type": "code",
   "execution_count": null,
   "metadata": {},
   "outputs": [],
   "source": [
    "maps_111_base.reduce(4, scale=scale_base)"
   ]
  },
  {
   "cell_type": "code",
   "execution_count": null,
   "metadata": {},
   "outputs": [],
   "source": [
    "for i in range(4):\n",
    "    fig, axes = maps_111_base.plot(feature=f'pca{i}', axes=['x', 'y'],cmap='Spectral', set_aspect='scaled', levels=20)\n",
    "    axes.set_title(f'PCA {i+1}')\n",
    "    axes.set_xlabel('x (Å)')\n",
    "    axes.set_ylabel('y (Å)')\n",
    "    plt.show()"
   ]
  },
  {
   "cell_type": "code",
   "execution_count": null,
   "metadata": {},
   "outputs": [],
   "source": [
    "fig, gs = maps_111_base.scatter_pca_grid(index=0,cmap='Spectral',set_aspect='equal',s=70, alpha=0.05)\n",
    "fig.tight_layout()"
   ]
  },
  {
   "cell_type": "code",
   "execution_count": null,
   "metadata": {},
   "outputs": [],
   "source": [
    "maps_111_base.reduce(4, scale=False)"
   ]
  },
  {
   "cell_type": "code",
   "execution_count": null,
   "metadata": {},
   "outputs": [],
   "source": [
    "for i in range(4):\n",
    "    fig, axes = maps_111_base.plot(feature=f'pca{i}', axes=['x', 'y'],cmap='Spectral', set_aspect='scaled', levels=20)\n",
    "    axes.set_title(f'PCA {i+1}')\n",
    "    axes.set_xlabel('x (Å)')\n",
    "    axes.set_ylabel('y (Å)')\n",
    "    plt.show()"
   ]
  },
  {
   "cell_type": "code",
   "execution_count": null,
   "metadata": {},
   "outputs": [],
   "source": [
    "fig, gs = maps_111_base.scatter_pca_grid(index=0,cmap='Spectral',set_aspect='equal',s=70, alpha=0.05)\n",
    "fig.tight_layout()"
   ]
  },
  {
   "cell_type": "markdown",
   "metadata": {},
   "source": [
    "# Clustering Hyperparameters"
   ]
  },
  {
   "cell_type": "code",
   "execution_count": null,
   "metadata": {},
   "outputs": [],
   "source": [
    "fig, ax1, ax2 = maps_111_base.cluster(maxclusters=max_clusters_base, ntries=200)"
   ]
  },
  {
   "cell_type": "code",
   "execution_count": null,
   "metadata": {},
   "outputs": [],
   "source": [
    "cluster_screening_base = maps_111_base.cluster_screening.copy()"
   ]
  },
  {
   "cell_type": "code",
   "execution_count": null,
   "metadata": {},
   "outputs": [],
   "source": [
    "min_db = cluster_screening_base.groupby('nclusters').min()['db_index'].values\n",
    "max_db = cluster_screening_base.groupby('nclusters').max()['db_index'].values\n",
    "ax = cluster_screening_base.groupby('nclusters').min().plot(y='db_index',color='gray',label='')\n",
    "cluster_screening_base.groupby('nclusters').max().plot(y='db_index',ax=ax,color='gray',label='')\n",
    "ax.fill_between(cluster_screening_base.groupby('nclusters').min().index,min_db,max_db,alpha=0.2,color='gray')\n",
    "cluster_screening_base.groupby('nclusters').median().plot(y='db_index',ax=ax,label='median')\n",
    "cluster_screening_base.groupby('nclusters')['db_index'].apply(lambda x: x.mode().iloc[0]).plot(y='db_index',ax=ax,label='mode')\n",
    "cluster_screening_base.plot.scatter('nclusters','db_index',ax=ax)\n",
    "plt.legend(frameon=False)"
   ]
  },
  {
   "cell_type": "code",
   "execution_count": null,
   "metadata": {},
   "outputs": [],
   "source": [
    "nclusters = 9\n",
    "cluster_screening_selection = cluster_screening_base[cluster_screening_base['nclusters']==nclusters]\n",
    "rs_median = cluster_screening_selection.loc[(cluster_screening_selection-cluster_screening_selection.median()).abs().idxmin()['db_index']]['random_state']\n",
    "rs_min = cluster_screening_selection.loc[cluster_screening_selection['db_index'].idxmin()]['random_state']\n",
    "rs_max = cluster_screening_selection.loc[cluster_screening_selection['db_index'].idxmax()]['random_state']\n",
    "random_states = [rs_min,rs_median,rs_max]\n",
    "random_states_labels = ['Minimum','Median','Maximum']"
   ]
  },
  {
   "cell_type": "code",
   "execution_count": null,
   "metadata": {},
   "outputs": [],
   "source": [
    "for random_state,label in zip(random_states,random_states_labels):\n",
    "    maps_111_base.cluster(nclusters,random_state=int(random_state))\n",
    "    maps_111_base.sites()\n",
    "    fig, ax = maps_111_base.scatter(feature='Cluster', categorical=True, s=20, alpha=0.8, set_aspect='scaled', centroids=True)\n",
    "    ax.set_xlabel('x (Å)')\n",
    "    ax.set_ylabel('y (Å)')\n",
    "    ax.set_title(f'Random State = {label}')\n",
    "    axes = ['pca0','pca1']\n",
    "    fig, ax = maps_111_base.scatter(feature='Cluster', categorical=True, axes=axes, alpha=0.05, s=70, edgecolors='black', set_aspect='on')\n",
    "    G = nx.from_numpy_array(maps_111_base.cluster_edges,create_using=nx.DiGraph,parallel_edges=False)\n",
    "    pos = maps_111_base.data.loc[maps_111_base.centroids,axes].values\n",
    "    weights = [ d['weight']/200 for (u, v, d) in G.edges(data=True)]\n",
    "    nx.draw(G, pos, node_size=maps_111_base.cluster_sizes, width=weights, ax=ax, alpha=0.5)\n",
    "    limits=ax.axis('on') # turns on axis\n",
    "    ax.tick_params(left=True, bottom=True, labelleft=True, labelbottom=True)\n",
    "    ax.set_xlabel('Principal Component 1')\n",
    "    ax.set_ylabel('Principal Component 2')\n",
    "    ax.set_title(f'Random State = {label}')"
   ]
  },
  {
   "cell_type": "code",
   "execution_count": null,
   "metadata": {},
   "outputs": [],
   "source": [
    "pca_features = [f'pca{i}' for i in range(4)]\n",
    "fig, ax1, ax2 = maps_111_base.cluster(features=pca_features,maxclusters=max_clusters_base, ntries=200)"
   ]
  },
  {
   "cell_type": "code",
   "execution_count": null,
   "metadata": {},
   "outputs": [],
   "source": [
    "cluster_screening_pca = maps_111_base.cluster_screening.copy()"
   ]
  },
  {
   "cell_type": "code",
   "execution_count": null,
   "metadata": {},
   "outputs": [],
   "source": [
    "min_db = cluster_screening_pca.groupby('nclusters').min()['db_index'].values\n",
    "max_db = cluster_screening_pca.groupby('nclusters').max()['db_index'].values\n",
    "ax = cluster_screening_pca.groupby('nclusters').min().plot(y='db_index',color='gray',label='')\n",
    "cluster_screening_pca.groupby('nclusters').max().plot(y='db_index',ax=ax,color='gray',label='')\n",
    "ax.fill_between(cluster_screening_pca.groupby('nclusters').min().index,min_db,max_db,alpha=0.2,color='gray')\n",
    "cluster_screening_pca.groupby('nclusters').median().plot(y='db_index',ax=ax,label='median')\n",
    "cluster_screening_pca.groupby('nclusters')['db_index'].apply(lambda x: x.mode().iloc[0]).plot(y='db_index',ax=ax,label='mode')\n",
    "cluster_screening_pca.plot.scatter('nclusters','db_index',ax=ax)\n",
    "plt.legend(frameon=False)"
   ]
  },
  {
   "cell_type": "code",
   "execution_count": null,
   "metadata": {},
   "outputs": [],
   "source": [
    "nclusters = 9\n",
    "cluster_screening_selection = cluster_screening_pca[cluster_screening_pca['nclusters']==nclusters]\n",
    "rs_median = cluster_screening_selection.loc[(cluster_screening_selection-cluster_screening_selection.median()).abs().idxmin()['db_index']]['random_state']\n",
    "rs_min = cluster_screening_selection.loc[cluster_screening_selection['db_index'].idxmin()]['random_state']\n",
    "rs_max = cluster_screening_selection.loc[cluster_screening_selection['db_index'].idxmax()]['random_state']\n",
    "random_states = [rs_min,rs_median,rs_max]\n",
    "random_states_labels = ['Minimum','Median','Maximum']"
   ]
  },
  {
   "cell_type": "code",
   "execution_count": null,
   "metadata": {},
   "outputs": [],
   "source": [
    "for random_state,label in zip(random_states,random_states_labels):\n",
    "    maps_111_base.cluster(nclusters,features=pca_features,random_state=int(random_state))\n",
    "    maps_111_base.sites()\n",
    "    fig, ax = maps_111_base.scatter(feature='Cluster', categorical=True, s=20, alpha=0.8, set_aspect='scaled', centroids=True)\n",
    "    ax.set_xlabel('x (Å)')\n",
    "    ax.set_ylabel('y (Å)')\n",
    "    ax.set_title(f'Random State = {label}')\n",
    "    axes = ['pca0','pca1']\n",
    "    fig, ax = maps_111_base.scatter(feature='Cluster', categorical=True, axes=axes, alpha=0.05, s=70, edgecolors='black', set_aspect='on')\n",
    "    G = nx.from_numpy_array(maps_111_base.cluster_edges,create_using=nx.DiGraph,parallel_edges=False)\n",
    "    pos = maps_111_base.data.loc[maps_111_base.centroids,axes].values\n",
    "    weights = [ d['weight']/200 for (u, v, d) in G.edges(data=True)]\n",
    "    nx.draw(G, pos, node_size=maps_111_base.cluster_sizes, width=weights, ax=ax, alpha=0.5)\n",
    "    limits=ax.axis('on') # turns on axis\n",
    "    ax.tick_params(left=True, bottom=True, labelleft=True, labelbottom=True)\n",
    "    ax.set_xlabel('Principal Component 1')\n",
    "    ax.set_ylabel('Principal Component 4')\n",
    "    ax.set_title(f'Random State = {label}')"
   ]
  },
  {
   "cell_type": "code",
   "execution_count": null,
   "metadata": {},
   "outputs": [],
   "source": [
    "maps_111_base.reduce(4, scale=True)"
   ]
  },
  {
   "cell_type": "code",
   "execution_count": null,
   "metadata": {},
   "outputs": [],
   "source": [
    "pca_features = [f'pca{i}' for i in range(4)]\n",
    "fig, ax1, ax2 = maps_111_base.cluster(features=pca_features,maxclusters=max_clusters_base, ntries=200)"
   ]
  },
  {
   "cell_type": "code",
   "execution_count": null,
   "metadata": {},
   "outputs": [],
   "source": [
    "cluster_screening_pca_scaled = maps_111_base.cluster_screening.copy()"
   ]
  },
  {
   "cell_type": "code",
   "execution_count": null,
   "metadata": {},
   "outputs": [],
   "source": [
    "min_db = cluster_screening_pca_scaled.groupby('nclusters').min()['db_index'].values\n",
    "max_db = cluster_screening_pca_scaled.groupby('nclusters').max()['db_index'].values\n",
    "ax = cluster_screening_pca_scaled.groupby('nclusters').min().plot(y='db_index',color='gray',label='')\n",
    "cluster_screening_pca_scaled.groupby('nclusters').max().plot(y='db_index',ax=ax,color='gray',label='')\n",
    "ax.fill_between(cluster_screening_pca_scaled.groupby('nclusters').min().index,min_db,max_db,alpha=0.2,color='gray')\n",
    "cluster_screening_pca_scaled.groupby('nclusters').median().plot(y='db_index',ax=ax,label='median')\n",
    "cluster_screening_pca_scaled.groupby('nclusters')['db_index'].apply(lambda x: x.mode().iloc[0]).plot(y='db_index',ax=ax,label='mode')\n",
    "cluster_screening_pca_scaled.plot.scatter('nclusters','db_index',ax=ax)\n",
    "plt.legend(frameon=False)"
   ]
  },
  {
   "cell_type": "code",
   "execution_count": null,
   "metadata": {},
   "outputs": [],
   "source": [
    "nclusters = 9\n",
    "cluster_screening_selection = cluster_screening_pca_scaled[cluster_screening_pca_scaled['nclusters']==nclusters]\n",
    "rs_median = cluster_screening_selection.loc[(cluster_screening_selection-cluster_screening_selection.median()).abs().idxmin()['db_index']]['random_state']\n",
    "rs_min = cluster_screening_selection.loc[cluster_screening_selection['db_index'].idxmin()]['random_state']\n",
    "rs_max = cluster_screening_selection.loc[cluster_screening_selection['db_index'].idxmax()]['random_state']\n",
    "random_states = [rs_min,rs_median,rs_max]\n",
    "random_states_labels = ['Minimum','Median','Maximum']"
   ]
  },
  {
   "cell_type": "code",
   "execution_count": null,
   "metadata": {},
   "outputs": [],
   "source": [
    "for random_state,label in zip(random_states,random_states_labels):\n",
    "    maps_111_base.cluster(nclusters,features=pca_features,random_state=int(random_state))\n",
    "    maps_111_base.sites()\n",
    "    fig, ax = maps_111_base.scatter(feature='Cluster', categorical=True, s=20, alpha=0.8, set_aspect='scaled', centroids=True)\n",
    "    ax.set_xlabel('x (Å)')\n",
    "    ax.set_ylabel('y (Å)')\n",
    "    ax.set_title(f'Random State = {label}')\n",
    "    axes = ['pca0','pca1']\n",
    "    fig, ax = maps_111_base.scatter(feature='Cluster', categorical=True, axes=axes, alpha=0.05, s=70, edgecolors='black', set_aspect='on')\n",
    "    G = nx.from_numpy_array(maps_111_base.cluster_edges,create_using=nx.DiGraph,parallel_edges=False)\n",
    "    pos = maps_111_base.data.loc[maps_111_base.centroids,axes].values\n",
    "    weights = [ d['weight']/200 for (u, v, d) in G.edges(data=True)]\n",
    "    nx.draw(G, pos, node_size=maps_111_base.cluster_sizes, width=weights, ax=ax, alpha=0.5)\n",
    "    limits=ax.axis('on') # turns on axis\n",
    "    ax.tick_params(left=True, bottom=True, labelleft=True, labelbottom=True)\n",
    "    ax.set_xlabel('Principal Component 1')\n",
    "    ax.set_ylabel('Principal Component 4')\n",
    "    ax.set_title(f'Random State = {label}')"
   ]
  }
 ],
 "metadata": {
  "kernelspec": {
   "display_name": "Python 3",
   "language": "python",
   "name": "python3"
  },
  "language_info": {
   "codemirror_mode": {
    "name": "ipython",
    "version": 3
   },
   "file_extension": ".py",
   "mimetype": "text/x-python",
   "name": "python",
   "nbconvert_exporter": "python",
   "pygments_lexer": "ipython3"
  }
 },
 "nbformat": 4,
 "nbformat_minor": 2
}
