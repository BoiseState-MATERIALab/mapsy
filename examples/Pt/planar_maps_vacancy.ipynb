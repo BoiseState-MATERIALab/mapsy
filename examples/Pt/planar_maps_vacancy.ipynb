{
 "cells": [
  {
   "cell_type": "markdown",
   "metadata": {},
   "source": [
    "# Benchmarks and Tests of Maps for Single-Element Substrates with a Defect"
   ]
  },
  {
   "cell_type": "code",
   "execution_count": null,
   "metadata": {},
   "outputs": [],
   "source": [
    "import numpy as np\n",
    "import pandas as pd\n",
    "import matplotlib.pyplot as plt\n",
    "import networkx as nx"
   ]
  },
  {
   "cell_type": "code",
   "execution_count": null,
   "metadata": {},
   "outputs": [],
   "source": [
    "default_fontsize = plt.rcParams['font.size']\n",
    "publication_fontsize_large = 20\n",
    "publication = False\n",
    "if publication: plt.rcParams.update({'font.size': publication_fontsize_large})"
   ]
  },
  {
   "cell_type": "markdown",
   "metadata": {},
   "source": [
    "## Pt(111) Surface"
   ]
  },
  {
   "cell_type": "markdown",
   "metadata": {},
   "source": [
    "Generate the ASE.Atoms instance using the fcc111 build function. The atom at the center of the cell on the top face is index number 42."
   ]
  },
  {
   "cell_type": "code",
   "execution_count": null,
   "metadata": {},
   "outputs": [],
   "source": [
    "from ase.build import fcc111\n",
    "Pt111 = fcc111(\"Pt\",size=(4,4,3),a=3.94,orthogonal=True,periodic=True,vacuum = 10)\n",
    "del(Pt111[42])"
   ]
  },
  {
   "cell_type": "markdown",
   "metadata": {},
   "source": [
    "From the `ASE.Cell` and the generated `ASE.Atoms`, create a `MapSy.Grid` and a `MapSy.System`"
   ]
  },
  {
   "cell_type": "code",
   "execution_count": null,
   "metadata": {},
   "outputs": [],
   "source": [
    "from mapsy.data import Grid\n",
    "grid: Grid = Grid(cell=Pt111.cell)"
   ]
  },
  {
   "cell_type": "code",
   "execution_count": null,
   "metadata": {},
   "outputs": [],
   "source": [
    "from mapsy.data import System\n",
    "system: System = System(grid, Pt111, dimension=2, axis=2)"
   ]
  },
  {
   "cell_type": "code",
   "execution_count": null,
   "metadata": {},
   "outputs": [],
   "source": [
    "from mapsy.io.parser import ContactSpaceGenerator, ContactSpaceModel\n",
    "contactspacesettings = ContactSpaceModel.parse_obj({\"mode\": \"system\", \"distance\": 3.5, \"spread\": 1.0, \"cutoff\": 80, \"threshold\": -1, \"side\":1})\n",
    "contactspace = ContactSpaceGenerator(contactspacesettings).generate(system)"
   ]
  },
  {
   "cell_type": "code",
   "execution_count": null,
   "metadata": {},
   "outputs": [],
   "source": [
    "contactspace.data"
   ]
  },
  {
   "cell_type": "code",
   "execution_count": null,
   "metadata": {},
   "outputs": [],
   "source": [
    "from mapsy.symfunc.input import SymmetryFunctionsModel, SymFuncModel\n",
    "from mapsy.symfunc.parser import SymmetryFunctionsParser\n",
    "symfuncsettings = SymmetryFunctionsModel.parse_obj({\"functions\": [SymFuncModel.parse_obj({\"type\":\"ac\",\"radius\":4.5,\"order\":10,\"compositional\":False,\"structural\":True}),SymFuncModel.parse_obj({\"type\":\"ac\",\"radius\":4.5,\"order\":10,\"compositional\":False,\"structural\":True,\"radial\":False})]})\n",
    "symmetryfunctions = SymmetryFunctionsParser(symfuncsettings).parse()"
   ]
  },
  {
   "cell_type": "code",
   "execution_count": null,
   "metadata": {},
   "outputs": [],
   "source": [
    "from mapsy.maps import Maps\n",
    "maps = Maps(system,symmetryfunctions,contactspace)"
   ]
  },
  {
   "cell_type": "code",
   "execution_count": null,
   "metadata": {},
   "outputs": [],
   "source": [
    "data = maps.atcontactspace()"
   ]
  },
  {
   "cell_type": "markdown",
   "metadata": {},
   "source": [
    "We can visualize features to check how they look using `Maps.plot(feature: str)` or `Maps.plot(index: int)`. NOTE: to get the top face of the slab, we need to select `region=1`. "
   ]
  },
  {
   "cell_type": "code",
   "execution_count": null,
   "metadata": {},
   "outputs": [],
   "source": [
    "fig, axes = maps.plot(index=0, cmap='Spectral', set_aspect='scaled', levels=20)\n",
    "plt.show()"
   ]
  },
  {
   "cell_type": "markdown",
   "metadata": {},
   "source": [
    "## Dimensionality Reduction (PCA)"
   ]
  },
  {
   "cell_type": "markdown",
   "metadata": {},
   "source": [
    "For visualization and post-processing purposes, perform dimensionality reduction on the generated features. Three components are useful for 2D and 3D plots."
   ]
  },
  {
   "cell_type": "code",
   "execution_count": null,
   "metadata": {},
   "outputs": [],
   "source": [
    "fig, ax1, ax2 = maps.reduce(scale=True)\n",
    "if (publication) : \n",
    "    ax1.set_title('PCA')\n",
    "    fig.tight_layout()"
   ]
  },
  {
   "cell_type": "code",
   "execution_count": null,
   "metadata": {},
   "outputs": [],
   "source": [
    "npca = 6\n",
    "maps.reduce(npca, scale=True)"
   ]
  },
  {
   "cell_type": "markdown",
   "metadata": {},
   "source": [
    "We can visually inspect how the PCAs correlate with the Cartesian coordinates of the points (e.g., PC0 still distinguishing between atop positions, while PC1 correlated with the distance from the defect)."
   ]
  },
  {
   "cell_type": "code",
   "execution_count": null,
   "metadata": {},
   "outputs": [],
   "source": [
    "for i in range(npca):\n",
    "    fig, axes = maps.plot(feature=f'pca{i}', axes=['x', 'y'],cmap='Spectral', set_aspect='scaled', levels=20)\n",
    "    axes.set_title(f'PCA {i+1}')\n",
    "    axes.set_xlabel('x (Å)')\n",
    "    axes.set_ylabel('y (Å)')\n",
    "    plt.show()"
   ]
  },
  {
   "cell_type": "code",
   "execution_count": null,
   "metadata": {},
   "outputs": [],
   "source": [
    "fig, gs = maps.scatter_pca_grid(index=0,cmap='Spectral',set_aspect='equal',s=70, alpha=0.05)\n",
    "fig.tight_layout()"
   ]
  },
  {
   "cell_type": "markdown",
   "metadata": {},
   "source": [
    "We can also verify how the contact space is transformed (folded) in the symmetry function space. "
   ]
  },
  {
   "cell_type": "code",
   "execution_count": null,
   "metadata": {},
   "outputs": [],
   "source": [
    "fig, ax = maps.scatter(index=0, cmap='Spectral', axes=['x','y'], alpha=1., set_aspect='scaled', s=10)\n",
    "ax.set_xlabel('x (Å)')\n",
    "ax.set_ylabel('y (Å)')\n",
    "if publication : ax.set_title(\"\")\n",
    "plt.show()"
   ]
  },
  {
   "cell_type": "code",
   "execution_count": null,
   "metadata": {},
   "outputs": [],
   "source": [
    "fig, ax = plt.subplots(1, 1, figsize=(8, 4*1))\n",
    "fig.subplots_adjust(hspace=0.3)\n",
    "ax.set_xlabel('Principal Component 1')\n",
    "ax.set_ylabel('Principal Component 2')\n",
    "ax.set_title(\"\")\n",
    "x1m = maps.data['pca0'].values.astype(np.float64)\n",
    "x2m = maps.data['pca1'].values.astype(np.float64)\n",
    "fm = maps.data[maps.features[0]].values.astype(np.float64)\n",
    "fmin = np.min(fm)\n",
    "fmax = np.max(fm)\n",
    "scatter = ax.scatter(x1m,x2m,c=fm,vmin=fmin,vmax=fmax,cmap='Spectral',alpha=0.2,s=60,edgecolors='black')\n",
    "ax.axis('on')\n",
    "plt.show()"
   ]
  },
  {
   "cell_type": "markdown",
   "metadata": {},
   "source": [
    "## Perform Clustering on Generated Features"
   ]
  },
  {
   "cell_type": "markdown",
   "metadata": {},
   "source": [
    "Use SpectralClustering to find N clusters in the featured data. "
   ]
  },
  {
   "cell_type": "code",
   "execution_count": null,
   "metadata": {},
   "outputs": [],
   "source": [
    "ntries = 1\n",
    "if publication: ntries = 100\n",
    "fig, ax1, ax2 = maps.cluster(maxclusters=20, ntries=ntries)\n",
    "if publication: \n",
    "    ax1.set_title('')\n",
    "    ax2.set_title('')\n",
    "plt.show()"
   ]
  },
  {
   "cell_type": "code",
   "execution_count": null,
   "metadata": {},
   "outputs": [],
   "source": [
    "maps.cluster(nclusters=18)"
   ]
  },
  {
   "cell_type": "markdown",
   "metadata": {},
   "source": [
    "Given the clusters, plot the connectivity matrix"
   ]
  },
  {
   "cell_type": "code",
   "execution_count": null,
   "metadata": {},
   "outputs": [],
   "source": [
    "plt.matshow(maps.cluster_edges)"
   ]
  },
  {
   "cell_type": "markdown",
   "metadata": {},
   "source": [
    "Given the clusters and the connectivity, find the high-symmetry sites"
   ]
  },
  {
   "cell_type": "code",
   "execution_count": null,
   "metadata": {},
   "outputs": [],
   "source": [
    "maps.sites()"
   ]
  },
  {
   "cell_type": "markdown",
   "metadata": {},
   "source": [
    "Visualize the results"
   ]
  },
  {
   "cell_type": "code",
   "execution_count": null,
   "metadata": {},
   "outputs": [],
   "source": [
    "fig, ax = maps.scatter(feature='Cluster', categorical=True, alpha=0.8, s=20, set_aspect='scaled', centroids=True)\n",
    "ax.set_xlabel('x (Å)')\n",
    "ax.set_ylabel('y (Å)')\n",
    "ax.set_title('Clusters')\n",
    "if publication:\n",
    "    ax.set_title('')\n",
    "    ax.get_legend().remove()\n",
    "plt.show()"
   ]
  },
  {
   "cell_type": "code",
   "execution_count": null,
   "metadata": {},
   "outputs": [],
   "source": [
    "axes = ['pca0','pca1']\n",
    "fig, ax = maps.scatter(feature='Cluster', categorical=True, axes=axes, alpha=0.2, s=70, edgecolors='black', set_aspect='on')\n",
    "G = nx.from_numpy_array(maps.cluster_edges,create_using=nx.DiGraph,parallel_edges=False)\n",
    "pos = maps.data.loc[maps.centroids,axes].values\n",
    "weights = [ d['weight']/200 for (u, v, d) in G.edges(data=True)]\n",
    "nx.draw(G, pos, node_size=maps.cluster_sizes, width=weights, ax=ax, alpha=0.5, edgecolors='black')\n",
    "limits=ax.axis('on') # turns on axis\n",
    "ax.tick_params(left=True, bottom=True, labelleft=True, labelbottom=True)\n",
    "ax.set_xlabel('Principal Component 1')\n",
    "ax.set_ylabel('Principal Component 2')\n",
    "ax.set_title('Clusters')\n",
    "if publication:\n",
    "    ax.set_title('')\n",
    "    ax.get_legend().remove()\n",
    "plt.show()"
   ]
  }
 ],
 "metadata": {
  "kernelspec": {
   "display_name": "Python 3",
   "language": "python",
   "name": "python3"
  },
  "language_info": {
   "codemirror_mode": {
    "name": "ipython",
    "version": 3
   },
   "file_extension": ".py",
   "mimetype": "text/x-python",
   "name": "python",
   "nbconvert_exporter": "python",
   "pygments_lexer": "ipython3",
   "version": "3.9.6"
  }
 },
 "nbformat": 4,
 "nbformat_minor": 2
}
