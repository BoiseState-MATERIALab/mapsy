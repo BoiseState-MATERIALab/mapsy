{
 "cells": [
  {
   "cell_type": "markdown",
   "metadata": {},
   "source": [
    "# Benchmarks and Tests of Maps for Single-Element Substrates"
   ]
  },
  {
   "cell_type": "code",
   "execution_count": null,
   "metadata": {},
   "outputs": [],
   "source": [
    "import numpy as np\n",
    "import pandas as pd\n",
    "import matplotlib.pyplot as plt\n",
    "import networkx as nx"
   ]
  },
  {
   "cell_type": "code",
   "execution_count": null,
   "metadata": {},
   "outputs": [],
   "source": [
    "default_fontsize = plt.rcParams['font.size']\n",
    "publication_fontsize_large = 20\n",
    "publication = False\n",
    "if publication: plt.rcParams.update({'font.size': publication_fontsize_large})"
   ]
  },
  {
   "cell_type": "markdown",
   "metadata": {},
   "source": [
    "## Pt(111) Surface"
   ]
  },
  {
   "cell_type": "markdown",
   "metadata": {},
   "source": [
    "Generate the ASE.Atoms instance using the fcc111 build function. "
   ]
  },
  {
   "cell_type": "code",
   "execution_count": null,
   "metadata": {},
   "outputs": [],
   "source": [
    "from ase.build import fcc111\n",
    "Pt111 = fcc111(\"Pt\",size=(4,4,3),a=3.94,orthogonal=True,periodic=True,vacuum = 10)"
   ]
  },
  {
   "cell_type": "markdown",
   "metadata": {},
   "source": [
    "From the `ASE.Cell` and the generated `ASE.Atoms`, create a `MapSy.Grid` and a `MapSy.System`"
   ]
  },
  {
   "cell_type": "code",
   "execution_count": null,
   "metadata": {},
   "outputs": [],
   "source": [
    "from mapsy.data import Grid\n",
    "grid: Grid = Grid(cell=Pt111.cell)"
   ]
  },
  {
   "cell_type": "code",
   "execution_count": null,
   "metadata": {},
   "outputs": [],
   "source": [
    "from mapsy.data import System\n",
    "system: System = System(grid, Pt111, dimension=2, axis=2)"
   ]
  },
  {
   "cell_type": "markdown",
   "metadata": {},
   "source": [
    "In this notebook we will consider a simplified contact space composed by points that are all in the same planes above and below the material. This contact space is generated starting from a smoothly-varying boundary function that is centered on the system's center of mass and varies smoothly from 1 to 0 at the specified `distance` from the center. The smoothness of the transition is controlled by the `spread` parameter. The resolution of the points is controlled by the `cutoff` keyword, with larger values corresponding to more fine grids. Given the 2D nature of the system (as specified in the `dimension` and `axis` keywords above) the generated points ideally correspond to two flat regions above and below the materials and perpendicural to the z Cartesian direction. The `side` keyword allows to choose the top (+1) or bottom (-1) region. Setting the `threshold` to a negative value will select the points that have the largest modulus of the gradient of the boundary function, it thus allows us to only focus on the points at the center of the selected transition region. "
   ]
  },
  {
   "cell_type": "code",
   "execution_count": null,
   "metadata": {},
   "outputs": [],
   "source": [
    "from mapsy.io.parser import ContactSpaceGenerator, ContactSpaceModel\n",
    "contactspacesettings = ContactSpaceModel.parse_obj({\"mode\": \"system\", \"distance\": 3.5, \"spread\": 1.0, \"cutoff\": 80, \"threshold\": -1, 'side':1})\n",
    "contactspace = ContactSpaceGenerator(contactspacesettings).generate(system)"
   ]
  },
  {
   "cell_type": "markdown",
   "metadata": {},
   "source": [
    "Check the generated contact space: each point is associated with a `probability` column that corresponds to the scaled modulus of the gradient of the contact space interface. For each point we also compute the indexes of the neighboring points and the region (topologically disconnected groups of points) to which they belong. Given the slab nature of the substrate, we expect to generate two regions of points on the two opposite faces of the material."
   ]
  },
  {
   "cell_type": "code",
   "execution_count": null,
   "metadata": {},
   "outputs": [],
   "source": [
    "contactspace.data"
   ]
  },
  {
   "cell_type": "code",
   "execution_count": null,
   "metadata": {},
   "outputs": [],
   "source": [
    "from mapsy.symfunc.input import SymmetryFunctionsModel, SymFuncModel\n",
    "from mapsy.symfunc.parser import SymmetryFunctionsParser\n",
    "symfuncsettings = SymmetryFunctionsModel.parse_obj({\"functions\": [SymFuncModel.parse_obj({\"type\":\"ac\",\"radius\":4.5,\"order\":10,\"compositional\":False,\"structural\":True}),SymFuncModel.parse_obj({\"type\":\"ac\",\"radius\":4.5,\"order\":10,\"compositional\":False,\"structural\":True,\"radial\":False})]})\n",
    "symmetryfunctions = SymmetryFunctionsParser(symfuncsettings).parse()"
   ]
  },
  {
   "cell_type": "code",
   "execution_count": null,
   "metadata": {},
   "outputs": [],
   "source": [
    "from mapsy.maps import Maps\n",
    "maps = Maps(system,symmetryfunctions,contactspace)"
   ]
  },
  {
   "cell_type": "code",
   "execution_count": null,
   "metadata": {},
   "outputs": [],
   "source": [
    "data = maps.atcontactspace()"
   ]
  },
  {
   "cell_type": "markdown",
   "metadata": {},
   "source": [
    "We can visualize features to check how they look using `Maps.plot(feature: str)` or `Maps.plot(index: int)`. "
   ]
  },
  {
   "cell_type": "code",
   "execution_count": null,
   "metadata": {},
   "outputs": [],
   "source": [
    "for index in range(20):\n",
    "    fig, axes = maps.plot(index=index, cmap='Spectral', set_aspect='scaled', levels=20)\n",
    "    axes.set_title(f'{maps.features[index]}')\n",
    "    axes.set_xlabel('x (Å)')\n",
    "    axes.set_ylabel('y (Å)')\n",
    "    plt.show()"
   ]
  },
  {
   "cell_type": "markdown",
   "metadata": {},
   "source": [
    "## Dimensionality Reduction (PCA)"
   ]
  },
  {
   "cell_type": "markdown",
   "metadata": {},
   "source": [
    "For visualization and post-processing purposes, perform dimensionality reduction on the generated features. We can first determine how many components we need, by checking the explained variance. "
   ]
  },
  {
   "cell_type": "code",
   "execution_count": null,
   "metadata": {},
   "outputs": [],
   "source": [
    "fig, ax1, ax2 = maps.reduce(scale=True)\n",
    "if (publication) : \n",
    "    ax1.set_title('PCA')\n",
    "    fig.tight_layout()"
   ]
  },
  {
   "cell_type": "markdown",
   "metadata": {},
   "source": [
    "For visualization purposes we don't want more than 3 components, but it seems that for this specific system 3 components are enough to explain 99% of the variance, with 4 components able to fully explain the variance in the features. "
   ]
  },
  {
   "cell_type": "code",
   "execution_count": null,
   "metadata": {},
   "outputs": [],
   "source": [
    "npca = 4\n",
    "maps.reduce(npca, scale=True)"
   ]
  },
  {
   "cell_type": "markdown",
   "metadata": {},
   "source": [
    "We can visually inspect how the PCAs correlate with the Cartesian coordinates of the points (e.g., PCA3 distinguishes between HCP and FCC hollow sites)"
   ]
  },
  {
   "cell_type": "code",
   "execution_count": null,
   "metadata": {},
   "outputs": [],
   "source": [
    "for i in range(npca):\n",
    "    fig, axes = maps.plot(feature=f'pca{i}', axes=['x', 'y'],cmap='Spectral', set_aspect='scaled', levels=20)\n",
    "    axes.set_title(f'PCA {i+1}')\n",
    "    axes.set_xlabel('x (Å)')\n",
    "    axes.set_ylabel('y (Å)')\n",
    "    plt.show()"
   ]
  },
  {
   "cell_type": "markdown",
   "metadata": {},
   "source": [
    "We can also verify how the contact space is transformed (folded) in the symmetry function space. "
   ]
  },
  {
   "cell_type": "code",
   "execution_count": null,
   "metadata": {},
   "outputs": [],
   "source": [
    "fig, ax = maps.scatter(index=0, cmap='Spectral', axes=['x','y'], alpha=1., set_aspect='scaled', s=10)\n",
    "ax.set_xlabel('x (Å)')\n",
    "ax.set_ylabel('y (Å)')\n",
    "if publication : ax.set_title(\"\")\n",
    "plt.show()"
   ]
  },
  {
   "cell_type": "code",
   "execution_count": null,
   "metadata": {},
   "outputs": [],
   "source": [
    "fig, ax = plt.subplots(1, 1, figsize=(8, 4*1))\n",
    "fig.subplots_adjust(hspace=0.3)\n",
    "ax.set_xlabel('Principal Component 1')\n",
    "ax.set_ylabel('Principal Component 2')\n",
    "ax.set_title(\"\")\n",
    "ax.set_xlim(-8.5,13)\n",
    "ax.set_ylim(-1.5,4.8)\n",
    "x1m = maps.data['pca0'].values.astype(np.float64)\n",
    "x2m = maps.data['pca1'].values.astype(np.float64)\n",
    "fm = maps.data[maps.features[0]].values.astype(np.float64)\n",
    "fmin = np.min(fm)\n",
    "fmax = np.max(fm)\n",
    "scatter = ax.scatter(x1m,x2m,c=fm,vmin=fmin,vmax=fmax,cmap='Spectral',alpha=0.05,s=60,edgecolors='black')\n",
    "ax.axis('on')\n",
    "plt.show()"
   ]
  },
  {
   "cell_type": "markdown",
   "metadata": {},
   "source": [
    "More in general, we can plot any feature in all possible 2D spaces of principal components:"
   ]
  },
  {
   "cell_type": "code",
   "execution_count": null,
   "metadata": {},
   "outputs": [],
   "source": [
    "fig, gs = maps.scatter_pca_grid(index=0,cmap='Spectral',set_aspect='equal',s=70, alpha=0.05)\n",
    "fig.tight_layout()"
   ]
  },
  {
   "cell_type": "markdown",
   "metadata": {},
   "source": [
    "## Perform Clustering on Generated Features"
   ]
  },
  {
   "cell_type": "markdown",
   "metadata": {},
   "source": [
    "Use SpectralClustering to find N clusters in the featured data. First, we run the analysis to identify promising values of N in terms of the Silouette scores and Davis-Bouldin indexes. Local maxima in Silouette score and local minima in Davis-Bouldin index correspond to better clustered data. "
   ]
  },
  {
   "cell_type": "code",
   "execution_count": null,
   "metadata": {},
   "outputs": [],
   "source": [
    "ntries = 1\n",
    "if publication: ntries = 100\n",
    "fig, ax1, ax2 = maps.cluster(maxclusters=15, ntries=ntries)\n",
    "if publication: \n",
    "    ax1.set_title('')\n",
    "    ax2.set_title('')\n",
    "plt.show()"
   ]
  },
  {
   "cell_type": "markdown",
   "metadata": {},
   "source": [
    "The analysis above suggests that $N=5$ and $N=10$ may provide better clusters. We can perform the analysis with one of these values:"
   ]
  },
  {
   "cell_type": "code",
   "execution_count": null,
   "metadata": {},
   "outputs": [],
   "source": [
    "nclusters = 10\n",
    "maps.cluster(nclusters)"
   ]
  },
  {
   "cell_type": "markdown",
   "metadata": {},
   "source": [
    "Given the clusters, plot the connectivity matrix"
   ]
  },
  {
   "cell_type": "code",
   "execution_count": null,
   "metadata": {},
   "outputs": [],
   "source": [
    "for i in range(len(maps.cluster_centers)): \n",
    "    print(i,maps.cluster_sizes[i],maps.cluster_sizes[i]*4,maps.cluster_graph[i,i],(np.sum(maps.cluster_graph[i,:])-maps.cluster_graph[i,i]),maps.cluster_graph[i,i]/(np.sum(maps.cluster_graph[i,:])-maps.cluster_graph[i,i]))\n",
    "    print(4*int(np.sqrt(maps.cluster_sizes[i])),(maps.cluster_sizes[i]-int(np.sqrt(maps.cluster_sizes[i]))*4))\n"
   ]
  },
  {
   "cell_type": "code",
   "execution_count": null,
   "metadata": {},
   "outputs": [],
   "source": [
    "maps.cluster_graph"
   ]
  },
  {
   "cell_type": "code",
   "execution_count": null,
   "metadata": {},
   "outputs": [],
   "source": [
    "plt.matshow(maps.cluster_edges)\n",
    "plt.show()"
   ]
  },
  {
   "cell_type": "markdown",
   "metadata": {},
   "source": [
    "Given the clusters and the connectivity, find the high-symmetry sites"
   ]
  },
  {
   "cell_type": "code",
   "execution_count": null,
   "metadata": {},
   "outputs": [],
   "source": [
    "maps.sites()"
   ]
  },
  {
   "cell_type": "markdown",
   "metadata": {},
   "source": [
    "Visualize the results"
   ]
  },
  {
   "cell_type": "code",
   "execution_count": null,
   "metadata": {},
   "outputs": [],
   "source": [
    "fig, ax = maps.scatter(feature='Cluster', categorical=True, s=20, alpha=0.8, set_aspect='scaled', centroids=True)\n",
    "ax.set_xlabel('x (Å)')\n",
    "ax.set_ylabel('y (Å)')\n",
    "ax.set_title('Clusters')\n",
    "if publication:\n",
    "    ax.set_title('')\n",
    "#    ax.get_legend().remove()\n",
    "plt.show()"
   ]
  },
  {
   "cell_type": "markdown",
   "metadata": {},
   "source": [
    "We can now visualize the clustering in PCA space, together with the connectivity matrix and centroids"
   ]
  },
  {
   "cell_type": "code",
   "execution_count": null,
   "metadata": {},
   "outputs": [],
   "source": [
    "axes = ['pca0','pca1']\n",
    "fig, ax = maps.scatter(feature='Cluster', categorical=True, axes=axes, alpha=0.05, s=70, edgecolors='black', set_aspect='on')\n",
    "G = nx.from_numpy_array(maps.cluster_edges,create_using=nx.DiGraph,parallel_edges=False)\n",
    "pos = maps.data.loc[maps.centroids,axes].values\n",
    "weights = [ d['weight']/200 for (u, v, d) in G.edges(data=True)]\n",
    "nx.draw(G, pos, node_size=maps.cluster_sizes, width=weights, ax=ax, alpha=0.5)\n",
    "limits=ax.axis('on') # turns on axis\n",
    "ax.tick_params(left=True, bottom=True, labelleft=True, labelbottom=True)\n",
    "ax.set_xlabel('Principal Component 1')\n",
    "ax.set_ylabel('Principal Component 2')\n",
    "ax.set_title('Clusters')\n",
    "if publication:\n",
    "    ax.set_title('')\n",
    "#    ax.get_legend().remove()\n",
    "plt.show()"
   ]
  },
  {
   "cell_type": "markdown",
   "metadata": {},
   "source": [
    "## Pt(100) Surface"
   ]
  },
  {
   "cell_type": "code",
   "execution_count": null,
   "metadata": {},
   "outputs": [],
   "source": [
    "from ase.build import fcc100\n",
    "Pt100 = fcc100(\"Pt\",size=(4,4,3),a=3.94,orthogonal=True,periodic=True,vacuum = 10)"
   ]
  },
  {
   "cell_type": "code",
   "execution_count": null,
   "metadata": {},
   "outputs": [],
   "source": [
    "from mapsy.data import Grid\n",
    "grid100: Grid = Grid(cell=Pt100.cell)"
   ]
  },
  {
   "cell_type": "code",
   "execution_count": null,
   "metadata": {},
   "outputs": [],
   "source": [
    "from mapsy.data import System\n",
    "system100: System = System(grid100, Pt100, dimension=2, axis=2)"
   ]
  },
  {
   "cell_type": "code",
   "execution_count": null,
   "metadata": {},
   "outputs": [],
   "source": [
    "from mapsy.io.parser import ContactSpaceGenerator, ContactSpaceModel\n",
    "contactspacesettings = ContactSpaceModel.parse_obj({\"mode\": \"system\", \"distance\": 3.5, \"spread\": 1.0, \"cutoff\": 80, \"threshold\": -1, \"side\":1})\n",
    "contactspace100 = ContactSpaceGenerator(contactspacesettings).generate(system100)"
   ]
  },
  {
   "cell_type": "code",
   "execution_count": null,
   "metadata": {},
   "outputs": [],
   "source": [
    "contactspace100.data"
   ]
  },
  {
   "cell_type": "code",
   "execution_count": null,
   "metadata": {},
   "outputs": [],
   "source": [
    "from mapsy.maps import Maps\n",
    "maps100 = Maps(system100,symmetryfunctions,contactspace100)"
   ]
  },
  {
   "cell_type": "code",
   "execution_count": null,
   "metadata": {},
   "outputs": [],
   "source": [
    "data100 = maps100.atcontactspace()"
   ]
  },
  {
   "cell_type": "code",
   "execution_count": null,
   "metadata": {},
   "outputs": [],
   "source": [
    "fig, ax = maps100.plot(feature='ACSF_RS_r4.5_003', cmap='Spectral', levels=24, set_aspect='scaled')\n",
    "ax.set_xlabel('x (Å)')\n",
    "ax.set_ylabel('y (Å)')\n",
    "ax.set_title('ACSF_RS_r4.5_003')\n",
    "plt.show()"
   ]
  },
  {
   "cell_type": "code",
   "execution_count": null,
   "metadata": {},
   "outputs": [],
   "source": [
    "fig, ax1, ax2 = maps100.reduce(scale=True)\n",
    "if publication: \n",
    "    ax1.set_title('PCA')\n",
    "    ax1.set_xticks(np.arange(0, 21, 4))\n",
    "    ax2.set_xticks(np.arange(0, 21, 4))\n",
    "    fig.tight_layout()"
   ]
  },
  {
   "cell_type": "code",
   "execution_count": null,
   "metadata": {},
   "outputs": [],
   "source": [
    "maps100.reduce(npca=4, scale=True)"
   ]
  },
  {
   "cell_type": "code",
   "execution_count": null,
   "metadata": {},
   "outputs": [],
   "source": [
    "fig, gs = maps100.scatter_pca_grid(index=0,cmap='Spectral',set_aspect='equal',s=70, alpha=0.05)\n",
    "fig.tight_layout()"
   ]
  },
  {
   "cell_type": "code",
   "execution_count": null,
   "metadata": {},
   "outputs": [],
   "source": [
    "fig, ax = maps100.scatter(index=0, cmap='Spectral', axes=['x','y'], alpha=1., set_aspect='scaled', s=10)\n",
    "ax.set_xlabel('x (Å)') \n",
    "ax.set_ylabel('y (Å)')\n",
    "if publication: ax.set_title(\"\")\n",
    "plt.show()"
   ]
  },
  {
   "cell_type": "code",
   "execution_count": null,
   "metadata": {},
   "outputs": [],
   "source": [
    "fig, ax = plt.subplots(1, 1, figsize=(8, 4*1))\n",
    "fig.subplots_adjust(hspace=0.3)\n",
    "ax.set_xlabel('Principal Component 1')\n",
    "ax.set_ylabel('Principal Component 2')\n",
    "ax.set_title(\"\")\n",
    "ax.set_xlim((-8.03123771959378, 10.144203352496739))\n",
    "ax.set_ylim((-5.531119537918034, 6.614474301000187))\n",
    "ax.set_xticks([ -5.,   0.,   5.,  10. ])\n",
    "ax.set_yticks([ -5.,  -2.5, 0.,  2.5,  5.])\n",
    "x1m = maps100.data['pca0'].values.astype(np.float64)\n",
    "x2m = maps100.data['pca1'].values.astype(np.float64)\n",
    "fm = maps100.data[maps100.features[0]].values.astype(np.float64)\n",
    "fmin = np.min(fm)\n",
    "fmax = np.max(fm)\n",
    "scatter = ax.scatter(x1m,x2m,c=fm,vmin=fmin,vmax=fmax,cmap='Spectral',alpha=0.05,s=60,edgecolors='black')\n",
    "ax.axis('on')\n",
    "plt.show()"
   ]
  },
  {
   "cell_type": "code",
   "execution_count": null,
   "metadata": {},
   "outputs": [],
   "source": [
    "ntries = 1\n",
    "if publication: ntries = 100\n",
    "fig, ax1, ax2 = maps100.cluster(maxclusters=15, ntries=ntries)\n",
    "if publication:\n",
    "    ax1.set_title('')\n",
    "    ax2.set_title('')"
   ]
  },
  {
   "cell_type": "code",
   "execution_count": null,
   "metadata": {},
   "outputs": [],
   "source": [
    "best_db = maps100.cluster_screening.loc[maps100.cluster_screening.groupby('nclusters')['db_index'].idxmin()]\n",
    "best_sil = maps100.cluster_screening.loc[maps100.cluster_screening.groupby('nclusters')['silhouette_score'].idxmax()]\n",
    "import seaborn as sns\n",
    "sns.set(style=\"whitegrid\", context=\"talk\")\n",
    "# Plot Silhouette Scores\n",
    "fig, ax1 = plt.subplots()\n",
    "# Plot Silhouette Scores on the left y-axis\n",
    "#ax1.scatter(maps110.cluster_screening['nclusters'], maps110.cluster_screening['silhouette_score'], color='b', marker='o', label='Silhouette Score')\n",
    "sns.boxplot(x='nclusters', y='silhouette_score', data=maps100.cluster_screening[['nclusters', 'silhouette_score']],color='b',capprops=dict(color='b'),flierprops=dict(markerfacecolor='b', markeredgecolor='b'),ax=ax1)\n",
    "#sns.reset_orig()\n",
    "#ax1.plot(best_db['nclusters']-2,best_db['silhouette_score'], '-', color='b')\n",
    "ax1.plot(best_sil['nclusters']-2,best_sil['silhouette_score'], '-', color='b')\n",
    "ax1.set_xlabel('Number of Clusters')\n",
    "ax1.set_ylabel('Silhouette Score', color='b')\n",
    "ax1.tick_params(axis='y', labelcolor='b')\n",
    "# Create a second y-axis to the right for Davies-Bouldin Index\n",
    "ax2 = ax1.twinx()\n",
    "#ax2.scatter(maps110.cluster_screening['nclusters'], maps110.cluster_screening['db_index'], color='r', marker='s', label='DB-Index')\n",
    "sns.boxplot(x='nclusters', y='db_index', data=maps100.cluster_screening[['nclusters', 'db_index']],color='r',capprops=dict(color='r'),flierprops=dict(markerfacecolor='r', markeredgecolor='r'),ax=ax2)\n",
    "#sns.reset_orig()\n",
    "ax2.plot(best_db['nclusters']-2,best_db['db_index'], '-', color='r')\n",
    "#ax2.plot(best_sil['nclusters']-2,best_sil['db_index'], ':', color='r')\n",
    "ax2.set_ylabel('Davies-Bouldin Index', color='r')\n",
    "ax2.tick_params(axis='y', labelcolor='r')\n",
    "# Title and grid\n",
    "#ax1.set_title('Silhouette Score and Davies-Bouldin Index vs. Number of Clusters')\n",
    "#ax1.grid(True)\n",
    "ax2.grid(True, linestyle='--', alpha=0.7)\n"
   ]
  },
  {
   "cell_type": "markdown",
   "metadata": {},
   "source": [
    "The optimal values of $N$ are then: $3$, $5$, possibly $12$"
   ]
  },
  {
   "cell_type": "code",
   "execution_count": null,
   "metadata": {},
   "outputs": [],
   "source": [
    "maps100.cluster(nclusters=10)"
   ]
  },
  {
   "cell_type": "code",
   "execution_count": null,
   "metadata": {},
   "outputs": [],
   "source": [
    "plt.matshow(maps100.cluster_edges)\n",
    "plt.show()"
   ]
  },
  {
   "cell_type": "code",
   "execution_count": null,
   "metadata": {},
   "outputs": [],
   "source": [
    "maps100.sites()"
   ]
  },
  {
   "cell_type": "code",
   "execution_count": null,
   "metadata": {},
   "outputs": [],
   "source": [
    "axes = ['x','y']\n",
    "fig, ax = maps100.scatter(feature='Cluster', axes=axes, categorical=True, alpha=0.80, centroids=True, set_aspect='scaled')\n",
    "ax.set_xlabel('x (Å)')\n",
    "ax.set_ylabel('y (Å)')\n",
    "ax.set_title('Clusters')\n",
    "if publication:\n",
    "    ax.set_title('')\n",
    "    ax.get_legend().remove()\n",
    "plt.show()"
   ]
  },
  {
   "cell_type": "code",
   "execution_count": null,
   "metadata": {},
   "outputs": [],
   "source": [
    "axes = ['pca0','pca1']\n",
    "fig, ax = maps100.scatter(feature='Cluster', categorical=True, axes=axes, alpha=0.05, s=70,  edgecolors='black', set_aspect='on')\n",
    "G = nx.from_numpy_array(maps100.cluster_edges,create_using=nx.DiGraph,parallel_edges=False)\n",
    "pos = maps100.data.loc[maps100.centroids,axes].values\n",
    "weights = [ d['weight']/200 for (u, v, d) in G.edges(data=True)]\n",
    "nx.draw(G, pos, node_size=maps100.cluster_sizes, width=weights, ax=ax, alpha=0.4)\n",
    "limits=ax.axis('on') # turns on axis\n",
    "ax.tick_params(left=True, bottom=True, labelleft=True, labelbottom=True)\n",
    "ax.set_xlabel('Principal Component 1')\n",
    "ax.set_ylabel('Principal Component 2')\n",
    "ax.set_title('Clusters')\n",
    "if publication:\n",
    "    ax.set_title('')\n",
    "    ax.get_legend().remove()\n",
    "plt.show()"
   ]
  },
  {
   "cell_type": "markdown",
   "metadata": {},
   "source": [
    "## Pt(110) Surface"
   ]
  },
  {
   "cell_type": "code",
   "execution_count": null,
   "metadata": {},
   "outputs": [],
   "source": [
    "from ase.build import fcc110\n",
    "Pt110 = fcc110(\"Pt\",size=(4,4,3),a=3.94,orthogonal=True,periodic=True,vacuum = 10)"
   ]
  },
  {
   "cell_type": "code",
   "execution_count": null,
   "metadata": {},
   "outputs": [],
   "source": [
    "from mapsy.data import Grid\n",
    "grid110: Grid = Grid(cell=Pt110.cell)"
   ]
  },
  {
   "cell_type": "code",
   "execution_count": null,
   "metadata": {},
   "outputs": [],
   "source": [
    "from mapsy.data import System\n",
    "system110: System = System(grid110, Pt110, dimension=2, axis=2)"
   ]
  },
  {
   "cell_type": "code",
   "execution_count": null,
   "metadata": {},
   "outputs": [],
   "source": [
    "from mapsy.io.parser import ContactSpaceGenerator, ContactSpaceModel\n",
    "contactspacesettings = ContactSpaceModel.parse_obj({\"mode\": \"system\", \"distance\": 3.5, \"spread\": 1.0, \"cutoff\": 80, \"threshold\": -1, \"side\":1})\n",
    "contactspace110 = ContactSpaceGenerator(contactspacesettings).generate(system110)"
   ]
  },
  {
   "cell_type": "code",
   "execution_count": null,
   "metadata": {},
   "outputs": [],
   "source": [
    "contactspace110.data"
   ]
  },
  {
   "cell_type": "code",
   "execution_count": null,
   "metadata": {},
   "outputs": [],
   "source": [
    "from mapsy.maps import Maps\n",
    "maps110 = Maps(system110,symmetryfunctions,contactspace110)"
   ]
  },
  {
   "cell_type": "code",
   "execution_count": null,
   "metadata": {},
   "outputs": [],
   "source": [
    "data110 = maps110.atcontactspace()"
   ]
  },
  {
   "cell_type": "code",
   "execution_count": null,
   "metadata": {},
   "outputs": [],
   "source": [
    "fig, ax = maps110.plot(index=7, cmap='Spectral', levels=24, set_aspect='scaled')\n",
    "ax.set_title(maps110.features[7])\n",
    "ax.set_xlabel('x (Å)')\n",
    "ax.set_ylabel('y (Å)')\n",
    "plt.show()"
   ]
  },
  {
   "cell_type": "code",
   "execution_count": null,
   "metadata": {},
   "outputs": [],
   "source": [
    "fig, ax1, ax2 = maps110.reduce(scale=True)\n",
    "if publication:\n",
    "    ax1.set_xticks(np.arange(0, 21, 4))\n",
    "    ax2.set_xticks(np.arange(0, 21, 4))\n",
    "    ax1.set_title('PCA')\n",
    "    fig.tight_layout()"
   ]
  },
  {
   "cell_type": "code",
   "execution_count": null,
   "metadata": {},
   "outputs": [],
   "source": [
    "maps110.reduce(npca=4, scale=True)"
   ]
  },
  {
   "cell_type": "code",
   "execution_count": null,
   "metadata": {},
   "outputs": [],
   "source": [
    "fig, gs = maps110.scatter_pca_grid(index=0,cmap='Spectral',set_aspect='equal',s=50, alpha=0.05)\n",
    "fig.tight_layout()"
   ]
  },
  {
   "cell_type": "code",
   "execution_count": null,
   "metadata": {},
   "outputs": [],
   "source": [
    "fig, ax = maps110.scatter(index=0, cmap='Spectral', axes=['x','y'], alpha=1., set_aspect='scaled', s=10)\n",
    "ax.set_xlabel('x (Å)')\n",
    "ax.set_ylabel('y (Å)')\n",
    "if publication: ax.set_title(\"\")\n",
    "plt.show()"
   ]
  },
  {
   "cell_type": "code",
   "execution_count": null,
   "metadata": {},
   "outputs": [],
   "source": [
    "fig, ax = plt.subplots(1, 1, figsize=(8, 4*1))\n",
    "fig.subplots_adjust(hspace=0.3)\n",
    "ax.set_xlabel('Principal Component 1')\n",
    "ax.set_ylabel('Principal Component 2')\n",
    "ax.set_title(\"\")  \n",
    "ax.set_xlim((-5.149891252326163, 8.129674135920126))\n",
    "ax.set_ylim((-5.116892034864052, 6.098692971496631))\n",
    "ax.set_xticks([-6., -4., -2.,  0.,  2.,  4.,  6.,  8.])\n",
    "ax.set_yticks([ -5.,  -2.5,  0.,   2.5,  5.])\n",
    "x1m = maps110.data['pca0'].values.astype(np.float64)\n",
    "x2m = maps110.data['pca1'].values.astype(np.float64)\n",
    "fm = maps110.data[maps110.features[0]].values.astype(np.float64)\n",
    "fmin = np.min(fm)\n",
    "fmax = np.max(fm)\n",
    "scatter = ax.scatter(x1m,x2m,c=fm,vmin=fmin,vmax=fmax,cmap='Spectral',alpha=0.05,s=60,edgecolors='black')\n",
    "ax.axis('on')\n",
    "plt.show()"
   ]
  },
  {
   "cell_type": "code",
   "execution_count": null,
   "metadata": {},
   "outputs": [],
   "source": [
    "ntries = 1\n",
    "if publication: ntries = 100\n",
    "fig, ax1, ax2 = maps110.cluster(maxclusters=15, ntries=ntries)\n",
    "if publication:\n",
    "    ax1.set_title('')\n",
    "    ax2.set_title('')"
   ]
  },
  {
   "cell_type": "code",
   "execution_count": null,
   "metadata": {},
   "outputs": [],
   "source": [
    "maps110.cluster_screening"
   ]
  },
  {
   "cell_type": "code",
   "execution_count": null,
   "metadata": {},
   "outputs": [],
   "source": [
    "best_db"
   ]
  },
  {
   "cell_type": "code",
   "execution_count": null,
   "metadata": {},
   "outputs": [],
   "source": [
    "best_db = maps110.cluster_screening.loc[maps110.cluster_screening.groupby('nclusters')['db_index'].idxmin()]\n",
    "best_sil = maps110.cluster_screening.loc[maps110.cluster_screening.groupby('nclusters')['silhouette_score'].idxmin()]\n",
    "import seaborn as sns\n",
    "# Plot Silhouette Scores\n",
    "fig, ax1 = plt.subplots()\n",
    "# Plot Silhouette Scores on the left y-axis\n",
    "#ax1.scatter(maps110.cluster_screening['nclusters'], maps110.cluster_screening['silhouette_score'], color='b', marker='o', label='Silhouette Score')\n",
    "sns.stripplot(x='nclusters', y='silhouette_score', data=maps110.cluster_screening[['nclusters', 'silhouette_score']],color='blue',ax=ax1)\n",
    "#sns.reset_orig()\n",
    "ax1.plot(best_db['nclusters']-2,best_db['silhouette_score'], '-', color='b')\n",
    "ax1.plot(best_sil['nclusters']-2,best_sil['silhouette_score'], ':', color='b')\n",
    "ax1.set_xlabel('Number of Clusters')\n",
    "ax1.set_ylabel('Silhouette Score', color='b')\n",
    "ax1.tick_params(axis='y', labelcolor='b')\n",
    "# Create a second y-axis to the right for Davies-Bouldin Index\n",
    "ax2 = ax1.twinx()\n",
    "#ax2.scatter(maps110.cluster_screening['nclusters'], maps110.cluster_screening['db_index'], color='r', marker='s', label='DB-Index')\n",
    "sns.stripplot(x='nclusters', y='db_index', data=maps110.cluster_screening[['nclusters', 'db_index']],color='red',ax=ax2)\n",
    "#sns.reset_orig()\n",
    "ax2.plot(best_db['nclusters']-2,best_db['db_index'], '-', color='r')\n",
    "ax2.plot(best_sil['nclusters']-2,best_sil['db_index'], ':', color='r')\n",
    "ax2.set_ylabel('Davies-Bouldin Index', color='r')\n",
    "ax2.tick_params(axis='y', labelcolor='r')\n",
    "# Title and grid\n",
    "#ax1.set_title('Silhouette Score and Davies-Bouldin Index vs. Number of Clusters')\n",
    "ax1.grid(True)\n"
   ]
  },
  {
   "cell_type": "markdown",
   "metadata": {},
   "source": [
    "Optimal values of $N$ are $4$, $9$, and possibly $12$"
   ]
  },
  {
   "cell_type": "code",
   "execution_count": null,
   "metadata": {},
   "outputs": [],
   "source": [
    "maps110.cluster(nclusters=4)"
   ]
  },
  {
   "cell_type": "code",
   "execution_count": null,
   "metadata": {},
   "outputs": [],
   "source": [
    "plt.matshow(maps110.cluster_edges)\n",
    "plt.show()"
   ]
  },
  {
   "cell_type": "code",
   "execution_count": null,
   "metadata": {},
   "outputs": [],
   "source": [
    "maps110.sites()"
   ]
  },
  {
   "cell_type": "code",
   "execution_count": null,
   "metadata": {},
   "outputs": [],
   "source": [
    "axes = ['x','y']#['pca0','pca2']\n",
    "fig, ax = maps110.scatter(feature='Cluster', axes=axes, categorical=True, alpha=0.95, centroids=True, set_aspect='scaled')\n",
    "ax.set_xlabel('x (Å)')\n",
    "ax.set_ylabel('y (Å)')\n",
    "ax.set_title('Clusters')\n",
    "if publication:\n",
    "    ax.set_title('')\n",
    "    ax.get_legend().remove()\n",
    "plt.show()"
   ]
  },
  {
   "cell_type": "code",
   "execution_count": null,
   "metadata": {},
   "outputs": [],
   "source": [
    "axes = ['pca0','pca1']\n",
    "fig, ax = maps110.scatter(feature='Cluster', categorical=True, axes=axes, alpha=0.04, s=70,  edgecolors='black',set_aspect='on')\n",
    "G = nx.from_numpy_array(maps110.cluster_edges,create_using=nx.DiGraph,parallel_edges=False)\n",
    "pos = maps110.data.loc[maps110.centroids,axes].values\n",
    "weights = [ d['weight']/100 for (u, v, d) in G.edges(data=True)]\n",
    "nx.draw(G, pos, node_size=maps110.cluster_sizes, width=weights, ax=ax, alpha=0.5)\n",
    "limits=ax.axis('on') # turns on axis\n",
    "ax.tick_params(left=True, bottom=True, labelleft=True, labelbottom=True)\n",
    "ax.set_xlabel('Principal Component 1')\n",
    "ax.set_ylabel('Principal Component 2')\n",
    "ax.set_title('Clusters')\n",
    "if publication:\n",
    "    ax.set_title('')\n",
    "    ax.get_legend().remove()\n",
    "plt.show()"
   ]
  }
 ],
 "metadata": {
  "kernelspec": {
   "display_name": "Python 3",
   "language": "python",
   "name": "python3"
  },
  "language_info": {
   "codemirror_mode": {
    "name": "ipython",
    "version": 3
   },
   "file_extension": ".py",
   "mimetype": "text/x-python",
   "name": "python",
   "nbconvert_exporter": "python",
   "pygments_lexer": "ipython3"
  }
 },
 "nbformat": 4,
 "nbformat_minor": 2
}
