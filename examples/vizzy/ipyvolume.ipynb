{
 "cells": [
  {
   "cell_type": "code",
   "execution_count": null,
   "id": "228fad2c",
   "metadata": {},
   "outputs": [],
   "source": [
    "from ase.io.cube import read_cube\n",
    "with open('test1.cube', 'r') as cubeFile:\n",
    "    output = read_cube(cubeFile, read_data=True, program=None, verbose=False)\n",
    "print(output)"
   ]
  },
  {
   "cell_type": "code",
   "execution_count": null,
   "id": "4f6ec207",
   "metadata": {},
   "outputs": [],
   "source": [
    "print(type(output['data']))"
   ]
  },
  {
   "cell_type": "code",
   "execution_count": null,
   "id": "da89848d",
   "metadata": {},
   "outputs": [],
   "source": [
    "print(output['atoms'].cell)"
   ]
  }
 ],
 "metadata": {
  "kernelspec": {
   "display_name": ".venv",
   "language": "python",
   "name": "python3"
  },
  "language_info": {
   "codemirror_mode": {
    "name": "ipython",
    "version": 3
   },
   "file_extension": ".py",
   "mimetype": "text/x-python",
   "name": "python",
   "nbconvert_exporter": "python",
   "pygments_lexer": "ipython3",
   "version": "3.12.3"
  }
 },
 "nbformat": 4,
 "nbformat_minor": 5
}
