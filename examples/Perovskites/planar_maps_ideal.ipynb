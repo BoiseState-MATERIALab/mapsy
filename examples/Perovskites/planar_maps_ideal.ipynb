{
 "cells": [
  {
   "cell_type": "markdown",
   "metadata": {},
   "source": [
    "# Benchmarks and Tests of Maps for Perovskite Oxides"
   ]
  },
  {
   "cell_type": "code",
   "execution_count": null,
   "metadata": {},
   "outputs": [],
   "source": [
    "import numpy as np\n",
    "import pandas as pd\n",
    "import matplotlib.pyplot as plt\n",
    "import networkx as nx"
   ]
  },
  {
   "cell_type": "code",
   "execution_count": null,
   "metadata": {},
   "outputs": [],
   "source": [
    "default_fontsize = plt.rcParams['font.size']\n",
    "publication_fontsize_large = 20\n",
    "publication = False\n",
    "if publication: plt.rcParams.update({'font.size': publication_fontsize_large})"
   ]
  },
  {
   "cell_type": "markdown",
   "metadata": {},
   "source": [
    "## $LaSrCo_2O_6$ Surface"
   ]
  },
  {
   "cell_type": "markdown",
   "metadata": {},
   "source": [
    "Generate the ASE.Atoms instance using the XYZ read function. "
   ]
  },
  {
   "cell_type": "code",
   "execution_count": null,
   "metadata": {},
   "outputs": [],
   "source": [
    "from ase.io import read\n",
    "LaSrCo2O6 = read('La.5Sr.5CoO3.xyz')"
   ]
  },
  {
   "cell_type": "code",
   "execution_count": null,
   "metadata": {},
   "outputs": [],
   "source": [
    "from ase.visualize import view\n",
    "view(LaSrCo2O6, viewer='x3d')"
   ]
  },
  {
   "cell_type": "code",
   "execution_count": null,
   "metadata": {},
   "outputs": [],
   "source": [
    "LaSrCo2O6.positions"
   ]
  },
  {
   "cell_type": "markdown",
   "metadata": {},
   "source": [
    "From the `ASE.Cell` and the generated `ASE.Atoms`, create a `MapSy.Grid` and a `MapSy.System`"
   ]
  },
  {
   "cell_type": "code",
   "execution_count": null,
   "metadata": {},
   "outputs": [],
   "source": [
    "from mapsy.data import Grid\n",
    "grid: Grid = Grid(cell=LaSrCo2O6.cell)"
   ]
  },
  {
   "cell_type": "code",
   "execution_count": null,
   "metadata": {},
   "outputs": [],
   "source": [
    "from mapsy.data import System\n",
    "system: System = System(grid, LaSrCo2O6, dimension=2, axis=2)"
   ]
  },
  {
   "cell_type": "markdown",
   "metadata": {},
   "source": [
    "In this notebook we will consider a simplified contact space composed by points that are all in the same planes above and below the material. This contact space is generated starting from a smoothly-varying boundary function that is centered on the system's center of mass and varies smoothly from 1 to 0 at the specified `distance` from the center. The smoothness of the transition is controlled by the `spread` parameter. The resolution of the points is controlled by the `cutoff` keyword, with larger values corresponding to more fine grids. Given the 2D nature of the system (as specified in the `dimension` and `axis` keywords above) the generated points ideally correspond to two flat regions above and below the materials and perpendicural to the z Cartesian direction. The `side` keyword allows to choose the top (+1) or bottom (-1) region. Setting the `threshold` to a negative value will select the points that have the largest modulus of the gradient of the boundary function, it thus allows us to only focus on the points at the center of the selected transition region. "
   ]
  },
  {
   "cell_type": "code",
   "execution_count": null,
   "metadata": {},
   "outputs": [],
   "source": [
    "from mapsy.io.parser import ContactSpaceGenerator, ContactSpaceModel\n",
    "contactspacesettings = ContactSpaceModel.parse_obj({\"mode\": \"system\", \"distance\": 5.5, \"spread\": 1.0, \"cutoff\": 80, \"threshold\": -1, 'side':1})\n",
    "contactspace = ContactSpaceGenerator(contactspacesettings).generate(system)"
   ]
  },
  {
   "cell_type": "markdown",
   "metadata": {},
   "source": [
    "Check the generated contact space: each point is associated with a `probability` column that corresponds to the scaled modulus of the gradient of the contact space interface. For each point we also compute the indexes of the neighboring points and the region (topologically disconnected groups of points) to which they belong. Given the slab nature of the substrate, we expect to generate two regions of points on the two opposite faces of the material."
   ]
  },
  {
   "cell_type": "code",
   "execution_count": null,
   "metadata": {},
   "outputs": [],
   "source": [
    "contactspace.data"
   ]
  },
  {
   "cell_type": "code",
   "execution_count": null,
   "metadata": {},
   "outputs": [],
   "source": [
    "from mapsy.symfunc.input import SymmetryFunctionsModel, SymFuncModel\n",
    "from mapsy.symfunc.parser import SymmetryFunctionsParser\n",
    "symfuncsettings_structural = SymmetryFunctionsModel.parse_obj({\"functions\": [SymFuncModel.parse_obj({\"type\":\"ac\",\"radius\":4.5,\"order\":10,\"compositional\":False,\"structural\":True}),SymFuncModel.parse_obj({\"type\":\"ac\",\"radius\":4.5,\"order\":10,\"compositional\":False,\"structural\":True,\"radial\":False})]})\n",
    "symmetryfunctions_structural = SymmetryFunctionsParser(symfuncsettings_structural).parse()\n",
    "symfuncsettings_compositional = SymmetryFunctionsModel.parse_obj({\"functions\": [SymFuncModel.parse_obj({\"type\":\"ac\",\"radius\":4.5,\"order\":10,\"compositional\":True,\"structural\":False}),SymFuncModel.parse_obj({\"type\":\"ac\",\"radius\":4.5,\"order\":10,\"compositional\":True,\"structural\":False,\"radial\":False})]})\n",
    "symmetryfunctions_compositional = SymmetryFunctionsParser(symfuncsettings_compositional).parse()"
   ]
  },
  {
   "cell_type": "code",
   "execution_count": null,
   "metadata": {},
   "outputs": [],
   "source": [
    "from mapsy.maps import Maps\n",
    "maps_structural = Maps(system,symmetryfunctions_structural,contactspace)\n",
    "maps_compositional = Maps(system,symmetryfunctions_compositional,contactspace)    "
   ]
  },
  {
   "cell_type": "code",
   "execution_count": null,
   "metadata": {},
   "outputs": [],
   "source": [
    "data_structural = maps_structural.atcontactspace()\n",
    "data_compositional = maps_compositional.atcontactspace()"
   ]
  },
  {
   "cell_type": "markdown",
   "metadata": {},
   "source": [
    "We can visualize features to check how they look using `Maps.plot(feature: str)` or `Maps.plot(index: int)`. "
   ]
  },
  {
   "cell_type": "code",
   "execution_count": null,
   "metadata": {},
   "outputs": [],
   "source": [
    "for index in range(20):\n",
    "    fig, axes = maps_compositional.plot(index=index, cmap='Spectral', set_aspect='scaled', levels=20)\n",
    "    axes.set_title(f'{maps_compositional.features[index]}')\n",
    "    axes.set_xlabel('x (Å)')\n",
    "    axes.set_ylabel('y (Å)')\n",
    "    plt.show()"
   ]
  },
  {
   "cell_type": "markdown",
   "metadata": {},
   "source": [
    "## Dimensionality Reduction (PCA)"
   ]
  },
  {
   "cell_type": "markdown",
   "metadata": {},
   "source": [
    "For visualization and post-processing purposes, perform dimensionality reduction on the generated features. We can first determine how many components we need, by checking the explained variance. "
   ]
  },
  {
   "cell_type": "code",
   "execution_count": null,
   "metadata": {},
   "outputs": [],
   "source": [
    "fig, ax1, ax2 = maps_structural.reduce(scale=True)\n",
    "if (publication) : \n",
    "    ax1.set_title('PCA')\n",
    "    fig.tight_layout()"
   ]
  },
  {
   "cell_type": "code",
   "execution_count": null,
   "metadata": {},
   "outputs": [],
   "source": [
    "fig, ax1, ax2 = maps_compositional.reduce(scale=True)\n",
    "if (publication) : \n",
    "    ax1.set_title('PCA')\n",
    "    fig.tight_layout()"
   ]
  },
  {
   "cell_type": "markdown",
   "metadata": {},
   "source": [
    "For visualization purposes we don't want more than 3 components, but it seems that for this specific system 5 components are enough to explain 99% of the variance, with 6 components able to fully explain the variance in the features. "
   ]
  },
  {
   "cell_type": "code",
   "execution_count": null,
   "metadata": {},
   "outputs": [],
   "source": [
    "npca_structural = 4\n",
    "maps_structural.reduce(npca_structural, scale=True)"
   ]
  },
  {
   "cell_type": "code",
   "execution_count": null,
   "metadata": {},
   "outputs": [],
   "source": [
    "npca_compositional = 5\n",
    "maps_compositional.reduce(npca_compositional, scale=True)"
   ]
  },
  {
   "cell_type": "markdown",
   "metadata": {},
   "source": [
    "We can visually inspect how the PCAs correlate with the Cartesian coordinates of the points (e.g., PCA3 distinguishes between HCP and FCC hollow sites)"
   ]
  },
  {
   "cell_type": "code",
   "execution_count": null,
   "metadata": {},
   "outputs": [],
   "source": [
    "for i in range(npca_structural):\n",
    "    fig, axes = maps_structural.plot(feature=f'pca{i}', axes=['x', 'y'],cmap='Spectral', set_aspect='scaled', levels=20)\n",
    "    axes.set_title(f'PCA {i+1}')\n",
    "    axes.set_xlabel('x (Å)')\n",
    "    axes.set_ylabel('y (Å)')\n",
    "    plt.show()"
   ]
  },
  {
   "cell_type": "code",
   "execution_count": null,
   "metadata": {},
   "outputs": [],
   "source": [
    "for i in range(npca_compositional):\n",
    "    fig, axes = maps_compositional.plot(feature=f'pca{i}', axes=['x', 'y'],cmap='Spectral', set_aspect='scaled', levels=20)\n",
    "    axes.set_title(f'PCA {i+1}')\n",
    "    axes.set_xlabel('x (Å)')\n",
    "    axes.set_ylabel('y (Å)')\n",
    "    plt.show()"
   ]
  },
  {
   "cell_type": "markdown",
   "metadata": {},
   "source": [
    "We can also verify how the contact space is transformed (folded) in the symmetry function space. "
   ]
  },
  {
   "cell_type": "code",
   "execution_count": null,
   "metadata": {},
   "outputs": [],
   "source": [
    "fig, ax = maps_structural.scatter(index=0, cmap='Spectral', axes=['x','y'], alpha=1., set_aspect='scaled', s=10)\n",
    "ax.set_xlabel('x (Å)')\n",
    "ax.set_ylabel('y (Å)')\n",
    "if publication : ax.set_title(\"\")\n",
    "plt.show()"
   ]
  },
  {
   "cell_type": "code",
   "execution_count": null,
   "metadata": {},
   "outputs": [],
   "source": [
    "fig, ax = maps_compositional.scatter(index=0, cmap='Spectral', axes=['x','y'], alpha=1., set_aspect='scaled', s=10)\n",
    "ax.set_xlabel('x (Å)')\n",
    "ax.set_ylabel('y (Å)')\n",
    "if publication : ax.set_title(\"\")\n",
    "plt.show()"
   ]
  },
  {
   "cell_type": "code",
   "execution_count": null,
   "metadata": {},
   "outputs": [],
   "source": [
    "fig, ax = plt.subplots(1, 1, figsize=(8, 4*1))\n",
    "fig.subplots_adjust(hspace=0.3)\n",
    "ax.set_xlabel('Principal Component 1')\n",
    "ax.set_ylabel('Principal Component 2')\n",
    "ax.set_title(\"\")\n",
    "#ax.set_xlim(-8.5,13)\n",
    "#ax.set_ylim(-1.5,4.8)\n",
    "x1m = maps_structural.data['pca0'].values.astype(np.float64)\n",
    "x2m = maps_structural.data['pca1'].values.astype(np.float64)\n",
    "fm = maps_structural.data[maps_structural.features[0]].values.astype(np.float64)\n",
    "fmin = np.min(fm)\n",
    "fmax = np.max(fm)\n",
    "scatter = ax.scatter(x1m,x2m,c=fm,vmin=fmin,vmax=fmax,cmap='Spectral',alpha=0.05,s=60,edgecolors='black')\n",
    "ax.axis('on')\n",
    "plt.show()"
   ]
  },
  {
   "cell_type": "code",
   "execution_count": null,
   "metadata": {},
   "outputs": [],
   "source": [
    "fig, ax = plt.subplots(1, 1, figsize=(8, 4*1))\n",
    "fig.subplots_adjust(hspace=0.3)\n",
    "ax.set_xlabel('Principal Component 1')\n",
    "ax.set_ylabel('Principal Component 3')\n",
    "ax.set_title(\"\")\n",
    "#ax.set_xlim(-8.5,13)\n",
    "#ax.set_ylim(-1.5,4.8)\n",
    "x1m = maps_compositional.data['pca0'].values.astype(np.float64)\n",
    "x2m = maps_compositional.data['pca2'].values.astype(np.float64)\n",
    "fm = maps_compositional.data[maps_compositional.features[0]].values.astype(np.float64)\n",
    "fmin = np.min(fm)\n",
    "fmax = np.max(fm)\n",
    "scatter = ax.scatter(x1m,x2m,c=fm,vmin=fmin,vmax=fmax,cmap='Spectral',alpha=0.05,s=60,edgecolors='black')\n",
    "ax.axis('on')\n",
    "plt.show()"
   ]
  },
  {
   "cell_type": "markdown",
   "metadata": {},
   "source": [
    "More in general, we can plot any feature in all possible 2D spaces of principal components:"
   ]
  },
  {
   "cell_type": "code",
   "execution_count": null,
   "metadata": {},
   "outputs": [],
   "source": [
    "fig, gs = maps_structural.scatter_pca_grid(index=0,cmap='Spectral',set_aspect='equal',s=70, alpha=0.05)\n",
    "fig.tight_layout()"
   ]
  },
  {
   "cell_type": "code",
   "execution_count": null,
   "metadata": {},
   "outputs": [],
   "source": [
    "fig, gs = maps_compositional.scatter_pca_grid(index=0,cmap='Spectral',set_aspect='equal',s=70, alpha=0.05)\n",
    "fig.tight_layout()"
   ]
  },
  {
   "cell_type": "markdown",
   "metadata": {},
   "source": [
    "## Perform Clustering on Generated Features"
   ]
  },
  {
   "cell_type": "markdown",
   "metadata": {},
   "source": [
    "Use SpectralClustering to find N clusters in the featured data. First, we run the analysis to identify promising values of N in terms of the Silouette scores and Davis-Bouldin indexes. Local maxima in Silouette score and local minima in Davis-Bouldin index correspond to better clustered data. "
   ]
  },
  {
   "cell_type": "code",
   "execution_count": null,
   "metadata": {},
   "outputs": [],
   "source": [
    "ntries = 1\n",
    "if publication: ntries = 100\n",
    "fig, ax1, ax2 = maps_structural.cluster(maxclusters=16, ntries=ntries)\n",
    "if publication: \n",
    "    ax1.set_title('')\n",
    "    ax2.set_title('')\n",
    "plt.show()"
   ]
  },
  {
   "cell_type": "markdown",
   "metadata": {},
   "source": [
    "The analysis above suggests that $N=3$, $N=6$, and $N=10$ may provide better clusters. We can perform the analysis with one of these values:"
   ]
  },
  {
   "cell_type": "code",
   "execution_count": null,
   "metadata": {},
   "outputs": [],
   "source": [
    "nclusters = 11\n",
    "maps_structural.cluster(nclusters)"
   ]
  },
  {
   "cell_type": "markdown",
   "metadata": {},
   "source": [
    "Given the clusters, plot the connectivity matrix"
   ]
  },
  {
   "cell_type": "code",
   "execution_count": null,
   "metadata": {},
   "outputs": [],
   "source": [
    "plt.matshow(maps_structural.cluster_edges)\n",
    "plt.show()"
   ]
  },
  {
   "cell_type": "markdown",
   "metadata": {},
   "source": [
    "Given the clusters and the connectivity, find the high-symmetry sites"
   ]
  },
  {
   "cell_type": "code",
   "execution_count": null,
   "metadata": {},
   "outputs": [],
   "source": [
    "maps_structural.sites()"
   ]
  },
  {
   "cell_type": "markdown",
   "metadata": {},
   "source": [
    "Visualize the results"
   ]
  },
  {
   "cell_type": "code",
   "execution_count": null,
   "metadata": {},
   "outputs": [],
   "source": [
    "fig, ax = maps_structural.scatter(feature='Cluster', categorical=True, s=20, alpha=0.8, set_aspect='scaled', centroids=True)\n",
    "ax.set_xlabel('x (Å)')\n",
    "ax.set_ylabel('y (Å)')\n",
    "ax.set_title('Clusters')\n",
    "if publication:\n",
    "    ax.set_title('')\n",
    "    ax.get_legend().remove()\n",
    "plt.show()"
   ]
  },
  {
   "cell_type": "markdown",
   "metadata": {},
   "source": [
    "We can now visualize the clustering in PCA space, together with the connectivity matrix and centroids"
   ]
  },
  {
   "cell_type": "code",
   "execution_count": null,
   "metadata": {},
   "outputs": [],
   "source": [
    "axes = ['pca0','pca1']\n",
    "fig, ax = maps_structural.scatter(feature='Cluster', categorical=True, axes=axes, alpha=0.05, s=70, edgecolors='black', set_aspect='on')\n",
    "G = nx.from_numpy_array(maps_structural.cluster_edges,create_using=nx.DiGraph,parallel_edges=False)\n",
    "pos = maps_structural.data.loc[maps_structural.centroids,axes].values\n",
    "weights = [ d['weight']/200 for (u, v, d) in G.edges(data=True)]\n",
    "nx.draw(G, pos, node_size=maps_structural.cluster_sizes, width=weights, ax=ax, alpha=0.5)\n",
    "limits=ax.axis('on') # turns on axis\n",
    "ax.tick_params(left=True, bottom=True, labelleft=True, labelbottom=True)\n",
    "ax.set_xlabel('Principal Component 1')\n",
    "ax.set_ylabel('Principal Component 2')\n",
    "ax.set_title('Clusters')\n",
    "if publication:\n",
    "    ax.set_title('')\n",
    "    ax.get_legend().remove()\n",
    "plt.show()"
   ]
  },
  {
   "cell_type": "code",
   "execution_count": null,
   "metadata": {},
   "outputs": [],
   "source": [
    "ntries = 1\n",
    "if publication: ntries = 100\n",
    "fig, ax1, ax2 = maps_compositional.cluster(maxclusters=16, ntries=ntries)\n",
    "if publication: \n",
    "    ax1.set_title('')\n",
    "    ax2.set_title('')\n",
    "plt.show()"
   ]
  },
  {
   "cell_type": "markdown",
   "metadata": {},
   "source": [
    "The analysis above suggests that $N=5$, and $N=13$ may provide better clusters. We can perform the analysis with one of these values:"
   ]
  },
  {
   "cell_type": "code",
   "execution_count": null,
   "metadata": {},
   "outputs": [],
   "source": [
    "nclusters = 13\n",
    "maps_compositional.cluster(nclusters)"
   ]
  },
  {
   "cell_type": "code",
   "execution_count": null,
   "metadata": {},
   "outputs": [],
   "source": [
    "maps_compositional.sites()"
   ]
  },
  {
   "cell_type": "code",
   "execution_count": null,
   "metadata": {},
   "outputs": [],
   "source": [
    "fig, ax = maps_compositional.scatter(feature='Cluster', categorical=True, s=20, alpha=0.8, set_aspect='scaled', centroids=True)\n",
    "ax.set_xlabel('x (Å)')\n",
    "ax.set_ylabel('y (Å)')\n",
    "ax.set_title('Clusters')\n",
    "if publication:\n",
    "    ax.set_title('')\n",
    "    ax.get_legend().remove()\n",
    "plt.show()"
   ]
  },
  {
   "cell_type": "code",
   "execution_count": null,
   "metadata": {},
   "outputs": [],
   "source": [
    "axes = ['pca0','pca2']\n",
    "fig, ax = maps_compositional.scatter(feature='Cluster', categorical=True, axes=axes, alpha=0.05, s=70, edgecolors='black', set_aspect='on')\n",
    "G = nx.from_numpy_array(maps_compositional.cluster_edges,create_using=nx.DiGraph,parallel_edges=False)\n",
    "pos = maps_compositional.data.loc[maps_compositional.centroids,axes].values\n",
    "weights = [ d['weight']/200 for (u, v, d) in G.edges(data=True)]\n",
    "nx.draw(G, pos, node_size=maps_compositional.cluster_sizes, width=weights, ax=ax, alpha=0.5)\n",
    "limits=ax.axis('on') # turns on axis\n",
    "ax.tick_params(left=True, bottom=True, labelleft=True, labelbottom=True)\n",
    "ax.set_xlabel('Principal Component 1')\n",
    "ax.set_ylabel('Principal Component 3')\n",
    "ax.set_title('Clusters')\n",
    "if publication:\n",
    "    ax.set_title('')\n",
    "    ax.get_legend().remove()\n",
    "plt.show()"
   ]
  }
 ],
 "metadata": {
  "kernelspec": {
   "display_name": "Python 3",
   "language": "python",
   "name": "python3"
  },
  "language_info": {
   "codemirror_mode": {
    "name": "ipython",
    "version": 3
   },
   "file_extension": ".py",
   "mimetype": "text/x-python",
   "name": "python",
   "nbconvert_exporter": "python",
   "pygments_lexer": "ipython3"
  }
 },
 "nbformat": 4,
 "nbformat_minor": 2
}
