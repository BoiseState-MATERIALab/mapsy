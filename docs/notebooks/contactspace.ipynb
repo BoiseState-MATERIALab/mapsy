{
 "cells": [
  {
   "cell_type": "code",
   "execution_count": null,
   "metadata": {},
   "outputs": [],
   "source": [
    "import numpy as np\n",
    "import matplotlib.pyplot as plt\n",
    "import pandas as pd"
   ]
  },
  {
   "cell_type": "code",
   "execution_count": null,
   "metadata": {},
   "outputs": [],
   "source": [
    "default_fontsize = plt.rcParams['font.size']\n",
    "publication_fontsize_large = 20\n",
    "publication = True\n",
    "if publication: plt.rcParams.update({'font.size': publication_fontsize_large})"
   ]
  },
  {
   "cell_type": "markdown",
   "metadata": {},
   "source": [
    "## Contact Space for a Molecular System (0D)"
   ]
  },
  {
   "cell_type": "markdown",
   "metadata": {},
   "source": [
    "### Generate the Molecule"
   ]
  },
  {
   "cell_type": "code",
   "execution_count": null,
   "metadata": {},
   "outputs": [],
   "source": [
    "from ase.build import molecule"
   ]
  },
  {
   "cell_type": "code",
   "execution_count": null,
   "metadata": {},
   "outputs": [],
   "source": [
    "water = molecule('H2O')\n",
    "water.translate([5, 5, 5])\n",
    "water.set_cell([10, 10, 10])"
   ]
  },
  {
   "cell_type": "code",
   "execution_count": null,
   "metadata": {},
   "outputs": [],
   "source": [
    "water.positions"
   ]
  },
  {
   "cell_type": "code",
   "execution_count": null,
   "metadata": {},
   "outputs": [],
   "source": [
    "from mapsy.data import Grid\n",
    "water_grid: Grid = Grid(cell=water.cell)"
   ]
  },
  {
   "cell_type": "code",
   "execution_count": null,
   "metadata": {},
   "outputs": [],
   "source": [
    "from mapsy.data import System\n",
    "system_0D: System = System(water_grid, water, dimension=0)"
   ]
  },
  {
   "cell_type": "markdown",
   "metadata": {},
   "source": [
    "### Contact Space on System Boundary"
   ]
  },
  {
   "cell_type": "code",
   "execution_count": null,
   "metadata": {},
   "outputs": [],
   "source": [
    "from mapsy.io.parser import ContactSpaceGenerator, ContactSpaceModel\n",
    "contactspacesettings = ContactSpaceModel.parse_obj({\"mode\": \"system\", \"distance\": 2.5, \"spread\": 0.5, \"cutoff\": 100, \"threshold\": 0.5, 'side':1})\n",
    "system_contactspace = ContactSpaceGenerator(contactspacesettings).generate(system_0D)"
   ]
  },
  {
   "cell_type": "code",
   "execution_count": null,
   "metadata": {},
   "outputs": [],
   "source": [
    "xxx,yyy,zzz = system_contactspace.boundary.switch.tocontour([5,5,5],0)\n",
    "contour = plt.contour(xxx,yyy,zzz,levels=[0.01,0.2,0.4,0.6,0.8,0.99],colors='black')\n",
    "plt.contourf(xxx,yyy,zzz,levels=200,cmap='Blues')\n",
    "# Add labels to contour lines\n",
    "plt.clabel(contour, inline=True, fontsize=10)\n",
    "plt.scatter(*water.positions[0,1:].T,c='r',edgecolor='black',s=200)\n",
    "plt.scatter(*water.positions[1:,1:].T,c='w',edgecolor='black',s=80)\n",
    "\n",
    "plt.title(r'$s(r)$'+'\\n')\n",
    "plt.xlabel('X (Å)')\n",
    "plt.ylabel('Y (Å)')\n",
    "plt.xticks(list(range(0, 11, 2)))\n",
    "plt.yticks(list(range(0, 11, 2)))\n",
    "plt.axis('square')\n",
    "plt.xlim(0,10)\n",
    "plt.ylim(0,10)\n",
    "plt.show()"
   ]
  },
  {
   "cell_type": "code",
   "execution_count": null,
   "metadata": {},
   "outputs": [],
   "source": [
    "xxx,yyy,zzz = system_contactspace.boundary.gradient.modulus.tocontour([5,5,5],0)\n",
    "contour = plt.contour(xxx,yyy,zzz,levels=[0.1,0.4,0.8,1.2],colors='black')\n",
    "#plt.contourf(xxx,yyy,zzz,levels=200,cmap='Blues')\n",
    "# Add labels to contour lines\n",
    "plt.clabel(contour, inline=True, fontsize=10)\n",
    "plt.scatter(*water.positions[0,1:].T,c='r',edgecolor='black',s=200)\n",
    "plt.scatter(*water.positions[1:,1:].T,c='w',edgecolor='black',s=80)\n",
    "\n",
    "filter_data = system_contactspace.data[np.abs(system_contactspace.data['x'].values-5) < 0.01]\n",
    "plt.scatter(filter_data[['y']].values,filter_data[['z']].values,s=1,alpha=0.5)\n",
    "\n",
    "plt.title(r'$\\left|\\nabla s(r)\\right|$'+'\\n')\n",
    "plt.xlabel('X (Å)')\n",
    "plt.ylabel('Y (Å)')\n",
    "plt.xticks(list(range(0, 11, 2)))\n",
    "plt.yticks(list(range(0, 11, 2)))\n",
    "plt.axis('square')\n",
    "plt.xlim(0,10)\n",
    "plt.ylim(0,10)\n",
    "plt.show()"
   ]
  },
  {
   "cell_type": "markdown",
   "metadata": {},
   "source": [
    "### Contact Space on Ionic Boundary (Soft-Spheres)"
   ]
  },
  {
   "cell_type": "code",
   "execution_count": null,
   "metadata": {},
   "outputs": [],
   "source": [
    "from mapsy.io.parser import ContactSpaceGenerator, ContactSpaceModel\n",
    "contactspacesettings = ContactSpaceModel.parse_obj({\"mode\": \"ionic\", \"radii\": \"muff\", \"alpha\":1.12, \"spread\": 0.5, \"cutoff\": 100, \"threshold\": 0.4, 'side':1})\n",
    "ionic_contactspace = ContactSpaceGenerator(contactspacesettings).generate(system_0D)"
   ]
  },
  {
   "cell_type": "code",
   "execution_count": null,
   "metadata": {},
   "outputs": [],
   "source": [
    "xxx,yyy,zzz = ionic_contactspace.boundary.switch.tocontour([5,5,5],0)\n",
    "contour = plt.contour(xxx,yyy,zzz,levels=[0.01,0.2,0.4,0.6,0.8,0.99],colors='black')\n",
    "plt.contourf(xxx,yyy,zzz,levels=100,cmap='Blues')\n",
    "# Add labels to contour lines\n",
    "plt.clabel(contour, inline=True, fontsize=10)\n",
    "plt.scatter(*water.positions[0,1:].T,c='r',edgecolor='black',s=200)\n",
    "plt.scatter(*water.positions[1:,1:].T,c='w',edgecolor='black',s=80)\n",
    "\n",
    "plt.title(r'$s(r)$'+'\\n')\n",
    "plt.xlabel('X (Å)')\n",
    "plt.ylabel('Y (Å)')\n",
    "plt.xticks(list(range(0, 11, 2)))\n",
    "plt.yticks(list(range(0, 11, 2)))\n",
    "plt.axis('square')\n",
    "plt.xlim(0,10)\n",
    "plt.ylim(0,10)\n",
    "plt.show()"
   ]
  },
  {
   "cell_type": "code",
   "execution_count": null,
   "metadata": {},
   "outputs": [],
   "source": [
    "xxx,yyy,zzz = ionic_contactspace.boundary.gradient.modulus.tocontour([5,5,5],0)\n",
    "contour = plt.contour(xxx,yyy,zzz,levels=[0.1,0.4,0.8],colors='black')\n",
    "#plt.contourf(xxx,yyy,zzz,levels=200,cmap='Blues')\n",
    "# Add labels to contour lines\n",
    "plt.clabel(contour, inline=True, fontsize=10)\n",
    "plt.scatter(*water.positions[0,1:].T,c='r',edgecolor='black',s=200)\n",
    "plt.scatter(*water.positions[1:,1:].T,c='w',edgecolor='black',s=80)\n",
    "\n",
    "filter_data = ionic_contactspace.data[np.abs(ionic_contactspace.data['x'].values-5) < 0.01]\n",
    "plt.scatter(filter_data[['y']].values,filter_data[['z']].values,s=1,alpha=0.8)\n",
    "\n",
    "plt.title(r'$\\left|\\nabla s(r)\\right|$'+'\\n')\n",
    "plt.xlabel('X (Å)')\n",
    "plt.ylabel('Y (Å)')\n",
    "plt.xticks(list(range(0, 11, 2)))\n",
    "plt.yticks(list(range(0, 11, 2)))\n",
    "plt.axis('square')\n",
    "plt.xlim(0,10)\n",
    "plt.ylim(0,10)\n",
    "plt.show()"
   ]
  },
  {
   "cell_type": "markdown",
   "metadata": {},
   "source": [
    "## Test Calculation of Grid Spacing"
   ]
  },
  {
   "cell_type": "code",
   "execution_count": null,
   "metadata": {},
   "outputs": [],
   "source": [
    "from mapsy.utils.constants import BOHR_RADIUS_ANGS\n",
    "from mapsy.utils import setscalars\n",
    "cutoff = 100 # reciprocal space cutoff in Ry (same convetion as QE)\n",
    "scalars = setscalars(system_0D.grid.cell,cutoff)\n",
    "print(scalars)\n",
    "print(water_grid.cell/scalars)"
   ]
  },
  {
   "cell_type": "markdown",
   "metadata": {},
   "source": [
    "## Test van der Waals Radii"
   ]
  },
  {
   "cell_type": "code",
   "execution_count": null,
   "metadata": {},
   "outputs": [],
   "source": [
    "from mapsy.utils import get_vdw_radii"
   ]
  },
  {
   "cell_type": "code",
   "execution_count": null,
   "metadata": {},
   "outputs": [],
   "source": [
    "atomic_numbers = system_0D.atoms.get_atomic_numbers()\n",
    "for atomic_number in atomic_numbers:\n",
    "    print(atomic_number,get_vdw_radii(atomic_number,'uff'))"
   ]
  },
  {
   "cell_type": "markdown",
   "metadata": {},
   "source": [
    "## Contact Space for a Planar System (2D)"
   ]
  },
  {
   "cell_type": "markdown",
   "metadata": {},
   "source": [
    "### Generate a Pt(111) Slab"
   ]
  },
  {
   "cell_type": "code",
   "execution_count": null,
   "metadata": {},
   "outputs": [],
   "source": [
    "from ase.build import fcc111\n",
    "Pt111 = fcc111(\"Pt\",size=(4,4,3),a=3.94,orthogonal=True,periodic=True,vacuum = 5)\n",
    "Pt111.translate([3.94/8,0,0])"
   ]
  },
  {
   "cell_type": "code",
   "execution_count": null,
   "metadata": {},
   "outputs": [],
   "source": [
    "from mapsy.data import Grid\n",
    "Pt111_grid: Grid = Grid(cell=Pt111.cell)"
   ]
  },
  {
   "cell_type": "code",
   "execution_count": null,
   "metadata": {},
   "outputs": [],
   "source": [
    "from mapsy.data import System\n",
    "system_2D: System = System(Pt111_grid, Pt111, dimension=2, axis=2)"
   ]
  },
  {
   "cell_type": "markdown",
   "metadata": {},
   "source": [
    "### Build System Boundary"
   ]
  },
  {
   "cell_type": "code",
   "execution_count": null,
   "metadata": {},
   "outputs": [],
   "source": [
    "from mapsy.utils import setscalars\n",
    "cutoff = 100 # reciprocal space cutoff in Ry (same convetion as QE)\n",
    "scalars = setscalars(system_2D.grid.cell,cutoff)\n",
    "contact_space_grid = Grid(scalars=scalars,cell=system_2D.grid.cell)"
   ]
  },
  {
   "cell_type": "code",
   "execution_count": null,
   "metadata": {},
   "outputs": [],
   "source": [
    "from mapsy.boundaries import SystemBoundary\n",
    "system_boundary = SystemBoundary(mode = 'system', grid=contact_space_grid, distance = 4, spread = 1, system = system_2D, label='test')\n",
    "system_boundary.update()"
   ]
  },
  {
   "cell_type": "code",
   "execution_count": null,
   "metadata": {},
   "outputs": [],
   "source": [
    "xxx,yyy,zzz = system_boundary.switch.tocontour(system_2D.atoms.get_center_of_mass(),1)\n",
    "contour = plt.contour(xxx,yyy,zzz,levels=[0.01,0.2,0.4,0.6,0.8,0.99],colors='black')\n",
    "plt.contourf(xxx,yyy,zzz,levels=200,cmap='Blues')\n",
    "# Add labels to contour lines\n",
    "plt.clabel(contour, inline=True, fontsize=10)\n",
    "plt.scatter(*Pt111.positions[:,::2].T,c='grey',edgecolor='black',s=200,alpha=0.2)\n",
    "filter_Pt111_atoms = abs(Pt111.positions[:,1]-Pt111.get_center_of_mass()[1])<1.\n",
    "plt.scatter(*Pt111.positions[filter_Pt111_atoms][:,::2].T,c='grey',edgecolor='black',s=200)\n",
    "\n",
    "plt.title(r'$s(r)$'+'\\n')\n",
    "plt.xlabel('X (Å)')\n",
    "plt.ylabel('Z (Å)')\n",
    "plt.xticks(list(range(0, int(system_2D.grid.cell[0,0])+1, 2)))\n",
    "plt.yticks(list(range(0, int(system_2D.grid.cell[2,2])+1, 2)))\n",
    "plt.gca().set_aspect('equal', adjustable='box')\n",
    "plt.show()"
   ]
  },
  {
   "cell_type": "code",
   "execution_count": null,
   "metadata": {},
   "outputs": [],
   "source": [
    "from mapsy.io.parser import ContactSpaceGenerator, ContactSpaceModel\n",
    "contactspacesettings = ContactSpaceModel.parse_obj({\"mode\": \"system\", \"distance\": 4, \"spread\": 1, \"cutoff\": 100, \"threshold\": 0.4, 'side':1})\n",
    "system_2D_contactspace_top = ContactSpaceGenerator(contactspacesettings).generate(system_2D)\n",
    "contactspacesettings = ContactSpaceModel.parse_obj({\"mode\": \"system\", \"distance\": 4, \"spread\": 1, \"cutoff\": 100, \"threshold\": 0.4, 'side':-1})\n",
    "system_2D_contactspace_bottom = ContactSpaceGenerator(contactspacesettings).generate(system_2D)"
   ]
  },
  {
   "cell_type": "code",
   "execution_count": null,
   "metadata": {},
   "outputs": [],
   "source": [
    "xxx,yyy,zzz = system_boundary.gradient.modulus.tocontour(system_2D.atoms.get_center_of_mass(),1)\n",
    "contour = plt.contour(xxx,yyy,zzz,levels=[0.1,0.4,0.8,1.2],colors='black')\n",
    "#\n",
    "default_colors = plt.rcParams['axes.prop_cycle'].by_key()['color']\n",
    "#\n",
    "#plt.contourf(xxx,yyy,zzz,levels=200,cmap='Blues')\n",
    "# Add labels to contour lines\n",
    "plt.clabel(contour, inline=True, fontsize=10)\n",
    "plt.scatter(*Pt111.positions[:,::2].T,c='grey',edgecolor='black',s=200,alpha=0.2)\n",
    "filter_Pt111_atoms = abs(Pt111.positions[:,1]-Pt111.get_center_of_mass()[1])<1.\n",
    "plt.scatter(*Pt111.positions[filter_Pt111_atoms][:,::2].T,c='grey',edgecolor='black',s=200)\n",
    "\n",
    "filter_data = system_2D_contactspace_top.data[np.abs(system_2D_contactspace_top.data['y'].values-system_2D.atoms.get_center_of_mass()[1]) < 0.1]\n",
    "plt.scatter(filter_data[['x']].values,filter_data[['z']].values,s=1,color=default_colors[0],alpha=0.5)\n",
    "filter_data = system_2D_contactspace_bottom.data[np.abs(system_2D_contactspace_bottom.data['y'].values-system_2D.atoms.get_center_of_mass()[1]) < 0.1]\n",
    "plt.scatter(filter_data[['x']].values,filter_data[['z']].values,s=1,color=default_colors[1],alpha=0.5)\n",
    "\n",
    "plt.title(r'$\\left|\\nabla s(r)\\right|$'+'\\n')\n",
    "plt.xlabel('X (Å)')\n",
    "plt.ylabel('Z (Å)')\n",
    "plt.xticks(list(range(0, int(system_2D.grid.cell[0,0])+1, 2)))\n",
    "plt.yticks(list(range(0, int(system_2D.grid.cell[2,2])+1, 2)))\n",
    "plt.gca().set_aspect('equal')\n",
    "plt.xlim(0,system_2D.grid.cell[0,0]-0.16)\n",
    "plt.ylim(0,system_2D.grid.cell[2,2])\n",
    "plt.show()"
   ]
  },
  {
   "cell_type": "markdown",
   "metadata": {},
   "source": [
    "### Build Ionic (Soft-Sphere) Boundary"
   ]
  },
  {
   "cell_type": "code",
   "execution_count": null,
   "metadata": {},
   "outputs": [],
   "source": [
    "from mapsy.boundaries import IonicBoundary\n",
    "ionic_boundary = IonicBoundary(mode = 'muff', grid=contact_space_grid, alpha = 1.12, softness = 1, system = system_2D, label='test')\n",
    "ionic_boundary.update()"
   ]
  },
  {
   "cell_type": "code",
   "execution_count": null,
   "metadata": {},
   "outputs": [],
   "source": [
    "xxx,yyy,zzz = ionic_boundary.switch.tocontour(system_2D.atoms.get_center_of_mass(),1)\n",
    "contour = plt.contour(xxx,yyy,zzz,levels=[0.01,0.2,0.4,0.6,0.8,0.99],colors='black')\n",
    "plt.contourf(xxx,yyy,zzz,levels=200,cmap='Blues')\n",
    "# Add labels to contour lines\n",
    "plt.clabel(contour, inline=True, fontsize=10)\n",
    "plt.scatter(*Pt111.positions[:,::2].T,c='grey',edgecolor='black',s=200,alpha=0.2)\n",
    "filter_Pt111_atoms = abs(Pt111.positions[:,1]-Pt111.get_center_of_mass()[1])<1.\n",
    "plt.scatter(*Pt111.positions[filter_Pt111_atoms][:,::2].T,c='grey',edgecolor='black',s=200)\n",
    "\n",
    "plt.title(r'$s(r)$'+'\\n')\n",
    "plt.xlabel('X (Å)')\n",
    "plt.ylabel('Z (Å)')\n",
    "plt.xticks(list(range(0, int(system_2D.grid.cell[0,0])+1, 2)))\n",
    "plt.yticks(list(range(0, int(system_2D.grid.cell[2,2])+1, 2)))\n",
    "plt.gca().set_aspect('equal', adjustable='box')\n",
    "plt.show()"
   ]
  },
  {
   "cell_type": "code",
   "execution_count": null,
   "metadata": {},
   "outputs": [],
   "source": [
    "from mapsy.io.parser import ContactSpaceGenerator, ContactSpaceModel\n",
    "contactspacesettings = ContactSpaceModel.parse_obj({\"mode\": \"ionic\", \"radii\" : \"muff\", \"alpha\": 1.12, \"spread\": 1, \"cutoff\": 100, \"threshold\": 0.4, 'side':1})\n",
    "system_2D_contactspace_top = ContactSpaceGenerator(contactspacesettings).generate(system_2D)\n",
    "contactspacesettings = ContactSpaceModel.parse_obj({\"mode\": \"ionic\", \"radii\" : \"muff\", \"alpha\": 1.12, \"spread\": 1, \"cutoff\": 100, \"threshold\": 0.4, 'side':-1})\n",
    "system_2D_contactspace_bottom = ContactSpaceGenerator(contactspacesettings).generate(system_2D)"
   ]
  },
  {
   "cell_type": "code",
   "execution_count": null,
   "metadata": {},
   "outputs": [],
   "source": [
    "xxx,yyy,zzz = ionic_boundary.gradient.modulus.tocontour(system_2D.atoms.get_center_of_mass(),1)\n",
    "contour = plt.contour(xxx,yyy,zzz,levels=[0.1,0.4,0.8,1.2],colors='black')\n",
    "#plt.contourf(xxx,yyy,zzz,levels=200,cmap='Blues')\n",
    "# Add labels to contour lines\n",
    "default_colors = plt.rcParams['axes.prop_cycle'].by_key()['color']\n",
    "#\n",
    "plt.clabel(contour, inline=True, fontsize=10)\n",
    "plt.scatter(*Pt111.positions[:,::2].T,c='grey',edgecolor='black',s=200,alpha=0.2)\n",
    "filter_Pt111_atoms = abs(Pt111.positions[:,1]-Pt111.get_center_of_mass()[1])<1.\n",
    "plt.scatter(*Pt111.positions[filter_Pt111_atoms][:,::2].T,c='grey',edgecolor='black',s=200)\n",
    "\n",
    "filter_data = system_2D_contactspace_top.data[np.abs(system_2D_contactspace_top.data['y'].values-system_2D.atoms.get_center_of_mass()[1]) < 0.1]\n",
    "plt.scatter(filter_data[['x']].values,filter_data[['z']].values,s=1,color=default_colors[0],alpha=0.5)\n",
    "filter_data = system_2D_contactspace_bottom.data[np.abs(system_2D_contactspace_bottom.data['y'].values-system_2D.atoms.get_center_of_mass()[1]) < 0.1]\n",
    "plt.scatter(filter_data[['x']].values,filter_data[['z']].values,s=1,color=default_colors[1],alpha=0.5)\n",
    "\n",
    "plt.title(r'$\\left|\\nabla s(r)\\right|$'+'\\n')\n",
    "plt.xlabel('X (Å)')\n",
    "plt.ylabel('Z (Å)')\n",
    "plt.xticks(list(range(0, int(system_2D.grid.cell[0,0])+1, 2)))\n",
    "plt.yticks(list(range(0, int(system_2D.grid.cell[2,2])+1, 2)))\n",
    "plt.gca().set_aspect('equal')\n",
    "plt.xlim(0,system_2D.grid.cell[0,0]-0.16)\n",
    "plt.ylim(0,system_2D.grid.cell[2,2])\n",
    "plt.show()"
   ]
  },
  {
   "cell_type": "markdown",
   "metadata": {},
   "source": [
    "## Contact Space for a Pt Cluster (0D)"
   ]
  },
  {
   "cell_type": "markdown",
   "metadata": {},
   "source": [
    "### Generate a Pt Nanocluster"
   ]
  },
  {
   "cell_type": "code",
   "execution_count": null,
   "metadata": {},
   "outputs": [],
   "source": [
    "from ase.cluster.cubic import FaceCenteredCubic\n",
    "surfaces = [(1, 0, 0), (1, 1, 0), (1, 1, 1)]\n",
    "layers = [5, 8, 5]\n",
    "lc = 3.94000\n",
    "PtCluster = FaceCenteredCubic('Pt', surfaces, layers, latticeconstant=lc)\n",
    "PtCluster.cell = 30 * np.eye(3)\n",
    "PtCluster.positions += [15, 15, 15]"
   ]
  },
  {
   "cell_type": "code",
   "execution_count": null,
   "metadata": {},
   "outputs": [],
   "source": [
    "from mapsy.data import Grid\n",
    "PtCluster_grid: Grid = Grid(cell=PtCluster.cell)"
   ]
  },
  {
   "cell_type": "code",
   "execution_count": null,
   "metadata": {},
   "outputs": [],
   "source": [
    "from mapsy.data import System\n",
    "cluster: System = System(PtCluster_grid, PtCluster, dimension=0, axis=0)"
   ]
  },
  {
   "cell_type": "markdown",
   "metadata": {},
   "source": [
    "### Build Ionic Boundary"
   ]
  },
  {
   "cell_type": "code",
   "execution_count": null,
   "metadata": {},
   "outputs": [],
   "source": [
    "from mapsy.utils import setscalars\n",
    "cutoff = 40 # reciprocal space cutoff in Ry (same convetion as QE)\n",
    "scalars = setscalars(cluster.grid.cell,cutoff)\n",
    "contact_space_grid = Grid(scalars=scalars,cell=cluster.grid.cell)"
   ]
  },
  {
   "cell_type": "code",
   "execution_count": null,
   "metadata": {},
   "outputs": [],
   "source": [
    "from mapsy.boundaries import IonicBoundary\n",
    "ionic_boundary = IonicBoundary(mode = 'muff', grid=contact_space_grid, alpha = 1.2, softness = 0.8, system = cluster, label='test')\n",
    "ionic_boundary.update()"
   ]
  },
  {
   "cell_type": "code",
   "execution_count": null,
   "metadata": {},
   "outputs": [],
   "source": [
    "xxx,yyy,zzz = ionic_boundary.switch.tocontour(cluster.atoms.get_center_of_mass(),0)\n",
    "contour = plt.contour(xxx,yyy,zzz,levels=[0.01,0.2,0.4,0.6,0.8,0.99],colors='black')\n",
    "plt.contourf(xxx,yyy,zzz,levels=200,cmap='Blues')\n",
    "# Add labels to contour lines\n",
    "plt.clabel(contour, inline=True, fontsize=10)\n",
    "plt.scatter(*PtCluster.positions[:,::2].T,c='grey',edgecolor='black',s=200,alpha=0.05)\n",
    "filter_PtCluster_atoms = abs(PtCluster.positions[:,1]-PtCluster.get_center_of_mass()[1])<1.\n",
    "plt.scatter(*PtCluster.positions[filter_PtCluster_atoms][:,::2].T,c='grey',edgecolor='black',s=200)\n",
    "\n",
    "plt.title(r'$s(r)$'+'\\n'+'X = '+str(cluster.atoms.get_center_of_mass()[0])+' Å')\n",
    "plt.xlabel('Y (Å)')\n",
    "plt.ylabel('Z (Å)')\n",
    "plt.xticks(list(range(0, int(cluster.grid.cell[0,0])+1, 5)))\n",
    "plt.yticks(list(range(0, int(cluster.grid.cell[2,2])+1, 5)))\n",
    "plt.gca().set_aspect('equal', adjustable='box')\n",
    "plt.show()"
   ]
  },
  {
   "cell_type": "code",
   "execution_count": null,
   "metadata": {},
   "outputs": [],
   "source": [
    "xxx,yyy,zzz = ionic_boundary.switch.tocontour(cluster.atoms.positions[0,:],0)\n",
    "contour = plt.contour(xxx,yyy,zzz,levels=[0.01,0.2,0.4,0.6,0.8,0.99],colors='black')\n",
    "plt.contourf(xxx,yyy,zzz,levels=200,cmap='Blues')\n",
    "# Add labels to contour lines\n",
    "plt.clabel(contour, inline=True, fontsize=10)\n",
    "plt.scatter(*PtCluster.positions[:,1:].T,c='grey',edgecolor='black',s=200,alpha=0.05)\n",
    "filter_PtCluster_atoms = abs(PtCluster.positions[:,0]-cluster.atoms.positions[0,0])<1.\n",
    "plt.scatter(*PtCluster.positions[filter_PtCluster_atoms][:,1:].T,c='grey',edgecolor='black',s=200)\n",
    "\n",
    "plt.title(r'$s(r)$'+'\\n'+f'X = {cluster.atoms.positions[0,0]:4.2f} Å')\n",
    "plt.xlabel('Y (Å)')\n",
    "plt.ylabel('Z (Å)')\n",
    "plt.xticks(list(range(0, int(cluster.grid.cell[1,1])+1, 5)))\n",
    "plt.yticks(list(range(0, int(cluster.grid.cell[2,2])+1, 5)))\n",
    "plt.gca().set_aspect('equal', adjustable='box')\n",
    "plt.show()"
   ]
  },
  {
   "cell_type": "code",
   "execution_count": null,
   "metadata": {},
   "outputs": [],
   "source": [
    "from mapsy.io.parser import ContactSpaceGenerator, ContactSpaceModel\n",
    "contactspacesettings = ContactSpaceModel.parse_obj({\"mode\": \"ionic\", \"cutoff\": 40, \"alpha\": 1.2, \"spread\" : 0.8, \"threshold\": 0.5})\n",
    "cluster_contactspace = ContactSpaceGenerator(contactspacesettings).generate(cluster)"
   ]
  },
  {
   "cell_type": "code",
   "execution_count": null,
   "metadata": {},
   "outputs": [],
   "source": [
    "xxx,yyy,zzz = ionic_boundary.gradient.modulus.tocontour(cluster.atoms.get_center_of_mass(),0)\n",
    "contour = plt.contour(xxx,yyy,zzz,levels=[0.001,0.5,0.8,1.2],colors='black')\n",
    "#plt.contourf(xxx,yyy,zzz,levels=200,cmap='Blues')\n",
    "# Add labels to contour lines\n",
    "default_colors = plt.rcParams['axes.prop_cycle'].by_key()['color']\n",
    "#\n",
    "plt.clabel(contour, inline=True, fontsize=10)\n",
    "plt.scatter(*PtCluster.positions[:,::2].T,c='grey',edgecolor='black',s=200,alpha=0.05)\n",
    "filter_PtCluster_atoms = abs(PtCluster.positions[:,1]-PtCluster.get_center_of_mass()[1])<1.\n",
    "plt.scatter(*PtCluster.positions[filter_PtCluster_atoms][:,::2].T,c='grey',edgecolor='black',s=200)\n",
    "\n",
    "filter_data = cluster_contactspace.data[np.abs(cluster_contactspace.data['y'].values-cluster.atoms.get_center_of_mass()[1]) < 0.1]\n",
    "plt.scatter(filter_data[['x']].values,filter_data[['z']].values,s=1,color=default_colors[0],alpha=0.5)\n",
    "\n",
    "plt.title(r'$\\left|\\nabla s(r)\\right|$'+'\\n'+'X = '+str(cluster.atoms.get_center_of_mass()[0])+' Å')\n",
    "plt.xlabel('X (Å)')\n",
    "plt.ylabel('Z (Å)')\n",
    "plt.xticks(list(range(0, int(cluster.grid.cell[0,0])+1, 5)))\n",
    "plt.yticks(list(range(0, int(cluster.grid.cell[2,2])+1, 5)))\n",
    "plt.gca().set_aspect('equal')\n",
    "plt.xlim(0,cluster.grid.cell[0,0]-0.16)\n",
    "plt.ylim(0,cluster.grid.cell[2,2])\n",
    "plt.show()"
   ]
  },
  {
   "cell_type": "code",
   "execution_count": null,
   "metadata": {},
   "outputs": [],
   "source": [
    "xxx,yyy,zzz = ionic_boundary.gradient.modulus.tocontour(cluster.atoms.positions[0,:],0)\n",
    "contour = plt.contour(xxx,yyy,zzz,levels=[0.001,0.5,0.8,1.2],colors='black')\n",
    "#plt.contourf(xxx,yyy,zzz,levels=200,cmap='Blues')\n",
    "# Add labels to contour lines\n",
    "default_colors = plt.rcParams['axes.prop_cycle'].by_key()['color']\n",
    "#\n",
    "plt.clabel(contour, inline=True, fontsize=10)\n",
    "plt.scatter(*PtCluster.positions[:,::2].T,c='grey',edgecolor='black',s=200,alpha=0.05)\n",
    "filter_PtCluster_atoms = abs(PtCluster.positions[:,1]-cluster.atoms.positions[0,0])<1.\n",
    "plt.scatter(*PtCluster.positions[filter_PtCluster_atoms][:,::2].T,c='grey',edgecolor='black',s=200)\n",
    "\n",
    "filter_data = cluster_contactspace.data[np.abs(cluster_contactspace.data['y'].values-cluster.atoms.positions[0,0]) < 0.1]\n",
    "plt.scatter(filter_data[['x']].values,filter_data[['z']].values,s=1,color=default_colors[0],alpha=0.5)\n",
    "\n",
    "plt.title(r'$\\left|\\nabla s(r)\\right|$'+'\\n'+f'X = {cluster.atoms.positions[0,0]:4.2f} Å')\n",
    "plt.xlabel('X (Å)')\n",
    "plt.ylabel('Z (Å)')\n",
    "plt.xticks(list(range(0, int(cluster.grid.cell[0,0])+1, 5)))\n",
    "plt.yticks(list(range(0, int(cluster.grid.cell[2,2])+1, 5)))\n",
    "plt.gca().set_aspect('equal')\n",
    "plt.xlim(0,cluster.grid.cell[0,0]-0.16)\n",
    "plt.ylim(0,cluster.grid.cell[2,2])\n",
    "plt.show()"
   ]
  }
 ],
 "metadata": {
  "kernelspec": {
   "display_name": "Python 3",
   "language": "python",
   "name": "python3"
  },
  "language_info": {
   "codemirror_mode": {
    "name": "ipython",
    "version": 3
   },
   "file_extension": ".py",
   "mimetype": "text/x-python",
   "name": "python",
   "nbconvert_exporter": "python",
   "pygments_lexer": "ipython3"
  }
 },
 "nbformat": 4,
 "nbformat_minor": 2
}
