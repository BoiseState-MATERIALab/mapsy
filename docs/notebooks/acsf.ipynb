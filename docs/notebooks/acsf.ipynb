{
 "cells": [
  {
   "cell_type": "markdown",
   "metadata": {},
   "source": [
    "# Test Notebook for Contact Space Characterization with Descriptors based on Chebyshev Polynomia"
   ]
  },
  {
   "cell_type": "code",
   "execution_count": null,
   "metadata": {},
   "outputs": [],
   "source": [
    "from ase.geometry import get_distances\n",
    "import numpy as np\n",
    "import pandas as pd"
   ]
  },
  {
   "cell_type": "code",
   "execution_count": null,
   "metadata": {},
   "outputs": [],
   "source": [
    "from mapsy.io.input import Input\n",
    "test = Input('./input-files/acsf.yaml')"
   ]
  },
  {
   "cell_type": "code",
   "execution_count": null,
   "metadata": {},
   "outputs": [],
   "source": [
    "from mapsy.io import SystemParser\n",
    "MoS2_defect = SystemParser(test.system).parse()"
   ]
  },
  {
   "cell_type": "code",
   "execution_count": null,
   "metadata": {},
   "outputs": [],
   "source": [
    "from mapsy.symfunc.parser import SymmetryFunctionsParser\n",
    "symmetryfunctions = SymmetryFunctionsParser(test.symmetryfunctions).parse()"
   ]
  },
  {
   "cell_type": "code",
   "execution_count": null,
   "metadata": {},
   "outputs": [],
   "source": [
    "from mapsy.io.parser import ContactSpaceGenerator\n",
    "contactspace = ContactSpaceGenerator(test.contactspace).generate(MoS2_defect)"
   ]
  },
  {
   "cell_type": "code",
   "execution_count": null,
   "metadata": {},
   "outputs": [],
   "source": [
    "from mapsy.maps import Maps\n",
    "acsf_maps = Maps(MoS2_defect,symmetryfunctions,contactspace)"
   ]
  },
  {
   "cell_type": "markdown",
   "metadata": {},
   "source": [
    "Compute the features (for order 40 and 4400 points it takes 25 seconds, order 120 2 minutes, order 500 about 13 minutes). Adding order 4 angular features increses the time by 40 seconds. Order 100 angular features take around 20 minutes."
   ]
  },
  {
   "cell_type": "code",
   "execution_count": null,
   "metadata": {},
   "outputs": [],
   "source": [
    "data = acsf_maps.atcontactspace()"
   ]
  },
  {
   "cell_type": "code",
   "execution_count": null,
   "metadata": {},
   "outputs": [],
   "source": [
    "data"
   ]
  },
  {
   "cell_type": "markdown",
   "metadata": {},
   "source": [
    "## Testing Internal Consistency: Radial Distribution Function"
   ]
  },
  {
   "cell_type": "markdown",
   "metadata": {},
   "source": [
    "Select specific point, get its coordinates and the corresponding Chebyshev coefficients from the dataframe"
   ]
  },
  {
   "cell_type": "code",
   "execution_count": null,
   "metadata": {},
   "outputs": [],
   "source": [
    "row = 3495\n",
    "\n",
    "position = data.loc[row,['x','y','z']].values.astype(np.float64)\n",
    "print(position)\n",
    "\n",
    "rdf_coefficients = data.loc[row,acsf_maps.symmetryfunctions[0].keys].values.astype(np.float64)\n",
    "print(rdf_coefficients)"
   ]
  },
  {
   "cell_type": "markdown",
   "metadata": {},
   "source": [
    "Recompute distances for specified point to generate the actual radial distribution function"
   ]
  },
  {
   "cell_type": "code",
   "execution_count": null,
   "metadata": {},
   "outputs": [],
   "source": [
    "atvect, atdist = get_distances(\n",
    "    position,\n",
    "    acsf_maps.system.atoms.positions,\n",
    "    cell=acsf_maps.system.atoms.cell,\n",
    "    pbc=True,\n",
    "    )"
   ]
  },
  {
   "cell_type": "markdown",
   "metadata": {},
   "source": [
    "Compute actual rdf and reconstructed rdf. Normalize them by their integral. NOTE: to have a good reconstructed rdf we need more than 100 coefficients."
   ]
  },
  {
   "cell_type": "code",
   "execution_count": null,
   "metadata": {},
   "outputs": [],
   "source": [
    "import matplotlib.pyplot as plt\n",
    "from mapsy.symfunc.atomic.acsf import dual_basis_function\n",
    "\n",
    "plt.figure(figsize=(12,10))\n",
    "plt.subplot(2,2,1)\n",
    "order = 50\n",
    "rcut = acsf_maps.symmetryfunctions[0].cutoff\n",
    "bin_width = rcut/order/2\n",
    "x = np.arange(0, rcut + bin_width, bin_width)\n",
    "\n",
    "# Actual RDF\n",
    "rdf, _ = np.histogram(atdist[0], bins=x)\n",
    "plt.plot(x[1:],rdf,'o',ms=5.,label=f'RDF for point # {row}')\n",
    "plt.plot(x[1:],rdf*acsf_maps.symmetryfunctions[0].fc(x[1:]),'s',ms=5.,label=f'RDF*Cutoff')\n",
    "\n",
    "# RDF reconstructed from the Chebyshev coefficients\n",
    "rdf_reconstructed = np.zeros(len(x))\n",
    "for a in acsf_maps.symmetryfunctions[0].order[:order]:\n",
    "    k = 2\n",
    "    if a == 0 : k = 0.5\n",
    "    rdf_reconstructed += k * rdf_coefficients[a]*dual_basis_function(a,rcut,x)\n",
    "factor = acsf_maps.symmetryfunctions[0].rcut/order/2\n",
    "plt.plot(x,rdf_reconstructed*factor,label=f'Reconstructed RDF')\n",
    "plt.legend()\n",
    "plt.xlabel(f'Distance (\\u00C5)')\n",
    "plt.title(f'RDF (Order = {order})')\n",
    "\n",
    "\n",
    "plt.subplot(2,2,2)\n",
    "order = 100\n",
    "rcut = acsf_maps.symmetryfunctions[0].cutoff\n",
    "bin_width = rcut/order/2\n",
    "x = np.arange(0, rcut + bin_width, bin_width)\n",
    "\n",
    "# Actual RDF\n",
    "rdf, _ = np.histogram(atdist[0], bins=x)\n",
    "plt.plot(x[1:],rdf,'o',ms=5.,label=f'RDF for point # {row}')\n",
    "plt.plot(x[1:],rdf*acsf_maps.symmetryfunctions[0].fc(x[1:]),'s',ms=5.,label=f'RDF*Cutoff')\n",
    "\n",
    "# RDF reconstructed from the Chebyshev coefficients\n",
    "rdf_reconstructed = np.zeros(len(x))\n",
    "for a in acsf_maps.symmetryfunctions[0].order[:order]:\n",
    "    k = 2\n",
    "    if a == 0 : k = 0.5\n",
    "    rdf_reconstructed += k * rdf_coefficients[a]*dual_basis_function(a,rcut,x)\n",
    "factor = acsf_maps.symmetryfunctions[0].rcut/order/2\n",
    "plt.plot(x,rdf_reconstructed*factor,label=f'Reconstructed RDF')\n",
    "plt.legend()\n",
    "plt.xlabel(f'Distance (\\u00C5)')\n",
    "plt.title(f'RDF (Order = {order})')\n",
    "\n",
    "\n",
    "plt.subplot(2,2,3)\n",
    "order = 150\n",
    "rcut = acsf_maps.symmetryfunctions[0].cutoff\n",
    "bin_width = rcut/order/2\n",
    "x = np.arange(0, rcut + bin_width, bin_width)\n",
    "\n",
    "# Actual RDF\n",
    "rdf, _ = np.histogram(atdist[0], bins=x)\n",
    "plt.plot(x[1:],rdf,'o',ms=5.,label=f'RDF for point # {row}')\n",
    "plt.plot(x[1:],rdf*acsf_maps.symmetryfunctions[0].fc(x[1:]),'s',ms=5.,label=f'RDF*Cutoff')\n",
    "\n",
    "# RDF reconstructed from the Chebyshev coefficients\n",
    "rdf_reconstructed = np.zeros(len(x))\n",
    "for a in acsf_maps.symmetryfunctions[0].order[:order]:\n",
    "    k = 2\n",
    "    if a == 0 : k = 0.5\n",
    "    rdf_reconstructed += k * rdf_coefficients[a]*dual_basis_function(a,rcut,x)\n",
    "factor = acsf_maps.symmetryfunctions[0].rcut/order/2\n",
    "plt.plot(x,rdf_reconstructed*factor,label=f'Reconstructed RDF')\n",
    "plt.legend()\n",
    "plt.xlabel(f'Distance (\\u00C5)')\n",
    "plt.title(f'RDF (Order = {order})')\n",
    "\n",
    "\n",
    "plt.subplot(2,2,4)\n",
    "order = 200\n",
    "rcut = acsf_maps.symmetryfunctions[0].cutoff\n",
    "bin_width = rcut/order/2\n",
    "x = np.arange(0, rcut + bin_width, bin_width)\n",
    "\n",
    "# Actual RDF\n",
    "rdf, _ = np.histogram(atdist[0], bins=x)\n",
    "plt.plot(x[1:],rdf,'o',ms=5.,label=f'RDF for point # {row}')\n",
    "plt.plot(x[1:],rdf*acsf_maps.symmetryfunctions[0].fc(x[1:]),'s',ms=5.,label=f'RDF*Cutoff')\n",
    "\n",
    "# RDF reconstructed from the Chebyshev coefficients\n",
    "rdf_reconstructed = np.zeros(len(x))\n",
    "for a in acsf_maps.symmetryfunctions[0].order[:order]:\n",
    "    k = 2\n",
    "    if a == 0 : k = 0.5\n",
    "    rdf_reconstructed += k * rdf_coefficients[a]*dual_basis_function(a,rcut,x)\n",
    "factor = acsf_maps.symmetryfunctions[0].rcut/order/2\n",
    "plt.plot(x,rdf_reconstructed*factor,label=f'Reconstructed RDF')\n",
    "plt.legend()\n",
    "plt.xlabel(f'Distance (\\u00C5)')\n",
    "plt.title(f'RDF (Order = {order})')"
   ]
  },
  {
   "cell_type": "markdown",
   "metadata": {},
   "source": [
    "However, the maps of the coefficients for orders larger than 20 seem to be mostly noise."
   ]
  },
  {
   "cell_type": "code",
   "execution_count": null,
   "metadata": {},
   "outputs": [],
   "source": [
    "index = 59\n",
    "print(data.columns[index])\n",
    "volumetric = acsf_maps.tovolumetric(index=index)\n",
    "volumetric.plotprojections([4.9,6.2,5.5])"
   ]
  },
  {
   "cell_type": "markdown",
   "metadata": {},
   "source": [
    "## Testing Internal Consistency: Angular Distribution Function (ADF)"
   ]
  },
  {
   "cell_type": "code",
   "execution_count": null,
   "metadata": {},
   "outputs": [],
   "source": [
    "row = 1495\n",
    "\n",
    "position = data.loc[row,['x','y','z']].values.astype(np.float64)\n",
    "print(position)\n",
    "\n",
    "adf_coefficients = data.loc[row,acsf_maps.symmetryfunctions[1].keys].values.astype(np.float64)\n",
    "print(adf_coefficients)"
   ]
  },
  {
   "cell_type": "code",
   "execution_count": null,
   "metadata": {},
   "outputs": [],
   "source": [
    "atvect, atdist = get_distances(\n",
    "    position,\n",
    "    acsf_maps.system.atoms.positions,\n",
    "    cell=acsf_maps.system.atoms.cell,\n",
    "    pbc=True,\n",
    "    )"
   ]
  },
  {
   "cell_type": "markdown",
   "metadata": {},
   "source": [
    "Compute the actual ADF for the chosen point"
   ]
  },
  {
   "cell_type": "code",
   "execution_count": null,
   "metadata": {},
   "outputs": [],
   "source": [
    "angles = []\n",
    "fcjk = []\n",
    "fci = acsf_maps.symmetryfunctions[1].fc(atdist[0])\n",
    "print(fci)\n",
    "for j in fci.nonzero()[0]:\n",
    "    rij = atdist[0][j]\n",
    "    rijvect = atvect[0][j]\n",
    "    fcij = fci[j]\n",
    "    for k in fci.nonzero()[0]:\n",
    "        if k<=j : continue\n",
    "        rik = atdist[0][k]\n",
    "        rikvect = atvect[0][k]\n",
    "        fcik = fci[k]\n",
    "        angle = np.arccos(\n",
    "                    np.clip(np.dot(rijvect, rikvect) / (rij * rik), -1, 1)\n",
    "                )\n",
    "        angles.append(angle)\n",
    "        fcjk.append(fcij*fcik)"
   ]
  },
  {
   "cell_type": "code",
   "execution_count": null,
   "metadata": {},
   "outputs": [],
   "source": [
    "import matplotlib.pyplot as plt\n",
    "from mapsy.symfunc.atomic.acsf import basis_function\n",
    "\n",
    "plt.figure(figsize=(12,10))\n",
    "plt.subplot(2,2,1)\n",
    "order = 20\n",
    "rcut = acsf_maps.symmetryfunctions[1].cutoff\n",
    "bin_width = rcut/order\n",
    "x = np.arange(0+0.01, rcut-0.01, bin_width)\n",
    "\n",
    "# Actual ADF\n",
    "adf = np.zeros(len(x)-1)\n",
    "for i, angle in enumerate(angles) :\n",
    "    bin = int(angle/bin_width)\n",
    "    adf[bin] += fcjk[i]   \n",
    "integral1 = np.sum(rdf)*bin_width\n",
    "plt.plot(x[1:]-bin_width/2,adf,'o:',ms=5.,label=f'ADF for point # {row}')\n",
    "\n",
    "# ADF reconstructed from the Chebyshev coefficients\n",
    "adf_reconstructed = np.zeros(len(x))\n",
    "for a in range(order):\n",
    "    k = 2\n",
    "    if a == 0 : k = 0.5\n",
    "    adf_reconstructed += k * adf_coefficients[a]*basis_function(a,rcut,x)\n",
    "integral2 = np.sum(adf_reconstructed)*bin_width\n",
    "\n",
    "plt.plot(x,adf_reconstructed*bin_width,'o-',label=f'Reconstructed ADF')\n",
    "plt.legend()\n",
    "plt.xlabel(f'Angle (Radiants)')\n",
    "plt.title(f'ADF (Order = {order})')\n",
    "\n",
    "plt.subplot(2,2,2)\n",
    "order = 40\n",
    "rcut = acsf_maps.symmetryfunctions[1].cutoff\n",
    "bin_width = rcut/order\n",
    "x = np.arange(0+0.01, rcut-0.01, bin_width)\n",
    "\n",
    "# Actual ADF\n",
    "adf = np.zeros(len(x)-1)\n",
    "for i, angle in enumerate(angles) :\n",
    "    bin = int(angle/bin_width)\n",
    "    adf[bin] += fcjk[i]   \n",
    "integral1 = np.sum(rdf)*bin_width\n",
    "plt.plot(x[1:]-bin_width/2,adf,'o:',ms=5.,label=f'ADF for point # {row}')\n",
    "\n",
    "# ADF reconstructed from the Chebyshev coefficients\n",
    "adf_reconstructed = np.zeros(len(x))\n",
    "for a in range(order):\n",
    "    k = 2\n",
    "    if a == 0 : k = 0.5\n",
    "    adf_reconstructed += k * adf_coefficients[a]*basis_function(a,rcut,x)\n",
    "integral2 = np.sum(adf_reconstructed)*bin_width\n",
    "\n",
    "plt.plot(x,adf_reconstructed*bin_width,label=f'Reconstructed ADF')\n",
    "plt.legend()\n",
    "plt.xlabel(f'Angle (Radiants)')\n",
    "plt.title(f'ADF (Order = {order})')\n",
    "\n",
    "plt.subplot(2,2,3)\n",
    "order = 60\n",
    "rcut = acsf_maps.symmetryfunctions[1].cutoff\n",
    "bin_width = rcut/order\n",
    "x = np.arange(0+0.01, rcut-0.01, bin_width)\n",
    "\n",
    "# Actual ADF\n",
    "adf = np.zeros(len(x)-1)\n",
    "for i, angle in enumerate(angles) :\n",
    "    bin = int(angle/bin_width)\n",
    "    adf[bin] += fcjk[i]   \n",
    "integral1 = np.sum(rdf)*bin_width\n",
    "plt.plot(x[1:]-bin_width/2,adf,'o:',ms=5.,label=f'ADF for point # {row}')\n",
    "\n",
    "# ADF reconstructed from the Chebyshev coefficients\n",
    "adf_reconstructed = np.zeros(len(x))\n",
    "for a in range(order):\n",
    "    k = 2\n",
    "    if a == 0 : k = 0.5\n",
    "    adf_reconstructed += k * adf_coefficients[a]*basis_function(a,rcut,x)\n",
    "integral2 = np.sum(adf_reconstructed)*bin_width\n",
    "\n",
    "plt.plot(x,adf_reconstructed*bin_width,label=f'Reconstructed ADF')\n",
    "plt.legend()\n",
    "plt.xlabel(f'Angle (Radiants)')\n",
    "plt.title(f'ADF (Order = {order})')\n",
    "\n",
    "plt.subplot(2,2,4)\n",
    "order = 80\n",
    "rcut = acsf_maps.symmetryfunctions[1].cutoff\n",
    "bin_width = rcut/order\n",
    "x = np.arange(0+0.01, rcut-0.01, bin_width)\n",
    "\n",
    "# Actual ADF\n",
    "adf = np.zeros(len(x)-1)\n",
    "for i, angle in enumerate(angles) :\n",
    "    bin = int(angle/bin_width)\n",
    "    adf[bin] += fcjk[i]   \n",
    "integral1 = np.sum(rdf)*bin_width\n",
    "plt.plot(x[1:]-bin_width/2,adf,'o:',ms=5.,label=f'ADF for point # {row}')\n",
    "\n",
    "# ADF reconstructed from the Chebyshev coefficients\n",
    "adf_reconstructed = np.zeros(len(x))\n",
    "for a in range(order):\n",
    "    k = 2\n",
    "    if a == 0 : k = 0.5\n",
    "    adf_reconstructed += k * adf_coefficients[a]*basis_function(a,rcut,x)\n",
    "integral2 = np.sum(adf_reconstructed)*bin_width\n",
    "\n",
    "plt.plot(x,adf_reconstructed*bin_width,label=f'Reconstructed ADF')\n",
    "plt.legend()\n",
    "plt.xlabel(f'Angle (Radiants)')\n",
    "plt.title(f'ADF (Order = {order})')\n"
   ]
  }
 ],
 "metadata": {
  "kernelspec": {
   "display_name": "Python 3",
   "language": "python",
   "name": "python3"
  },
  "language_info": {
   "codemirror_mode": {
    "name": "ipython",
    "version": 3
   },
   "file_extension": ".py",
   "mimetype": "text/x-python",
   "name": "python",
   "nbconvert_exporter": "python",
   "pygments_lexer": "ipython3"
  }
 },
 "nbformat": 4,
 "nbformat_minor": 2
}
