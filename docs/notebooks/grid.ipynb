{
 "cells": [
  {
   "cell_type": "code",
   "execution_count": null,
   "metadata": {},
   "outputs": [],
   "source": [
    "import numpy as np\n",
    "import numpy.typing as npt\n",
    "import matplotlib.pyplot as plt"
   ]
  },
  {
   "cell_type": "code",
   "execution_count": null,
   "metadata": {},
   "outputs": [],
   "source": [
    "from mapsy.data import Grid"
   ]
  },
  {
   "cell_type": "code",
   "execution_count": null,
   "metadata": {},
   "outputs": [],
   "source": [
    "from ase.cell import Cell"
   ]
  },
  {
   "cell_type": "markdown",
   "metadata": {},
   "source": [
    "## Minimal Cell"
   ]
  },
  {
   "cell_type": "code",
   "execution_count": null,
   "metadata": {},
   "outputs": [],
   "source": [
    "minimal_cell = Cell(np.eye(3))"
   ]
  },
  {
   "cell_type": "code",
   "execution_count": null,
   "metadata": {},
   "outputs": [],
   "source": [
    "minimal_cell.reciprocal()"
   ]
  },
  {
   "cell_type": "code",
   "execution_count": null,
   "metadata": {},
   "outputs": [],
   "source": [
    "minimal_cell.volume"
   ]
  },
  {
   "cell_type": "code",
   "execution_count": null,
   "metadata": {},
   "outputs": [],
   "source": [
    "minimal_grid = Grid(cell=np.eye(3), scalars = [2, 2, 2])"
   ]
  },
  {
   "cell_type": "code",
   "execution_count": null,
   "metadata": {},
   "outputs": [],
   "source": [
    "print(minimal_grid.volume,minimal_grid.ndata)"
   ]
  },
  {
   "cell_type": "code",
   "execution_count": null,
   "metadata": {},
   "outputs": [],
   "source": [
    "minimal_grid.coordinates.reshape(3,2*2*2).T"
   ]
  },
  {
   "cell_type": "code",
   "execution_count": null,
   "metadata": {},
   "outputs": [],
   "source": [
    "minimal_grid.corners"
   ]
  },
  {
   "cell_type": "code",
   "execution_count": null,
   "metadata": {},
   "outputs": [],
   "source": [
    "minimal_grid.coordinates.reshape(3,2*2*2).T"
   ]
  },
  {
   "cell_type": "code",
   "execution_count": null,
   "metadata": {},
   "outputs": [],
   "source": [
    "minimal_grid.coordinates[:,0,0,0]"
   ]
  },
  {
   "cell_type": "code",
   "execution_count": null,
   "metadata": {},
   "outputs": [],
   "source": [
    "minimal_grid.coordinates[:,0,0,1]"
   ]
  },
  {
   "cell_type": "code",
   "execution_count": null,
   "metadata": {},
   "outputs": [],
   "source": [
    "grid = minimal_grid\n",
    "#\n",
    "def plot_boundaries_xy(grid):\n",
    "    # cell boundaries\n",
    "    v0 = np.zeros(2)\n",
    "    v1 = grid.cell[0,:2]\n",
    "    v2 = grid.cell[1,:2]\n",
    "    v3 = grid.cell[0,:2] + grid.cell[1,:2]\n",
    "    plt.plot([v0[0],v1[0]],[v0[1],v1[1]],':',color='tab:blue')\n",
    "    plt.plot([v0[0],v2[0]],[v0[1],v2[1]],':',color='tab:blue')\n",
    "    plt.plot([v1[0],v3[0]],[v1[1],v3[1]],':',color='tab:blue')\n",
    "    plt.plot([v2[0],v3[0]],[v2[1],v3[1]],':',color='tab:blue')\n",
    "\n",
    "def plot_gridpoints_xy(grid):\n",
    "    # gridpoints and their periodic images\n",
    "    v0 = np.zeros(2)\n",
    "    v1 = grid.cell[0,:2]\n",
    "    v2 = grid.cell[1,:2]\n",
    "    v3 = grid.cell[0,:2] + grid.cell[1,:2]\n",
    "    plt.scatter(grid.coordinates[0,:,:,0],grid.coordinates[1,:,:,0],color='tab:red')\n",
    "    # some periodic images of the gripoints\n",
    "    plt.scatter(grid.coordinates[0,:,:,0]+v1[0],grid.coordinates[1,:,:,0]+v1[1],color='tab:red',alpha=0.2)\n",
    "    plt.scatter(grid.coordinates[0,:,:,0]+v2[0],grid.coordinates[1,:,:,0]+v2[1],color='tab:red',alpha=0.2)\n",
    "    plt.scatter(grid.coordinates[0,:,:,0]+v3[0],grid.coordinates[1,:,:,0]+v3[1],color='tab:red',alpha=0.2)\n",
    "    plt.scatter(grid.coordinates[0,:,:,0]-v1[0],grid.coordinates[1,:,:,0]-v1[1],color='tab:red',alpha=0.2)\n",
    "    plt.scatter(grid.coordinates[0,:,:,0]-v2[0],grid.coordinates[1,:,:,0]-v2[1],color='tab:red',alpha=0.2)\n",
    "    plt.scatter(grid.coordinates[0,:,:,0]-v3[0],grid.coordinates[1,:,:,0]-v3[1],color='tab:red',alpha=0.2)\n",
    "    plt.scatter(grid.coordinates[0,:,:,0]+v2[0]-v1[0],grid.coordinates[1,:,:,0]+v2[1]-v1[1],color='tab:red',alpha=0.2)\n",
    "    plt.scatter(grid.coordinates[0,:,:,0]+v1[0]-v2[0],grid.coordinates[1,:,:,0]+v1[1]-v2[1],color='tab:red',alpha=0.2)\n",
    "\n",
    "def plot_corners_xy(grid,scale):\n",
    "    # corners\n",
    "    corners_origin = np.array([[0.,0.],[0.,0.],[0.,0.]])\n",
    "    plt.quiver(corners_origin[:,0],corners_origin[:,1],grid.corners[grid.corners[:,2]==0][1:,0],grid.corners[grid.corners[:,2]==0][1:,1],color='tab:orange',scale=scale)\n",
    "\n",
    "def plot_origin_xy(grid,origin):\n",
    "    # origin and its periodic images\n",
    "    v0 = np.zeros(2)\n",
    "    v1 = grid.cell[0,:2]\n",
    "    v2 = grid.cell[1,:2]\n",
    "    v3 = grid.cell[0,:2] + grid.cell[1,:2]\n",
    "    plt.scatter(origin[0],origin[1],color='tab:blue')\n",
    "    plt.scatter(origin[0]+v1[0],origin[1]+v1[1],color='tab:blue',alpha=0.2)\n",
    "    plt.scatter(origin[0]+v2[0],origin[1]+v2[1],color='tab:blue',alpha=0.2)\n",
    "    plt.scatter(origin[0]+v3[0],origin[1]+v3[1],color='tab:blue',alpha=0.2)\n",
    "    plt.scatter(origin[0]-v1[0],origin[1]-v1[1],color='tab:blue',alpha=0.2)\n",
    "    plt.scatter(origin[0]-v2[0],origin[1]-v2[1],color='tab:blue',alpha=0.2)\n",
    "    plt.scatter(origin[0]-v3[0],origin[1]-v3[1],color='tab:blue',alpha=0.2)\n",
    "    plt.scatter(origin[0]+v2[0]-v1[0],origin[1]+v2[1]-v1[1],color='tab:blue',alpha=0.2)\n",
    "    plt.scatter(origin[0]+v1[0]-v2[0],origin[1]+v1[1]-v2[1],color='tab:blue',alpha=0.2)\n",
    "\n",
    "\n",
    "def plot_minimal_cell_xy(grid,origin=np.zeros(3),plot_corners=False):\n",
    "    fig, ax = plt.subplots()\n",
    "    ax.set_aspect('equal', 'box')\n",
    "    ax.set_xlim(-1.1,1.6)\n",
    "    ax.set_ylim(-1.1,1.6)\n",
    "    #\n",
    "    plot_boundaries_xy(grid)\n",
    "    #\n",
    "    plot_gridpoints_xy(grid)\n",
    "    # corners\n",
    "    if plot_corners : plot_corners_xy(grid,2.7)\n",
    "    # random point\n",
    "    if origin.any() : plot_origin_xy(grid,origin)\n",
    "\n",
    "plot_minimal_cell_xy(grid,plot_corners=True)\n",
    "plt.show()\n"
   ]
  },
  {
   "cell_type": "code",
   "execution_count": null,
   "metadata": {},
   "outputs": [],
   "source": [
    "origin = np.array([0.9, 0.2, 0.0])"
   ]
  },
  {
   "cell_type": "code",
   "execution_count": null,
   "metadata": {},
   "outputs": [],
   "source": [
    "r = grid.coordinates - origin[:, np.newaxis, np.newaxis, np.newaxis]\n",
    "print(r.reshape(3,8).T)"
   ]
  },
  {
   "cell_type": "code",
   "execution_count": null,
   "metadata": {},
   "outputs": [],
   "source": [
    "plot_minimal_cell_xy(grid,origin)\n",
    "#\n",
    "origin_xy = grid.coordinates[:,:,:,0].reshape(3,4).T[:,:2]\n",
    "r0_xy = -r[:,:,:,0].reshape(3,4).T[:,:2]\n",
    "plt.quiver(origin_xy[:,0],origin_xy[:,1], r0_xy[:,0], r0_xy[:,1], color='tab:green', scale=2.8)\n",
    "plt.show()"
   ]
  },
  {
   "cell_type": "code",
   "execution_count": null,
   "metadata": {},
   "outputs": [],
   "source": [
    "reciprocal_lattice = grid.reciprocal()\n",
    "print(reciprocal_lattice)"
   ]
  },
  {
   "cell_type": "code",
   "execution_count": null,
   "metadata": {},
   "outputs": [],
   "source": [
    "s = np.einsum('lijk,ml->mijk', r, reciprocal_lattice)\n",
    "s -= np.floor(s)\n",
    "r = np.einsum('lm,lijk->mijk', grid.cell, s)"
   ]
  },
  {
   "cell_type": "code",
   "execution_count": null,
   "metadata": {},
   "outputs": [],
   "source": [
    "plot_minimal_cell_xy(grid,origin,plot_corners=True)\n",
    "#\n",
    "origin_xy = grid.coordinates[:,:,:,0].reshape(3,4).T[:,:2]\n",
    "r_xy = -r[:,:,:,0].reshape(3,4).T[:,:2]\n",
    "plt.quiver(origin_xy[:,0],origin_xy[:,1], r_xy[:,0], r_xy[:,1], color='tab:green', scale=2.8)\n",
    "plt.quiver(origin_xy[:,0],origin_xy[:,1], r0_xy[:,0], r0_xy[:,1], color='tab:green', scale=2.8, alpha=0.3)\n",
    "plt.show()"
   ]
  },
  {
   "cell_type": "code",
   "execution_count": null,
   "metadata": {},
   "outputs": [],
   "source": [
    "rmin = r\n",
    "r2min = np.einsum('i...,i...', r, r)\n",
    "t = r\n",
    "for corner in grid.corners[1:]: \n",
    "    r = t + corner[:,np.newaxis,np.newaxis,np.newaxis]\n",
    "    r2 = np.einsum('i...,i...', r, r)\n",
    "    mask = r2 < r2min\n",
    "    rmin = np.where(mask[np.newaxis, :, :, :], r, rmin)\n",
    "    r2min = np.where(mask, r2, r2min)\n"
   ]
  },
  {
   "cell_type": "code",
   "execution_count": null,
   "metadata": {},
   "outputs": [],
   "source": [
    "plot_minimal_cell_xy(grid,origin)\n",
    "#\n",
    "origin_xy = grid.coordinates[:,:,:,0].reshape(3,4).T[:,:2]\n",
    "r_xy = -rmin[:,:,:,0].reshape(3,4).T[:,:2]\n",
    "plt.quiver(origin_xy[:,0],origin_xy[:,1], r_xy[:,0], r_xy[:,1], color='tab:green', scale=2.8)\n",
    "plt.quiver(origin_xy[:,0],origin_xy[:,1], r0_xy[:,0], r0_xy[:,1], color='tab:green', scale=2.8, alpha=0.3)\n",
    "plt.show()"
   ]
  },
  {
   "cell_type": "code",
   "execution_count": null,
   "metadata": {},
   "outputs": [],
   "source": [
    "r = grid.coordinates - origin[:, np.newaxis, np.newaxis, np.newaxis]\n",
    "s = np.einsum('lijk,ml->mijk', r, reciprocal_lattice)\n",
    "s -= np.rint(s)\n",
    "r = np.einsum('lm,lijk->mijk', grid.cell, s)\n",
    "#\n",
    "plot_minimal_cell_xy(grid,origin)\n",
    "#\n",
    "origin_xy = grid.coordinates[:,:,:,0].reshape(3,4).T[:,:2]\n",
    "r_xy = -r[:,:,:,0].reshape(3,4).T[:,:2]\n",
    "plt.quiver(origin_xy[:,0],origin_xy[:,1], r_xy[:,0], r_xy[:,1], color='tab:green', scale=2.8)\n",
    "plt.show()"
   ]
  },
  {
   "cell_type": "code",
   "execution_count": null,
   "metadata": {},
   "outputs": [],
   "source": [
    "dim = 1 # line passing throught the origin\n",
    "axis = 1 # oriented along the i-th axis, i = 0, 1, 2\n",
    "origin = np.array([0.9, 0.2, 0.0])"
   ]
  },
  {
   "cell_type": "code",
   "execution_count": null,
   "metadata": {},
   "outputs": [],
   "source": [
    "r = grid.coordinates - origin[:, np.newaxis, np.newaxis, np.newaxis]\n",
    "s = np.einsum('lijk,ml->mijk', r, reciprocal_lattice)\n",
    "s -= np.floor(s)\n",
    "r = np.einsum('lm,lijk->mijk', grid.cell, s)\n",
    "\n",
    "# determines the direction of the line\n",
    "n = grid.cell[axis,:]\n",
    "# removes the component directed along n\n",
    "r = r - np.einsum('jkl,i->ijkl',np.einsum('ijkl,i->jkl',r,n),n)\n",
    "\n",
    "# pre-corner-check results\n",
    "rmin = r\n",
    "r2min = np.einsum('i...,i...', r, r)\n",
    "\n",
    "# check against corner shifts\n",
    "t = r\n",
    "for corner in grid.corners[1:]:\n",
    "    r = t + corner[:,np.newaxis,np.newaxis,np.newaxis]\n",
    "    r = r - np.einsum('jkl,i->ijkl',np.einsum('ijkl,i->jkl',r,n),n)\n",
    "    r2 = np.einsum('i...,i...', r, r)\n",
    "    mask = r2 < r2min\n",
    "    rmin = np.where(mask[np.newaxis, :, :, :], r, rmin)\n",
    "    r2min = np.where(mask, r2, r2min)"
   ]
  },
  {
   "cell_type": "code",
   "execution_count": null,
   "metadata": {},
   "outputs": [],
   "source": [
    "plot_minimal_cell_xy(grid,origin)\n",
    "#\n",
    "origin_xy = grid.coordinates[:,:,:,0].reshape(3,4).T[:,:2]\n",
    "r_xy = -rmin[:,:,:,0].reshape(3,4).T[:,:2]\n",
    "plt.quiver(origin_xy[:,0],origin_xy[:,1], r_xy[:,0], r_xy[:,1], color='tab:green', scale=2.8)\n",
    "plt.axvline(x=origin[0], color='tab:blue', linestyle=(0, (5,1)))\n",
    "plt.axvline(x=origin[0]-1., color='tab:blue', linestyle=(0, (5,1)),alpha=0.3)\n",
    "plt.show()"
   ]
  },
  {
   "cell_type": "markdown",
   "metadata": {},
   "source": [
    "## Hexagonal Cell"
   ]
  },
  {
   "cell_type": "code",
   "execution_count": null,
   "metadata": {},
   "outputs": [],
   "source": [
    "at = np.eye(3) * 1\n",
    "at[1, 0] = 0.5\n",
    "at[1, 1] *= np.sqrt(3) * 0.5\n",
    "nr = np.array([2, 2, 2])\n",
    "hexagonal_cell = Grid(cell=at, scalars=nr)"
   ]
  },
  {
   "cell_type": "code",
   "execution_count": null,
   "metadata": {},
   "outputs": [],
   "source": [
    "print(hexagonal_cell.cell)"
   ]
  },
  {
   "cell_type": "code",
   "execution_count": null,
   "metadata": {},
   "outputs": [],
   "source": [
    "print(hexagonal_cell.volume)"
   ]
  },
  {
   "cell_type": "code",
   "execution_count": null,
   "metadata": {},
   "outputs": [],
   "source": [
    "print(hexagonal_cell.reciprocal())"
   ]
  },
  {
   "cell_type": "code",
   "execution_count": null,
   "metadata": {},
   "outputs": [],
   "source": [
    "print(\"The first axis vector is {}\".format(hexagonal_cell.cell[0,:]))\n",
    "print(\"The second axis vector is {}\".format(hexagonal_cell.cell[1,:]))\n",
    "print(\"The third axis vector is {}\".format(hexagonal_cell.cell[2,:]))"
   ]
  },
  {
   "cell_type": "code",
   "execution_count": null,
   "metadata": {},
   "outputs": [],
   "source": [
    "grid = hexagonal_cell\n",
    "#\n",
    "def plot_hexagonal_cell_xy(grid,origin=np.zeros(3),plot_corners=False):\n",
    "    fig, ax = plt.subplots()\n",
    "    ax.set_aspect('equal', 'box')\n",
    "    ax.set_xlim(-1.7,2.6)\n",
    "    ax.set_ylim(-1.1,1.6)\n",
    "    plot_boundaries_xy(grid)\n",
    "    #\n",
    "    plot_boundaries_xy(grid)\n",
    "    #\n",
    "    plot_gridpoints_xy(grid)\n",
    "    # corners\n",
    "    if plot_corners : plot_corners_xy(grid,4.3)\n",
    "    # random point\n",
    "    if origin.any() : plot_origin_xy(grid,origin)\n",
    "    # gridpoints\n",
    "    ax.scatter(grid.coordinates[0,:,:,0],grid.coordinates[1,:,:,0],color='tab:red')\n",
    "\n",
    "plot_hexagonal_cell_xy(grid,plot_corners=True)\n",
    "plt.show()"
   ]
  },
  {
   "cell_type": "code",
   "execution_count": null,
   "metadata": {},
   "outputs": [],
   "source": [
    "hexagonal_cell.coordinates.reshape(3,2*2*2).T"
   ]
  },
  {
   "cell_type": "code",
   "execution_count": null,
   "metadata": {},
   "outputs": [],
   "source": [
    "mesh: npt.NDArray[np.float64] = np.mgrid[0 : 2, 0 : 2, 0 : 2]"
   ]
  },
  {
   "cell_type": "code",
   "execution_count": null,
   "metadata": {},
   "outputs": [],
   "source": [
    "mesh.reshape(3,8).T"
   ]
  },
  {
   "cell_type": "code",
   "execution_count": null,
   "metadata": {},
   "outputs": [],
   "source": [
    "basis = hexagonal_cell.cell / np.array([2,2,2])"
   ]
  },
  {
   "cell_type": "code",
   "execution_count": null,
   "metadata": {},
   "outputs": [],
   "source": [
    "basis"
   ]
  },
  {
   "cell_type": "code",
   "execution_count": null,
   "metadata": {},
   "outputs": [],
   "source": [
    "np.einsum(\"ij,jklm->iklm\", basis.T, mesh).reshape(3,8).T"
   ]
  },
  {
   "cell_type": "code",
   "execution_count": null,
   "metadata": {},
   "outputs": [],
   "source": [
    "origin = np.array([1.1,0.1,0.])"
   ]
  },
  {
   "cell_type": "code",
   "execution_count": null,
   "metadata": {},
   "outputs": [],
   "source": [
    "r = grid.coordinates - origin[:, np.newaxis, np.newaxis, np.newaxis]\n",
    "reciprocal_lattice = grid.reciprocal() \n",
    "s = np.einsum('lijk,ml->mijk', r, reciprocal_lattice)\n",
    "s -= np.rint(s)\n",
    "r = np.einsum('lm,lijk->mijk', grid.cell, s)\n",
    "#\n",
    "plot_hexagonal_cell_xy(grid,origin)\n",
    "#\n",
    "origin_xy = grid.coordinates[:,:,:,0].reshape(3,4).T[:,:2]\n",
    "r_xy = -r[:,:,:,0].reshape(3,4).T[:,:2]\n",
    "plt.quiver(origin_xy[:,0],origin_xy[:,1], r_xy[:,0], r_xy[:,1], color='tab:green', scale=4.5)\n",
    "plt.show()"
   ]
  },
  {
   "cell_type": "code",
   "execution_count": null,
   "metadata": {},
   "outputs": [],
   "source": [
    "dr,dr2 = grid.get_min_distance(origin)\n",
    "#\n",
    "plot_hexagonal_cell_xy(grid,origin)\n",
    "#\n",
    "origin_xy = grid.coordinates[:,:,:,0].reshape(3,4).T[:,:2]\n",
    "r_xy = -dr[:,:,:,0].reshape(3,4).T[:,:2]\n",
    "plt.quiver(origin_xy[:,0],origin_xy[:,1], r_xy[:,0], r_xy[:,1], color='tab:green', scale=4.5)\n",
    "plt.show()"
   ]
  },
  {
   "cell_type": "code",
   "execution_count": null,
   "metadata": {},
   "outputs": [],
   "source": [
    "dr.reshape(3,8).T"
   ]
  },
  {
   "cell_type": "code",
   "execution_count": null,
   "metadata": {},
   "outputs": [],
   "source": [
    "origin = np.array([0.35,0.2,0.])\n",
    "dr,dr2 = grid.get_min_distance(origin,dim=1,axis=1)\n",
    "#\n",
    "plot_hexagonal_cell_xy(grid,origin)\n",
    "#\n",
    "origin_xy = grid.coordinates[:,:,:,0].reshape(3,4).T[:,:2]\n",
    "r_xy = -dr[:,:,:,0].reshape(3,4).T[:,:2]\n",
    "plt.quiver(origin_xy[:,0],origin_xy[:,1], r_xy[:,0], r_xy[:,1], color='tab:green', scale=4.5)\n",
    "x = np.linspace(-1,2,100)\n",
    "y = origin[1] + (x - origin[0]) * np.sqrt(3)\n",
    "plt.plot(x,y,linestyle=(0, (5,1)))\n",
    "plt.show()"
   ]
  }
 ],
 "metadata": {
  "kernelspec": {
   "display_name": "Python 3",
   "language": "python",
   "name": "python3"
  },
  "language_info": {
   "codemirror_mode": {
    "name": "ipython",
    "version": 3
   },
   "file_extension": ".py",
   "mimetype": "text/x-python",
   "name": "python",
   "nbconvert_exporter": "python",
   "pygments_lexer": "ipython3"
  }
 },
 "nbformat": 4,
 "nbformat_minor": 2
}
