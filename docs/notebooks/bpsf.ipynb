{
 "cells": [
  {
   "cell_type": "markdown",
   "metadata": {},
   "source": [
    "# Test Notebook for Contact Space Characterization with Behler-Parrinello Descriptors"
   ]
  },
  {
   "cell_type": "markdown",
   "metadata": {},
   "source": [
    "## 1. Maps Generation from Input"
   ]
  },
  {
   "cell_type": "code",
   "execution_count": null,
   "metadata": {},
   "outputs": [],
   "source": [
    "from mapsy.maps import MapsFromFile"
   ]
  },
  {
   "cell_type": "markdown",
   "metadata": {},
   "source": [
    "Create maps object"
   ]
  },
  {
   "cell_type": "code",
   "execution_count": null,
   "metadata": {},
   "outputs": [],
   "source": [
    "mos2_defect_bpsf = MapsFromFile('./input-files/bpsf.yaml')"
   ]
  },
  {
   "cell_type": "markdown",
   "metadata": {},
   "source": [
    "Compute maps on the contact space"
   ]
  },
  {
   "cell_type": "code",
   "execution_count": null,
   "metadata": {},
   "outputs": [],
   "source": [
    "maps = mos2_defect_bpsf.atcontactspace()"
   ]
  },
  {
   "cell_type": "markdown",
   "metadata": {},
   "source": [
    "The resulting maps contain the position of the points, their probability, and the descriptors values"
   ]
  },
  {
   "cell_type": "code",
   "execution_count": null,
   "metadata": {},
   "outputs": [],
   "source": [
    "maps"
   ]
  },
  {
   "cell_type": "markdown",
   "metadata": {},
   "source": [
    "We can convert the maps to volumetric data and visualize it"
   ]
  },
  {
   "cell_type": "code",
   "execution_count": null,
   "metadata": {},
   "outputs": [],
   "source": [
    "from mapsy.data import VolumetricField\n",
    "index: int = 12\n",
    "volumetric: VolumetricField = mos2_defect_bpsf.tovolumetric(maps.iloc[:,index])\n",
    "volumetric.plotprojections([4.9,6.2,5.5])"
   ]
  },
  {
   "cell_type": "markdown",
   "metadata": {},
   "source": [
    "We can select features based on their standard deviation"
   ]
  },
  {
   "cell_type": "code",
   "execution_count": null,
   "metadata": {},
   "outputs": [],
   "source": [
    "features = maps.drop(columns=['x','y','z'])\n",
    "features = features[features.columns[(features.std()>5.e-1)]]\n",
    "features"
   ]
  },
  {
   "cell_type": "markdown",
   "metadata": {},
   "source": [
    "We can compute symmetry functions on arbitrary points by passing the coordinates to the `.atpoints()` method of the maps object"
   ]
  },
  {
   "cell_type": "code",
   "execution_count": null,
   "metadata": {},
   "outputs": [],
   "source": [
    "mos2_defect_bpsf.atpoints([[0.,0.,0.]])"
   ]
  },
  {
   "cell_type": "markdown",
   "metadata": {},
   "source": [
    "## 2. Maps Generation from Input Components"
   ]
  },
  {
   "cell_type": "markdown",
   "metadata": {},
   "source": [
    "This reads the input file"
   ]
  },
  {
   "cell_type": "code",
   "execution_count": null,
   "metadata": {},
   "outputs": [],
   "source": [
    "from mapsy.io.input import Input\n",
    "input: Input = Input('./bpsf.yaml')"
   ]
  },
  {
   "cell_type": "markdown",
   "metadata": {},
   "source": [
    "Read the system"
   ]
  },
  {
   "cell_type": "code",
   "execution_count": null,
   "metadata": {},
   "outputs": [],
   "source": [
    "from mapsy.io import SystemParser\n",
    "from mapsy.data import System\n",
    "mos2_defect: System = SystemParser(input.system).parse()"
   ]
  },
  {
   "cell_type": "markdown",
   "metadata": {},
   "source": [
    "Read the symmetry functions"
   ]
  },
  {
   "cell_type": "code",
   "execution_count": null,
   "metadata": {},
   "outputs": [],
   "source": [
    "from mapsy.symfunc.parser import SymmetryFunctionsParser\n",
    "from mapsy.symfunc import SymmetryFunction\n",
    "symmetryfunctions: list[SymmetryFunction] = SymmetryFunctionsParser(input.symmetryfunctions).parse()"
   ]
  },
  {
   "cell_type": "markdown",
   "metadata": {},
   "source": [
    "Read the contact space"
   ]
  },
  {
   "cell_type": "code",
   "execution_count": null,
   "metadata": {},
   "outputs": [],
   "source": [
    "from mapsy.io.parser import ContactSpaceGenerator\n",
    "from mapsy.boundaries import ContactSpace\n",
    "contactspace: ContactSpace = ContactSpaceGenerator(input.contactspace).generate(mos2_defect)"
   ]
  },
  {
   "cell_type": "markdown",
   "metadata": {},
   "source": [
    "Create `Maps` object"
   ]
  },
  {
   "cell_type": "code",
   "execution_count": null,
   "metadata": {},
   "outputs": [],
   "source": [
    "from mapsy.maps import Maps\n",
    "mos2_defect_bpsf: Maps = Maps(mos2_defect,symmetryfunctions,contactspace)"
   ]
  },
  {
   "cell_type": "code",
   "execution_count": null,
   "metadata": {},
   "outputs": [],
   "source": [
    "mos2_defect_bpsf.atpoints([[0.,0.,0.]])"
   ]
  },
  {
   "cell_type": "markdown",
   "metadata": {},
   "source": [
    "## 3. Manual Generation of Components: System\n",
    "We can generate the system under study by reading an `xyz+` or a `cube` file. "
   ]
  },
  {
   "cell_type": "markdown",
   "metadata": {},
   "source": [
    "Use the `mapsy.io.parser` module to parse the modified xyz file with the atomic positions in units of alat"
   ]
  },
  {
   "cell_type": "code",
   "execution_count": null,
   "metadata": {},
   "outputs": [],
   "source": [
    "from mapsy.io import XYZParser\n",
    "from mapsy.data import System\n",
    "system: System = XYZParser('../examples/bp/MoS2_defect.xyz', units='alat').systemparse()"
   ]
  },
  {
   "cell_type": "code",
   "execution_count": null,
   "metadata": {},
   "outputs": [],
   "source": [
    "system.atoms"
   ]
  },
  {
   "cell_type": "markdown",
   "metadata": {},
   "source": [
    "while for a `cube` file we can use the corresponding parser"
   ]
  },
  {
   "cell_type": "code",
   "execution_count": null,
   "metadata": {},
   "outputs": [],
   "source": [
    "from mapsy.io import CubeParser\n",
    "from mapsy.data import System\n",
    "system: System = CubeParser('../examples/cubefiles/fukui_negative_defect.cube').systemparse()"
   ]
  },
  {
   "cell_type": "code",
   "execution_count": null,
   "metadata": {},
   "outputs": [],
   "source": [
    "system.atoms"
   ]
  },
  {
   "cell_type": "markdown",
   "metadata": {},
   "source": [
    "We can adjust the components that are not set automatically"
   ]
  },
  {
   "cell_type": "code",
   "execution_count": null,
   "metadata": {},
   "outputs": [],
   "source": [
    "system.dimension = 2 # 2D system\n",
    "system.axis = 2 # 0: X, 1: Y, 2: Z (for 2D system this is the axis perpendicular to the system's plane)"
   ]
  },
  {
   "cell_type": "markdown",
   "metadata": {},
   "source": [
    "We can create a `Mapsy.system` also from an `Ase.Atom` object and a `Mapsy.Grid`"
   ]
  },
  {
   "cell_type": "code",
   "execution_count": null,
   "metadata": {},
   "outputs": [],
   "source": [
    "from ase import Atoms\n",
    "from ase.build import mx2\n",
    "atoms: Atoms = mx2('MoS2', '2H', a = 3.18, size = (2,2,1), vacuum = 15)"
   ]
  },
  {
   "cell_type": "code",
   "execution_count": null,
   "metadata": {},
   "outputs": [],
   "source": [
    "from mapsy.data import Grid\n",
    "grid: Grid = Grid(cell=atoms.cell)"
   ]
  },
  {
   "cell_type": "code",
   "execution_count": null,
   "metadata": {},
   "outputs": [],
   "source": [
    "from mapsy.data import System\n",
    "system: System = System(grid, atoms)"
   ]
  },
  {
   "cell_type": "code",
   "execution_count": null,
   "metadata": {},
   "outputs": [],
   "source": [
    "system.atoms"
   ]
  },
  {
   "cell_type": "markdown",
   "metadata": {},
   "source": [
    "## 4. Manual Generation of Components: Symmetry Functions\n"
   ]
  },
  {
   "cell_type": "markdown",
   "metadata": {},
   "source": [
    "We can create symmetry functions using the BP constructor and passing the relevant parameters. "
   ]
  },
  {
   "cell_type": "code",
   "execution_count": null,
   "metadata": {},
   "outputs": [],
   "source": [
    "from mapsy.symfunc import BPSymmetryFunction\n",
    "symmetryfunctions: list[BPSymmetryFunction] = []\n",
    "for order in range(1,4):\n",
    "    bpsf = BPSymmetryFunction(order = order, radius=5, cutofftype='cos', etas=[0.03, 3.], rss=[0., 0.], lambdas=[1., -1.], kappas=[1, 2, 4, 8])\n",
    "    symmetryfunctions.append(bpsf)"
   ]
  },
  {
   "cell_type": "markdown",
   "metadata": {},
   "source": [
    "`System` and `SymmetryFunction` are the only components strictly needed to compute features at arbitrary points. We can define a `Maps` instance from these and use its `atpoints()` method"
   ]
  },
  {
   "cell_type": "code",
   "execution_count": null,
   "metadata": {},
   "outputs": [],
   "source": [
    "system: System = SystemParser(input.system).parse()\n",
    "mos2_defect_bpsf = Maps(system,symmetryfunctions)\n",
    "mos2_defect_bpsf.atpoints([[0.,0.,0.]])"
   ]
  },
  {
   "cell_type": "markdown",
   "metadata": {},
   "source": [
    "## 5. Manual Generation of Components: Contact Space\n",
    "If we want to compute maps on the contact space, we need to also define this component."
   ]
  },
  {
   "cell_type": "markdown",
   "metadata": {},
   "source": [
    "Reload the system to keep it consistent with first test. NOTE: in order for the SystemBoundary to generate an interface with the correct dimensionality (i.e. a 2D planar interface for our 2D material), we need to make sure to add the `system.dimension` and `system.axis` components to our `MapSy.System` instance."
   ]
  },
  {
   "cell_type": "code",
   "execution_count": null,
   "metadata": {},
   "outputs": [],
   "source": [
    "from mapsy.io import XYZParser\n",
    "from mapsy.data import System\n",
    "system: System = XYZParser('../examples/bp/MoS2_defect.xyz', units='alat').systemparse()\n",
    "system.dimension = 2 # 2D system\n",
    "system.axis = 2 # 0: X, 1: Y, 2: Z (for 2D system this is the axis perpendicular to the system's plane)"
   ]
  },
  {
   "cell_type": "markdown",
   "metadata": {},
   "source": [
    "Before creating the boundary and the contact space, we need to decide the resolution of the grid used for the contact space. This follows the same convention as Quantum Espresso, with a cutoff in Ry associated with the kinetic energy of the plane waves used for the Fourier expansion. NOTE: the grid dimensions (`scalars`) are determined according to the system cell. "
   ]
  },
  {
   "cell_type": "code",
   "execution_count": null,
   "metadata": {},
   "outputs": [],
   "source": [
    "from mapsy.utils import setscalars\n",
    "cutoff = 10 # reciprocal space cutoff in Ry (same convetion as QE)\n",
    "scalars = setscalars(system.grid.cell,cutoff)\n",
    "print(scalars)"
   ]
  },
  {
   "cell_type": "code",
   "execution_count": null,
   "metadata": {},
   "outputs": [],
   "source": [
    "from mapsy.data import Grid\n",
    "contactspacegrid = Grid(scalars=scalars,cell=system.grid.cell)"
   ]
  },
  {
   "cell_type": "markdown",
   "metadata": {},
   "source": [
    "Before creating a `ContactSpace` instance, we need to specify the type of boundary, choosing between a simple interface or a soft-sphere one. The following command generates a soft-sphere interface, with radii according to the UFF defintion, scaled by a factor `alpha` and with a softness of 1."
   ]
  },
  {
   "cell_type": "code",
   "execution_count": null,
   "metadata": {},
   "outputs": [],
   "source": [
    "from mapsy.boundaries import IonicBoundary\n",
    "boundary = IonicBoundary(mode = 'muff', grid=contactspacegrid, alpha=1.12, softness=1.0, system = system, label='ionic')"
   ]
  },
  {
   "cell_type": "markdown",
   "metadata": {},
   "source": [
    "For a simplified boundary centered on the system we could use (since the system is two-dimensional, this will generate a flat 2D interface)"
   ]
  },
  {
   "cell_type": "code",
   "execution_count": null,
   "metadata": {},
   "outputs": [],
   "source": [
    "from mapsy.boundaries import SystemBoundary\n",
    "boundary = SystemBoundary(mode = 'system', grid=contactspacegrid, distance = 3, spread = 1, system = system, label='system')"
   ]
  },
  {
   "cell_type": "code",
   "execution_count": null,
   "metadata": {},
   "outputs": [],
   "source": [
    "boundary.update()"
   ]
  },
  {
   "cell_type": "markdown",
   "metadata": {},
   "source": [
    "Given the boundary, we can create a `ContactSpace` by specifying the threshold on the modulus of the gradient that defines the contact space points. By default this threshold is set to 0.1, i.e., only points for which the modulus of the gradient of the boundary is larger than 0.1 (in internal units) will be included in the contact space points. "
   ]
  },
  {
   "cell_type": "code",
   "execution_count": null,
   "metadata": {},
   "outputs": [],
   "source": [
    "from mapsy.boundaries import ContactSpace\n",
    "contactspace = ContactSpace(boundary, 0.1)"
   ]
  }
 ],
 "metadata": {
  "kernelspec": {
   "display_name": "Python 3",
   "language": "python",
   "name": "python3"
  },
  "language_info": {
   "codemirror_mode": {
    "name": "ipython",
    "version": 3
   },
   "file_extension": ".py",
   "mimetype": "text/x-python",
   "name": "python",
   "nbconvert_exporter": "python",
   "pygments_lexer": "ipython3"
  }
 },
 "nbformat": 4,
 "nbformat_minor": 2
}
